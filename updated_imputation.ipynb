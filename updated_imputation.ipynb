{
 "cells": [
  {
   "cell_type": "markdown",
   "id": "572d27c5",
   "metadata": {},
   "source": [
    "### Using Someshar's work and updating few entries"
   ]
  },
  {
   "cell_type": "code",
   "execution_count": 122,
   "id": "32dfca08",
   "metadata": {},
   "outputs": [
    {
     "name": "stderr",
     "output_type": "stream",
     "text": [
      "Failed to import duecredit due to No module named 'duecredit'\n"
     ]
    }
   ],
   "source": [
    "import pandas as pd\n",
    "import numpy as np\n",
    "import numpy as np\n",
    "from matplotlib import pyplot as plt\n",
    "from sklearn.ensemble import RandomForestRegressor\n",
    "import sklearn.model_selection as xval\n",
    "from sklearn.datasets import fetch_openml\n",
    "import forestci as fci\n",
    "from sklearn import metrics\n",
    "from sklearn.metrics import r2_score\n",
    "import statistics\n",
    "import matplotlib.pyplot as plt"
   ]
  },
  {
   "cell_type": "code",
   "execution_count": 17,
   "id": "ae0e0393",
   "metadata": {},
   "outputs": [
    {
     "data": {
      "text/html": [
       "<div>\n",
       "<style scoped>\n",
       "    .dataframe tbody tr th:only-of-type {\n",
       "        vertical-align: middle;\n",
       "    }\n",
       "\n",
       "    .dataframe tbody tr th {\n",
       "        vertical-align: top;\n",
       "    }\n",
       "\n",
       "    .dataframe thead th {\n",
       "        text-align: right;\n",
       "    }\n",
       "</style>\n",
       "<table border=\"1\" class=\"dataframe\">\n",
       "  <thead>\n",
       "    <tr style=\"text-align: right;\">\n",
       "      <th></th>\n",
       "      <th>Market</th>\n",
       "      <th>Arrivals</th>\n",
       "      <th>Date</th>\n",
       "      <th>Modal_Price</th>\n",
       "      <th>District</th>\n",
       "      <th>Imp_Price</th>\n",
       "      <th>Imp_Arrival</th>\n",
       "      <th>PriceNanFlag</th>\n",
       "      <th>ArrivalNanFlag</th>\n",
       "      <th>latitude</th>\n",
       "      <th>...</th>\n",
       "      <th>Soil_Type</th>\n",
       "      <th>Humidity</th>\n",
       "      <th>Sunlight</th>\n",
       "      <th>Temperature</th>\n",
       "      <th>Avg_Precipitation</th>\n",
       "      <th>Last_Precipitation</th>\n",
       "      <th>Year</th>\n",
       "      <th>Month_name</th>\n",
       "      <th>Day</th>\n",
       "      <th>Month</th>\n",
       "    </tr>\n",
       "  </thead>\n",
       "  <tbody>\n",
       "    <tr>\n",
       "      <th>0</th>\n",
       "      <td>Agra</td>\n",
       "      <td>NaN</td>\n",
       "      <td>01-Jan-2008</td>\n",
       "      <td>NaN</td>\n",
       "      <td>Agra</td>\n",
       "      <td>533.577743</td>\n",
       "      <td>136.448320</td>\n",
       "      <td>True</td>\n",
       "      <td>True</td>\n",
       "      <td>27.25</td>\n",
       "      <td>...</td>\n",
       "      <td>1.999985</td>\n",
       "      <td>53.146736</td>\n",
       "      <td>1.265486e+07</td>\n",
       "      <td>289.903276</td>\n",
       "      <td>3.72529</td>\n",
       "      <td>3.72529</td>\n",
       "      <td>2008</td>\n",
       "      <td>Jan</td>\n",
       "      <td>1</td>\n",
       "      <td>1</td>\n",
       "    </tr>\n",
       "    <tr>\n",
       "      <th>1</th>\n",
       "      <td>Agra</td>\n",
       "      <td>NaN</td>\n",
       "      <td>02-Jan-2008</td>\n",
       "      <td>NaN</td>\n",
       "      <td>Agra</td>\n",
       "      <td>564.358912</td>\n",
       "      <td>141.135159</td>\n",
       "      <td>True</td>\n",
       "      <td>True</td>\n",
       "      <td>27.25</td>\n",
       "      <td>...</td>\n",
       "      <td>1.999985</td>\n",
       "      <td>55.914157</td>\n",
       "      <td>1.211169e+07</td>\n",
       "      <td>289.533809</td>\n",
       "      <td>3.72529</td>\n",
       "      <td>3.72529</td>\n",
       "      <td>2008</td>\n",
       "      <td>Jan</td>\n",
       "      <td>2</td>\n",
       "      <td>1</td>\n",
       "    </tr>\n",
       "    <tr>\n",
       "      <th>2</th>\n",
       "      <td>Agra</td>\n",
       "      <td>NaN</td>\n",
       "      <td>03-Jan-2008</td>\n",
       "      <td>NaN</td>\n",
       "      <td>Agra</td>\n",
       "      <td>562.825324</td>\n",
       "      <td>145.897888</td>\n",
       "      <td>True</td>\n",
       "      <td>True</td>\n",
       "      <td>27.25</td>\n",
       "      <td>...</td>\n",
       "      <td>1.999985</td>\n",
       "      <td>61.595423</td>\n",
       "      <td>1.274031e+07</td>\n",
       "      <td>288.712016</td>\n",
       "      <td>3.72529</td>\n",
       "      <td>3.72529</td>\n",
       "      <td>2008</td>\n",
       "      <td>Jan</td>\n",
       "      <td>3</td>\n",
       "      <td>1</td>\n",
       "    </tr>\n",
       "    <tr>\n",
       "      <th>3</th>\n",
       "      <td>Agra</td>\n",
       "      <td>NaN</td>\n",
       "      <td>04-Jan-2008</td>\n",
       "      <td>NaN</td>\n",
       "      <td>Agra</td>\n",
       "      <td>560.865227</td>\n",
       "      <td>220.000000</td>\n",
       "      <td>True</td>\n",
       "      <td>True</td>\n",
       "      <td>27.25</td>\n",
       "      <td>...</td>\n",
       "      <td>1.999985</td>\n",
       "      <td>59.810162</td>\n",
       "      <td>1.259190e+07</td>\n",
       "      <td>289.971033</td>\n",
       "      <td>3.72529</td>\n",
       "      <td>3.72529</td>\n",
       "      <td>2008</td>\n",
       "      <td>Jan</td>\n",
       "      <td>4</td>\n",
       "      <td>1</td>\n",
       "    </tr>\n",
       "    <tr>\n",
       "      <th>4</th>\n",
       "      <td>Agra</td>\n",
       "      <td>NaN</td>\n",
       "      <td>05-Jan-2008</td>\n",
       "      <td>NaN</td>\n",
       "      <td>Agra</td>\n",
       "      <td>538.705688</td>\n",
       "      <td>218.330750</td>\n",
       "      <td>True</td>\n",
       "      <td>True</td>\n",
       "      <td>27.25</td>\n",
       "      <td>...</td>\n",
       "      <td>1.999985</td>\n",
       "      <td>55.464904</td>\n",
       "      <td>1.240704e+07</td>\n",
       "      <td>291.377191</td>\n",
       "      <td>3.72529</td>\n",
       "      <td>3.72529</td>\n",
       "      <td>2008</td>\n",
       "      <td>Jan</td>\n",
       "      <td>5</td>\n",
       "      <td>1</td>\n",
       "    </tr>\n",
       "  </tbody>\n",
       "</table>\n",
       "<p>5 rows × 21 columns</p>\n",
       "</div>"
      ],
      "text/plain": [
       "  Market  Arrivals         Date  Modal_Price District   Imp_Price  \\\n",
       "0   Agra       NaN  01-Jan-2008          NaN     Agra  533.577743   \n",
       "1   Agra       NaN  02-Jan-2008          NaN     Agra  564.358912   \n",
       "2   Agra       NaN  03-Jan-2008          NaN     Agra  562.825324   \n",
       "3   Agra       NaN  04-Jan-2008          NaN     Agra  560.865227   \n",
       "4   Agra       NaN  05-Jan-2008          NaN     Agra  538.705688   \n",
       "\n",
       "   Imp_Arrival  PriceNanFlag  ArrivalNanFlag  latitude  ...  Soil_Type  \\\n",
       "0   136.448320          True            True     27.25  ...   1.999985   \n",
       "1   141.135159          True            True     27.25  ...   1.999985   \n",
       "2   145.897888          True            True     27.25  ...   1.999985   \n",
       "3   220.000000          True            True     27.25  ...   1.999985   \n",
       "4   218.330750          True            True     27.25  ...   1.999985   \n",
       "\n",
       "    Humidity      Sunlight  Temperature  Avg_Precipitation  \\\n",
       "0  53.146736  1.265486e+07   289.903276            3.72529   \n",
       "1  55.914157  1.211169e+07   289.533809            3.72529   \n",
       "2  61.595423  1.274031e+07   288.712016            3.72529   \n",
       "3  59.810162  1.259190e+07   289.971033            3.72529   \n",
       "4  55.464904  1.240704e+07   291.377191            3.72529   \n",
       "\n",
       "   Last_Precipitation  Year  Month_name Day  Month  \n",
       "0             3.72529  2008         Jan   1      1  \n",
       "1             3.72529  2008         Jan   2      1  \n",
       "2             3.72529  2008         Jan   3      1  \n",
       "3             3.72529  2008         Jan   4      1  \n",
       "4             3.72529  2008         Jan   5      1  \n",
       "\n",
       "[5 rows x 21 columns]"
      ]
     },
     "execution_count": 17,
     "metadata": {},
     "output_type": "execute_result"
    }
   ],
   "source": [
    "df = pd.read_csv('post_impute_environmental_43_markets_2008_2018.csv')\n",
    "df= df.drop(['Unnamed: 0'], axis=1)\n",
    "df.head()"
   ]
  },
  {
   "cell_type": "code",
   "execution_count": 26,
   "id": "c2975ee9",
   "metadata": {},
   "outputs": [],
   "source": [
    "def yearly_nan_count():\n",
    "    yearly_nan ={}\n",
    "    years= df['Year'].unique()\n",
    "    for year in years:\n",
    "        yearly_nan[year]=0\n",
    "\n",
    "    for i in range(df.shape[0]):\n",
    "        if df['PriceNanFlag'][i]:\n",
    "            year = df['Year'][i]\n",
    "            yearly_nan[year]+=1\n",
    "\n",
    "    print(yearly_nan)\n",
    "    \n",
    "\n"
   ]
  },
  {
   "cell_type": "code",
   "execution_count": 28,
   "id": "fc5311f1",
   "metadata": {},
   "outputs": [
    {
     "name": "stdout",
     "output_type": "stream",
     "text": [
      "{2008: 5196, 2009: 5086, 2010: 4324, 2011: 4058, 2012: 4116, 2013: 4983, 2014: 4651, 2015: 4227, 2016: 5435, 2017: 3976, 2018: 2789}\n"
     ]
    }
   ],
   "source": [
    "yearly_nan_count()"
   ]
  },
  {
   "cell_type": "code",
   "execution_count": 32,
   "id": "7f0d1822",
   "metadata": {},
   "outputs": [],
   "source": [
    "def missing_freq_count():\n",
    "    missing_count = [i for i in range(1000)]\n",
    "\n",
    "    missing_count_dict ={}\n",
    "\n",
    "    for i in missing_count:\n",
    "        missing_count_dict[i]=0\n",
    "\n",
    "    flag=False    \n",
    "    for i in range(df.shape[0]):\n",
    "\n",
    "        if df['PriceNanFlag'][i] == True:\n",
    "            if flag:\n",
    "                count+=1\n",
    "            else:\n",
    "                count=1\n",
    "                flag=True\n",
    "\n",
    "        if flag and df['PriceNanFlag'][i] == False:\n",
    "            flag=False\n",
    "            missing_count_dict[count] += 1\n",
    "            count=0\n",
    "    print(missing_count_dict)   "
   ]
  },
  {
   "cell_type": "code",
   "execution_count": 33,
   "id": "e1156900",
   "metadata": {},
   "outputs": [
    {
     "name": "stdout",
     "output_type": "stream",
     "text": [
      "{0: 0, 1: 18305, 2: 3178, 3: 1162, 4: 507, 5: 269, 6: 187, 7: 92, 8: 70, 9: 53, 10: 52, 11: 38, 12: 30, 13: 33, 14: 11, 15: 22, 16: 13, 17: 16, 18: 7, 19: 11, 20: 11, 21: 6, 22: 5, 23: 5, 24: 7, 25: 6, 26: 4, 27: 4, 28: 5, 29: 6, 30: 10, 31: 8, 32: 3, 33: 6, 34: 5, 35: 4, 36: 3, 37: 3, 38: 6, 39: 5, 40: 3, 41: 1, 42: 2, 43: 3, 44: 0, 45: 2, 46: 0, 47: 2, 48: 1, 49: 2, 50: 1, 51: 0, 52: 1, 53: 1, 54: 0, 55: 1, 56: 3, 57: 0, 58: 1, 59: 0, 60: 1, 61: 0, 62: 1, 63: 0, 64: 2, 65: 2, 66: 1, 67: 0, 68: 1, 69: 0, 70: 0, 71: 0, 72: 1, 73: 0, 74: 0, 75: 0, 76: 0, 77: 1, 78: 0, 79: 0, 80: 0, 81: 0, 82: 0, 83: 0, 84: 1, 85: 0, 86: 0, 87: 0, 88: 1, 89: 0, 90: 0, 91: 1, 92: 0, 93: 0, 94: 1, 95: 0, 96: 0, 97: 0, 98: 0, 99: 0, 100: 1, 101: 1, 102: 0, 103: 0, 104: 1, 105: 0, 106: 1, 107: 0, 108: 0, 109: 0, 110: 0, 111: 0, 112: 0, 113: 0, 114: 0, 115: 0, 116: 1, 117: 0, 118: 0, 119: 0, 120: 1, 121: 1, 122: 0, 123: 0, 124: 0, 125: 0, 126: 0, 127: 0, 128: 0, 129: 0, 130: 0, 131: 0, 132: 0, 133: 0, 134: 0, 135: 2, 136: 0, 137: 0, 138: 0, 139: 0, 140: 0, 141: 1, 142: 0, 143: 0, 144: 0, 145: 0, 146: 0, 147: 0, 148: 0, 149: 0, 150: 0, 151: 0, 152: 0, 153: 0, 154: 0, 155: 0, 156: 2, 157: 0, 158: 0, 159: 0, 160: 0, 161: 0, 162: 0, 163: 0, 164: 0, 165: 0, 166: 0, 167: 1, 168: 0, 169: 0, 170: 0, 171: 0, 172: 0, 173: 0, 174: 0, 175: 0, 176: 0, 177: 0, 178: 0, 179: 0, 180: 0, 181: 0, 182: 0, 183: 0, 184: 0, 185: 0, 186: 0, 187: 1, 188: 0, 189: 0, 190: 0, 191: 0, 192: 0, 193: 0, 194: 0, 195: 0, 196: 0, 197: 0, 198: 2, 199: 0, 200: 0, 201: 0, 202: 0, 203: 0, 204: 0, 205: 1, 206: 0, 207: 0, 208: 0, 209: 0, 210: 0, 211: 0, 212: 0, 213: 0, 214: 0, 215: 0, 216: 0, 217: 0, 218: 0, 219: 0, 220: 0, 221: 0, 222: 0, 223: 0, 224: 0, 225: 0, 226: 0, 227: 0, 228: 0, 229: 0, 230: 0, 231: 0, 232: 0, 233: 0, 234: 0, 235: 0, 236: 0, 237: 0, 238: 0, 239: 0, 240: 0, 241: 1, 242: 0, 243: 0, 244: 0, 245: 0, 246: 0, 247: 0, 248: 0, 249: 0, 250: 0, 251: 0, 252: 0, 253: 0, 254: 0, 255: 0, 256: 0, 257: 0, 258: 0, 259: 0, 260: 0, 261: 0, 262: 0, 263: 0, 264: 1, 265: 0, 266: 0, 267: 0, 268: 0, 269: 0, 270: 0, 271: 0, 272: 0, 273: 0, 274: 0, 275: 1, 276: 0, 277: 0, 278: 0, 279: 0, 280: 0, 281: 0, 282: 0, 283: 0, 284: 0, 285: 0, 286: 0, 287: 0, 288: 0, 289: 0, 290: 0, 291: 0, 292: 0, 293: 0, 294: 0, 295: 0, 296: 0, 297: 0, 298: 0, 299: 0, 300: 0, 301: 0, 302: 0, 303: 0, 304: 0, 305: 0, 306: 0, 307: 0, 308: 0, 309: 0, 310: 0, 311: 0, 312: 0, 313: 0, 314: 0, 315: 0, 316: 0, 317: 0, 318: 1, 319: 0, 320: 0, 321: 0, 322: 0, 323: 0, 324: 0, 325: 0, 326: 0, 327: 0, 328: 0, 329: 0, 330: 0, 331: 0, 332: 0, 333: 0, 334: 0, 335: 0, 336: 0, 337: 0, 338: 0, 339: 0, 340: 0, 341: 0, 342: 0, 343: 0, 344: 0, 345: 0, 346: 0, 347: 0, 348: 0, 349: 0, 350: 0, 351: 0, 352: 0, 353: 0, 354: 0, 355: 0, 356: 0, 357: 0, 358: 0, 359: 0, 360: 0, 361: 0, 362: 0, 363: 0, 364: 0, 365: 0, 366: 0, 367: 0, 368: 0, 369: 0, 370: 0, 371: 0, 372: 0, 373: 0, 374: 0, 375: 0, 376: 0, 377: 0, 378: 0, 379: 0, 380: 0, 381: 0, 382: 0, 383: 0, 384: 0, 385: 0, 386: 0, 387: 0, 388: 0, 389: 0, 390: 0, 391: 0, 392: 0, 393: 0, 394: 0, 395: 0, 396: 0, 397: 0, 398: 0, 399: 0, 400: 0, 401: 0, 402: 0, 403: 0, 404: 0, 405: 0, 406: 0, 407: 0, 408: 0, 409: 0, 410: 0, 411: 0, 412: 0, 413: 0, 414: 0, 415: 0, 416: 0, 417: 0, 418: 0, 419: 0, 420: 0, 421: 0, 422: 0, 423: 0, 424: 0, 425: 0, 426: 1, 427: 0, 428: 0, 429: 0, 430: 0, 431: 0, 432: 0, 433: 0, 434: 0, 435: 0, 436: 0, 437: 0, 438: 0, 439: 0, 440: 0, 441: 0, 442: 0, 443: 0, 444: 0, 445: 0, 446: 0, 447: 0, 448: 0, 449: 0, 450: 0, 451: 0, 452: 0, 453: 0, 454: 0, 455: 0, 456: 0, 457: 0, 458: 0, 459: 0, 460: 0, 461: 0, 462: 0, 463: 0, 464: 0, 465: 0, 466: 0, 467: 0, 468: 0, 469: 0, 470: 0, 471: 0, 472: 0, 473: 0, 474: 0, 475: 0, 476: 0, 477: 0, 478: 0, 479: 0, 480: 0, 481: 0, 482: 0, 483: 0, 484: 0, 485: 0, 486: 0, 487: 0, 488: 0, 489: 0, 490: 0, 491: 0, 492: 0, 493: 0, 494: 0, 495: 0, 496: 0, 497: 0, 498: 0, 499: 0, 500: 0, 501: 0, 502: 1, 503: 0, 504: 0, 505: 0, 506: 0, 507: 0, 508: 0, 509: 0, 510: 0, 511: 0, 512: 0, 513: 0, 514: 0, 515: 0, 516: 0, 517: 0, 518: 0, 519: 0, 520: 0, 521: 0, 522: 0, 523: 0, 524: 0, 525: 0, 526: 0, 527: 0, 528: 0, 529: 0, 530: 0, 531: 0, 532: 0, 533: 0, 534: 0, 535: 0, 536: 0, 537: 0, 538: 0, 539: 0, 540: 0, 541: 0, 542: 0, 543: 0, 544: 0, 545: 0, 546: 0, 547: 0, 548: 0, 549: 0, 550: 0, 551: 0, 552: 0, 553: 0, 554: 0, 555: 0, 556: 0, 557: 0, 558: 0, 559: 0, 560: 0, 561: 0, 562: 0, 563: 0, 564: 0, 565: 0, 566: 0, 567: 0, 568: 0, 569: 0, 570: 0, 571: 0, 572: 0, 573: 0, 574: 0, 575: 0, 576: 0, 577: 0, 578: 0, 579: 0, 580: 0, 581: 0, 582: 0, 583: 0, 584: 0, 585: 0, 586: 0, 587: 0, 588: 0, 589: 0, 590: 0, 591: 0, 592: 0, 593: 0, 594: 0, 595: 0, 596: 0, 597: 0, 598: 0, 599: 0, 600: 0, 601: 0, 602: 0, 603: 0, 604: 0, 605: 0, 606: 0, 607: 0, 608: 0, 609: 0, 610: 0, 611: 0, 612: 0, 613: 0, 614: 0, 615: 0, 616: 0, 617: 0, 618: 0, 619: 0, 620: 0, 621: 0, 622: 0, 623: 0, 624: 0, 625: 0, 626: 0, 627: 0, 628: 0, 629: 0, 630: 0, 631: 0, 632: 0, 633: 0, 634: 0, 635: 0, 636: 0, 637: 0, 638: 0, 639: 0, 640: 0, 641: 0, 642: 0, 643: 0, 644: 0, 645: 0, 646: 0, 647: 0, 648: 0, 649: 0, 650: 0, 651: 0, 652: 0, 653: 0, 654: 0, 655: 0, 656: 0, 657: 0, 658: 0, 659: 0, 660: 0, 661: 0, 662: 0, 663: 0, 664: 0, 665: 0, 666: 0, 667: 0, 668: 0, 669: 0, 670: 0, 671: 0, 672: 0, 673: 0, 674: 0, 675: 0, 676: 0, 677: 0, 678: 0, 679: 0, 680: 1, 681: 0, 682: 0, 683: 0, 684: 0, 685: 0, 686: 0, 687: 0, 688: 0, 689: 0, 690: 0, 691: 0, 692: 0, 693: 0, 694: 0, 695: 0, 696: 0, 697: 0, 698: 0, 699: 0, 700: 0, 701: 0, 702: 0, 703: 0, 704: 0, 705: 0, 706: 0, 707: 0, 708: 0, 709: 0, 710: 0, 711: 0, 712: 0, 713: 0, 714: 0, 715: 0, 716: 0, 717: 0, 718: 0, 719: 0, 720: 0, 721: 0, 722: 0, 723: 0, 724: 0, 725: 0, 726: 0, 727: 0, 728: 0, 729: 0, 730: 0, 731: 0, 732: 0, 733: 0, 734: 0, 735: 0, 736: 0, 737: 0, 738: 0, 739: 0, 740: 0, 741: 0, 742: 0, 743: 0, 744: 0, 745: 0, 746: 0, 747: 0, 748: 0, 749: 0, 750: 0, 751: 0, 752: 0, 753: 0, 754: 0, 755: 0, 756: 0, 757: 0, 758: 0, 759: 0, 760: 0, 761: 0, 762: 0, 763: 0, 764: 0, 765: 0, 766: 0, 767: 0, 768: 0, 769: 0, 770: 0, 771: 0, 772: 0, 773: 0, 774: 0, 775: 0, 776: 0, 777: 0, 778: 0, 779: 0, 780: 0, 781: 0, 782: 0, 783: 0, 784: 0, 785: 0, 786: 0, 787: 0, 788: 0, 789: 0, 790: 0, 791: 0, 792: 0, 793: 0, 794: 0, 795: 0, 796: 0, 797: 0, 798: 0, 799: 0, 800: 0, 801: 0, 802: 0, 803: 0, 804: 0, 805: 0, 806: 0, 807: 0, 808: 0, 809: 0, 810: 0, 811: 0, 812: 0, 813: 0, 814: 0, 815: 0, 816: 0, 817: 0, 818: 0, 819: 0, 820: 0, 821: 0, 822: 0, 823: 0, 824: 0, 825: 0, 826: 0, 827: 0, 828: 0, 829: 0, 830: 0, 831: 0, 832: 0, 833: 0, 834: 0, 835: 0, 836: 0, 837: 0, 838: 0, 839: 0, 840: 0, 841: 0, 842: 0, 843: 0, 844: 0, 845: 0, 846: 0, 847: 0, 848: 0, 849: 0, 850: 0, 851: 0, 852: 0, 853: 0, 854: 0, 855: 0, 856: 0, 857: 0, 858: 0, 859: 0, 860: 0, 861: 0, 862: 0, 863: 0, 864: 0, 865: 0, 866: 0, 867: 0, 868: 0, 869: 0, 870: 0, 871: 0, 872: 0, 873: 0, 874: 0, 875: 0, 876: 0, 877: 0, 878: 0, 879: 0, 880: 0, 881: 0, 882: 0, 883: 0, 884: 0, 885: 0, 886: 0, 887: 0, 888: 0, 889: 0, 890: 0, 891: 0, 892: 0, 893: 0, 894: 0, 895: 0, 896: 0, 897: 0, 898: 0, 899: 0, 900: 0, 901: 0, 902: 0, 903: 0, 904: 0, 905: 0, 906: 0, 907: 0, 908: 0, 909: 0, 910: 0, 911: 0, 912: 0, 913: 0, 914: 0, 915: 0, 916: 0, 917: 0, 918: 0, 919: 0, 920: 0, 921: 0, 922: 0, 923: 0, 924: 0, 925: 0, 926: 0, 927: 0, 928: 0, 929: 0, 930: 0, 931: 0, 932: 0, 933: 0, 934: 0, 935: 0, 936: 0, 937: 0, 938: 0, 939: 0, 940: 0, 941: 0, 942: 0, 943: 0, 944: 0, 945: 0, 946: 0, 947: 0, 948: 0, 949: 0, 950: 0, 951: 0, 952: 0, 953: 0, 954: 0, 955: 0, 956: 0, 957: 0, 958: 0, 959: 0, 960: 0, 961: 0, 962: 0, 963: 0, 964: 0, 965: 0, 966: 0, 967: 0, 968: 0, 969: 0, 970: 1, 971: 0, 972: 0, 973: 0, 974: 0, 975: 0, 976: 0, 977: 0, 978: 0, 979: 0, 980: 0, 981: 0, 982: 0, 983: 0, 984: 0, 985: 0, 986: 0, 987: 0, 988: 0, 989: 0, 990: 0, 991: 0, 992: 0, 993: 0, 994: 0, 995: 0, 996: 0, 997: 0, 998: 0, 999: 0}\n"
     ]
    }
   ],
   "source": [
    "missing_freq_count()"
   ]
  },
  {
   "cell_type": "code",
   "execution_count": 35,
   "id": "fd5fcec8",
   "metadata": {},
   "outputs": [
    {
     "data": {
      "text/plain": [
       "4017.0"
      ]
     },
     "execution_count": 35,
     "metadata": {},
     "output_type": "execute_result"
    }
   ],
   "source": [
    "172731/43"
   ]
  },
  {
   "cell_type": "code",
   "execution_count": 54,
   "id": "352db775",
   "metadata": {},
   "outputs": [],
   "source": [
    "def fill_single_miss():\n",
    "    i=1\n",
    "    count=0\n",
    "    previous_missing=False\n",
    "    next_missing = False\n",
    "    current_missing= False\n",
    "    while(i<df.shape[0]-1):\n",
    "        current_missing=df['PriceNanFlag'][i]\n",
    "        previous_missing = df['PriceNanFlag'][i-1]\n",
    "        next_missing = df['PriceNanFlag'][i+1]\n",
    "        \n",
    "#         print('d')\n",
    "        if current_missing==True and previous_missing==False and next_missing==False:\n",
    "            df['Imp_Price'][i] = (df['Imp_Price'][i-1]+df['Imp_Price'][i+1])/2\n",
    "            df['Imp_Arrival'][i] = (df['Imp_Arrival'][i-1]+df['Imp_Arrival'][i+1])/2\n",
    "#             print('h')\n",
    "            count+=1\n",
    "        i+=1\n",
    "    return count\n",
    "        "
   ]
  },
  {
   "cell_type": "code",
   "execution_count": 55,
   "id": "546d7594",
   "metadata": {},
   "outputs": [
    {
     "name": "stderr",
     "output_type": "stream",
     "text": [
      "/tmp/ipykernel_2475335/3791241559.py:14: SettingWithCopyWarning: \n",
      "A value is trying to be set on a copy of a slice from a DataFrame\n",
      "\n",
      "See the caveats in the documentation: https://pandas.pydata.org/pandas-docs/stable/user_guide/indexing.html#returning-a-view-versus-a-copy\n",
      "  df['Imp_Price'][i] = (df['Imp_Price'][i-1]+df['Imp_Price'][i+1])/2\n",
      "/tmp/ipykernel_2475335/3791241559.py:15: SettingWithCopyWarning: \n",
      "A value is trying to be set on a copy of a slice from a DataFrame\n",
      "\n",
      "See the caveats in the documentation: https://pandas.pydata.org/pandas-docs/stable/user_guide/indexing.html#returning-a-view-versus-a-copy\n",
      "  df['Imp_Arrival'][i] = (df['Imp_Arrival'][i-1]+df['Imp_Arrival'][i+1])/2\n"
     ]
    },
    {
     "data": {
      "text/plain": [
       "18305"
      ]
     },
     "execution_count": 55,
     "metadata": {},
     "output_type": "execute_result"
    }
   ],
   "source": [
    "fill_single_miss()"
   ]
  },
  {
   "cell_type": "code",
   "execution_count": 64,
   "id": "c92e50bb",
   "metadata": {},
   "outputs": [],
   "source": [
    "def fill_two_misses():\n",
    "    i=1\n",
    "    count=0\n",
    "    previous_missing=False\n",
    "    next_missing = False\n",
    "    current_missing= False\n",
    "    while(i<df.shape[0]-2):\n",
    "        current_missing=df['PriceNanFlag'][i] and df['PriceNanFlag'][i+1]\n",
    "        previous_missing = df['PriceNanFlag'][i-1]\n",
    "        next_missing = df['PriceNanFlag'][i+2]\n",
    "        \n",
    "#         print('d')\n",
    "        if current_missing==True and previous_missing==False and next_missing==False:\n",
    "            df['Imp_Price'][i] = (df['Imp_Price'][i-1]+df['Imp_Price'][i+2])/2\n",
    "            df['Imp_Arrival'][i] = (df['Imp_Arrival'][i-1]+df['Imp_Arrival'][i+2])/2\n",
    "            df['Imp_Price'][i+1] = (df['Imp_Price'][i-1]+df['Imp_Price'][i+2])/2\n",
    "            df['Imp_Arrival'][i+1] = (df['Imp_Arrival'][i-1]+df['Imp_Arrival'][i+2])/2\n",
    "#             print('h')\n",
    "            count+=1\n",
    "        i+=1\n",
    "    return count"
   ]
  },
  {
   "cell_type": "code",
   "execution_count": 65,
   "id": "da928ea3",
   "metadata": {},
   "outputs": [
    {
     "name": "stderr",
     "output_type": "stream",
     "text": [
      "/tmp/ipykernel_2475335/3247656120.py:14: SettingWithCopyWarning: \n",
      "A value is trying to be set on a copy of a slice from a DataFrame\n",
      "\n",
      "See the caveats in the documentation: https://pandas.pydata.org/pandas-docs/stable/user_guide/indexing.html#returning-a-view-versus-a-copy\n",
      "  df['Imp_Price'][i] = (df['Imp_Price'][i-1]+df['Imp_Price'][i+2])/2\n",
      "/tmp/ipykernel_2475335/3247656120.py:15: SettingWithCopyWarning: \n",
      "A value is trying to be set on a copy of a slice from a DataFrame\n",
      "\n",
      "See the caveats in the documentation: https://pandas.pydata.org/pandas-docs/stable/user_guide/indexing.html#returning-a-view-versus-a-copy\n",
      "  df['Imp_Arrival'][i] = (df['Imp_Arrival'][i-1]+df['Imp_Arrival'][i+2])/2\n",
      "/tmp/ipykernel_2475335/3247656120.py:16: SettingWithCopyWarning: \n",
      "A value is trying to be set on a copy of a slice from a DataFrame\n",
      "\n",
      "See the caveats in the documentation: https://pandas.pydata.org/pandas-docs/stable/user_guide/indexing.html#returning-a-view-versus-a-copy\n",
      "  df['Imp_Price'][i+1] = (df['Imp_Price'][i-1]+df['Imp_Price'][i+2])/2\n",
      "/tmp/ipykernel_2475335/3247656120.py:17: SettingWithCopyWarning: \n",
      "A value is trying to be set on a copy of a slice from a DataFrame\n",
      "\n",
      "See the caveats in the documentation: https://pandas.pydata.org/pandas-docs/stable/user_guide/indexing.html#returning-a-view-versus-a-copy\n",
      "  df['Imp_Arrival'][i+1] = (df['Imp_Arrival'][i-1]+df['Imp_Arrival'][i+2])/2\n"
     ]
    },
    {
     "data": {
      "text/plain": [
       "3178"
      ]
     },
     "execution_count": 65,
     "metadata": {},
     "output_type": "execute_result"
    }
   ],
   "source": [
    "fill_two_misses()"
   ]
  },
  {
   "cell_type": "code",
   "execution_count": 66,
   "id": "842e1efe",
   "metadata": {},
   "outputs": [],
   "source": [
    "def fill_three_misses():\n",
    "    i=1\n",
    "    count=0\n",
    "    previous_missing=False\n",
    "    next_missing = False\n",
    "    current_missing= False\n",
    "    while(i<df.shape[0]-3):\n",
    "        current_missing=df['PriceNanFlag'][i] and df['PriceNanFlag'][i+1] and df['PriceNanFlag'][i+2]\n",
    "        previous_missing = df['PriceNanFlag'][i-1]\n",
    "        next_missing = df['PriceNanFlag'][i+3]\n",
    "        \n",
    "#         print('d')\n",
    "        if current_missing==True and previous_missing==False and next_missing==False:\n",
    "            df['Imp_Price'][i] = (df['Imp_Price'][i-1]+df['Imp_Price'][i+3])/2\n",
    "            df['Imp_Arrival'][i] = (df['Imp_Arrival'][i-1]+df['Imp_Arrival'][i+3])/2\n",
    "            df['Imp_Price'][i+1] = (df['Imp_Price'][i-1]+df['Imp_Price'][i+3])/2\n",
    "            df['Imp_Arrival'][i+1] = (df['Imp_Arrival'][i-1]+df['Imp_Arrival'][i+3])/2\n",
    "            df['Imp_Price'][i+2] = (df['Imp_Price'][i-1]+df['Imp_Price'][i+3])/2\n",
    "            df['Imp_Arrival'][i+2] = (df['Imp_Arrival'][i-1]+df['Imp_Arrival'][i+3])/2\n",
    "            count+=1\n",
    "        i+=1\n",
    "    return count"
   ]
  },
  {
   "cell_type": "code",
   "execution_count": 67,
   "id": "d11ad908",
   "metadata": {},
   "outputs": [
    {
     "name": "stderr",
     "output_type": "stream",
     "text": [
      "/tmp/ipykernel_2475335/2811492243.py:14: SettingWithCopyWarning: \n",
      "A value is trying to be set on a copy of a slice from a DataFrame\n",
      "\n",
      "See the caveats in the documentation: https://pandas.pydata.org/pandas-docs/stable/user_guide/indexing.html#returning-a-view-versus-a-copy\n",
      "  df['Imp_Price'][i] = (df['Imp_Price'][i-1]+df['Imp_Price'][i+3])/2\n",
      "/tmp/ipykernel_2475335/2811492243.py:15: SettingWithCopyWarning: \n",
      "A value is trying to be set on a copy of a slice from a DataFrame\n",
      "\n",
      "See the caveats in the documentation: https://pandas.pydata.org/pandas-docs/stable/user_guide/indexing.html#returning-a-view-versus-a-copy\n",
      "  df['Imp_Arrival'][i] = (df['Imp_Arrival'][i-1]+df['Imp_Arrival'][i+3])/2\n",
      "/tmp/ipykernel_2475335/2811492243.py:16: SettingWithCopyWarning: \n",
      "A value is trying to be set on a copy of a slice from a DataFrame\n",
      "\n",
      "See the caveats in the documentation: https://pandas.pydata.org/pandas-docs/stable/user_guide/indexing.html#returning-a-view-versus-a-copy\n",
      "  df['Imp_Price'][i+1] = (df['Imp_Price'][i-1]+df['Imp_Price'][i+3])/2\n",
      "/tmp/ipykernel_2475335/2811492243.py:17: SettingWithCopyWarning: \n",
      "A value is trying to be set on a copy of a slice from a DataFrame\n",
      "\n",
      "See the caveats in the documentation: https://pandas.pydata.org/pandas-docs/stable/user_guide/indexing.html#returning-a-view-versus-a-copy\n",
      "  df['Imp_Arrival'][i+1] = (df['Imp_Arrival'][i-1]+df['Imp_Arrival'][i+3])/2\n",
      "/tmp/ipykernel_2475335/2811492243.py:18: SettingWithCopyWarning: \n",
      "A value is trying to be set on a copy of a slice from a DataFrame\n",
      "\n",
      "See the caveats in the documentation: https://pandas.pydata.org/pandas-docs/stable/user_guide/indexing.html#returning-a-view-versus-a-copy\n",
      "  df['Imp_Price'][i+2] = (df['Imp_Price'][i-1]+df['Imp_Price'][i+3])/2\n",
      "/tmp/ipykernel_2475335/2811492243.py:19: SettingWithCopyWarning: \n",
      "A value is trying to be set on a copy of a slice from a DataFrame\n",
      "\n",
      "See the caveats in the documentation: https://pandas.pydata.org/pandas-docs/stable/user_guide/indexing.html#returning-a-view-versus-a-copy\n",
      "  df['Imp_Arrival'][i+2] = (df['Imp_Arrival'][i-1]+df['Imp_Arrival'][i+3])/2\n"
     ]
    },
    {
     "data": {
      "text/plain": [
       "1162"
      ]
     },
     "execution_count": 67,
     "metadata": {},
     "output_type": "execute_result"
    }
   ],
   "source": [
    "fill_three_misses()"
   ]
  },
  {
   "cell_type": "code",
   "execution_count": 68,
   "id": "7ef09ec6",
   "metadata": {},
   "outputs": [
    {
     "data": {
      "text/html": [
       "<div>\n",
       "<style scoped>\n",
       "    .dataframe tbody tr th:only-of-type {\n",
       "        vertical-align: middle;\n",
       "    }\n",
       "\n",
       "    .dataframe tbody tr th {\n",
       "        vertical-align: top;\n",
       "    }\n",
       "\n",
       "    .dataframe thead th {\n",
       "        text-align: right;\n",
       "    }\n",
       "</style>\n",
       "<table border=\"1\" class=\"dataframe\">\n",
       "  <thead>\n",
       "    <tr style=\"text-align: right;\">\n",
       "      <th></th>\n",
       "      <th>Market</th>\n",
       "      <th>Arrivals</th>\n",
       "      <th>Date</th>\n",
       "      <th>Modal_Price</th>\n",
       "      <th>District</th>\n",
       "      <th>Imp_Price</th>\n",
       "      <th>Imp_Arrival</th>\n",
       "      <th>PriceNanFlag</th>\n",
       "      <th>ArrivalNanFlag</th>\n",
       "      <th>latitude</th>\n",
       "      <th>...</th>\n",
       "      <th>Soil_Type</th>\n",
       "      <th>Humidity</th>\n",
       "      <th>Sunlight</th>\n",
       "      <th>Temperature</th>\n",
       "      <th>Avg_Precipitation</th>\n",
       "      <th>Last_Precipitation</th>\n",
       "      <th>Year</th>\n",
       "      <th>Month_name</th>\n",
       "      <th>Day</th>\n",
       "      <th>Month</th>\n",
       "    </tr>\n",
       "  </thead>\n",
       "  <tbody>\n",
       "    <tr>\n",
       "      <th>2050</th>\n",
       "      <td>Agra</td>\n",
       "      <td>120.0</td>\n",
       "      <td>13-Aug-2013</td>\n",
       "      <td>2500.0</td>\n",
       "      <td>Agra</td>\n",
       "      <td>2500.0</td>\n",
       "      <td>120.0</td>\n",
       "      <td>False</td>\n",
       "      <td>False</td>\n",
       "      <td>27.25</td>\n",
       "      <td>...</td>\n",
       "      <td>1.999985</td>\n",
       "      <td>84.939757</td>\n",
       "      <td>1.353459e+07</td>\n",
       "      <td>301.766362</td>\n",
       "      <td>147888.435453</td>\n",
       "      <td>7.111579e+04</td>\n",
       "      <td>2013</td>\n",
       "      <td>Aug</td>\n",
       "      <td>13</td>\n",
       "      <td>8</td>\n",
       "    </tr>\n",
       "    <tr>\n",
       "      <th>2051</th>\n",
       "      <td>Agra</td>\n",
       "      <td>100.0</td>\n",
       "      <td>14-Aug-2013</td>\n",
       "      <td>3150.0</td>\n",
       "      <td>Agra</td>\n",
       "      <td>3150.0</td>\n",
       "      <td>100.0</td>\n",
       "      <td>False</td>\n",
       "      <td>False</td>\n",
       "      <td>27.25</td>\n",
       "      <td>...</td>\n",
       "      <td>1.999985</td>\n",
       "      <td>86.348095</td>\n",
       "      <td>1.117862e+07</td>\n",
       "      <td>301.481810</td>\n",
       "      <td>694674.906233</td>\n",
       "      <td>2.749004e+05</td>\n",
       "      <td>2013</td>\n",
       "      <td>Aug</td>\n",
       "      <td>14</td>\n",
       "      <td>8</td>\n",
       "    </tr>\n",
       "    <tr>\n",
       "      <th>2052</th>\n",
       "      <td>Agra</td>\n",
       "      <td>62.0</td>\n",
       "      <td>15-Aug-2013</td>\n",
       "      <td>3700.0</td>\n",
       "      <td>Agra</td>\n",
       "      <td>3700.0</td>\n",
       "      <td>62.0</td>\n",
       "      <td>False</td>\n",
       "      <td>False</td>\n",
       "      <td>27.25</td>\n",
       "      <td>...</td>\n",
       "      <td>1.999985</td>\n",
       "      <td>87.366731</td>\n",
       "      <td>9.127843e+06</td>\n",
       "      <td>301.331388</td>\n",
       "      <td>455157.133383</td>\n",
       "      <td>6.262586e+04</td>\n",
       "      <td>2013</td>\n",
       "      <td>Aug</td>\n",
       "      <td>15</td>\n",
       "      <td>8</td>\n",
       "    </tr>\n",
       "    <tr>\n",
       "      <th>2053</th>\n",
       "      <td>Agra</td>\n",
       "      <td>NaN</td>\n",
       "      <td>16-Aug-2013</td>\n",
       "      <td>NaN</td>\n",
       "      <td>Agra</td>\n",
       "      <td>4175.0</td>\n",
       "      <td>48.5</td>\n",
       "      <td>True</td>\n",
       "      <td>True</td>\n",
       "      <td>27.25</td>\n",
       "      <td>...</td>\n",
       "      <td>1.999985</td>\n",
       "      <td>90.381171</td>\n",
       "      <td>8.402299e+06</td>\n",
       "      <td>300.942450</td>\n",
       "      <td>709490.067333</td>\n",
       "      <td>8.002818e+05</td>\n",
       "      <td>2013</td>\n",
       "      <td>Aug</td>\n",
       "      <td>16</td>\n",
       "      <td>8</td>\n",
       "    </tr>\n",
       "    <tr>\n",
       "      <th>2054</th>\n",
       "      <td>Agra</td>\n",
       "      <td>NaN</td>\n",
       "      <td>17-Aug-2013</td>\n",
       "      <td>NaN</td>\n",
       "      <td>Agra</td>\n",
       "      <td>4175.0</td>\n",
       "      <td>48.5</td>\n",
       "      <td>True</td>\n",
       "      <td>True</td>\n",
       "      <td>27.25</td>\n",
       "      <td>...</td>\n",
       "      <td>1.999985</td>\n",
       "      <td>88.406566</td>\n",
       "      <td>7.693792e+06</td>\n",
       "      <td>300.626735</td>\n",
       "      <td>349240.844711</td>\n",
       "      <td>1.793764e+05</td>\n",
       "      <td>2013</td>\n",
       "      <td>Aug</td>\n",
       "      <td>17</td>\n",
       "      <td>8</td>\n",
       "    </tr>\n",
       "    <tr>\n",
       "      <th>2055</th>\n",
       "      <td>Agra</td>\n",
       "      <td>NaN</td>\n",
       "      <td>18-Aug-2013</td>\n",
       "      <td>NaN</td>\n",
       "      <td>Agra</td>\n",
       "      <td>4175.0</td>\n",
       "      <td>48.5</td>\n",
       "      <td>True</td>\n",
       "      <td>True</td>\n",
       "      <td>27.25</td>\n",
       "      <td>...</td>\n",
       "      <td>1.999985</td>\n",
       "      <td>85.559958</td>\n",
       "      <td>9.264190e+06</td>\n",
       "      <td>301.239420</td>\n",
       "      <td>471830.054679</td>\n",
       "      <td>1.305498e+06</td>\n",
       "      <td>2013</td>\n",
       "      <td>Aug</td>\n",
       "      <td>18</td>\n",
       "      <td>8</td>\n",
       "    </tr>\n",
       "    <tr>\n",
       "      <th>2056</th>\n",
       "      <td>Agra</td>\n",
       "      <td>35.0</td>\n",
       "      <td>19-Aug-2013</td>\n",
       "      <td>4650.0</td>\n",
       "      <td>Agra</td>\n",
       "      <td>4650.0</td>\n",
       "      <td>35.0</td>\n",
       "      <td>False</td>\n",
       "      <td>False</td>\n",
       "      <td>27.25</td>\n",
       "      <td>...</td>\n",
       "      <td>1.999985</td>\n",
       "      <td>87.833337</td>\n",
       "      <td>7.190536e+06</td>\n",
       "      <td>301.487153</td>\n",
       "      <td>510569.975825</td>\n",
       "      <td>7.408448e+05</td>\n",
       "      <td>2013</td>\n",
       "      <td>Aug</td>\n",
       "      <td>19</td>\n",
       "      <td>8</td>\n",
       "    </tr>\n",
       "    <tr>\n",
       "      <th>2057</th>\n",
       "      <td>Agra</td>\n",
       "      <td>32.0</td>\n",
       "      <td>20-Aug-2013</td>\n",
       "      <td>4680.0</td>\n",
       "      <td>Agra</td>\n",
       "      <td>4680.0</td>\n",
       "      <td>32.0</td>\n",
       "      <td>False</td>\n",
       "      <td>False</td>\n",
       "      <td>27.25</td>\n",
       "      <td>...</td>\n",
       "      <td>1.999985</td>\n",
       "      <td>83.959571</td>\n",
       "      <td>1.237486e+07</td>\n",
       "      <td>302.820906</td>\n",
       "      <td>270389.020245</td>\n",
       "      <td>2.016872e+04</td>\n",
       "      <td>2013</td>\n",
       "      <td>Aug</td>\n",
       "      <td>20</td>\n",
       "      <td>8</td>\n",
       "    </tr>\n",
       "    <tr>\n",
       "      <th>2058</th>\n",
       "      <td>Agra</td>\n",
       "      <td>36.0</td>\n",
       "      <td>21-Aug-2013</td>\n",
       "      <td>4400.0</td>\n",
       "      <td>Agra</td>\n",
       "      <td>4400.0</td>\n",
       "      <td>36.0</td>\n",
       "      <td>False</td>\n",
       "      <td>False</td>\n",
       "      <td>27.25</td>\n",
       "      <td>...</td>\n",
       "      <td>1.999985</td>\n",
       "      <td>87.788132</td>\n",
       "      <td>1.253387e+07</td>\n",
       "      <td>302.236512</td>\n",
       "      <td>900095.648542</td>\n",
       "      <td>5.699620e+05</td>\n",
       "      <td>2013</td>\n",
       "      <td>Aug</td>\n",
       "      <td>21</td>\n",
       "      <td>8</td>\n",
       "    </tr>\n",
       "    <tr>\n",
       "      <th>2059</th>\n",
       "      <td>Agra</td>\n",
       "      <td>46.0</td>\n",
       "      <td>22-Aug-2013</td>\n",
       "      <td>4200.0</td>\n",
       "      <td>Agra</td>\n",
       "      <td>4200.0</td>\n",
       "      <td>46.0</td>\n",
       "      <td>False</td>\n",
       "      <td>False</td>\n",
       "      <td>27.25</td>\n",
       "      <td>...</td>\n",
       "      <td>1.999985</td>\n",
       "      <td>85.167239</td>\n",
       "      <td>9.824776e+06</td>\n",
       "      <td>302.358153</td>\n",
       "      <td>605121.798046</td>\n",
       "      <td>3.725290e+00</td>\n",
       "      <td>2013</td>\n",
       "      <td>Aug</td>\n",
       "      <td>22</td>\n",
       "      <td>8</td>\n",
       "    </tr>\n",
       "  </tbody>\n",
       "</table>\n",
       "<p>10 rows × 21 columns</p>\n",
       "</div>"
      ],
      "text/plain": [
       "     Market  Arrivals         Date  Modal_Price District  Imp_Price  \\\n",
       "2050   Agra     120.0  13-Aug-2013       2500.0     Agra     2500.0   \n",
       "2051   Agra     100.0  14-Aug-2013       3150.0     Agra     3150.0   \n",
       "2052   Agra      62.0  15-Aug-2013       3700.0     Agra     3700.0   \n",
       "2053   Agra       NaN  16-Aug-2013          NaN     Agra     4175.0   \n",
       "2054   Agra       NaN  17-Aug-2013          NaN     Agra     4175.0   \n",
       "2055   Agra       NaN  18-Aug-2013          NaN     Agra     4175.0   \n",
       "2056   Agra      35.0  19-Aug-2013       4650.0     Agra     4650.0   \n",
       "2057   Agra      32.0  20-Aug-2013       4680.0     Agra     4680.0   \n",
       "2058   Agra      36.0  21-Aug-2013       4400.0     Agra     4400.0   \n",
       "2059   Agra      46.0  22-Aug-2013       4200.0     Agra     4200.0   \n",
       "\n",
       "      Imp_Arrival  PriceNanFlag  ArrivalNanFlag  latitude  ...  Soil_Type  \\\n",
       "2050        120.0         False           False     27.25  ...   1.999985   \n",
       "2051        100.0         False           False     27.25  ...   1.999985   \n",
       "2052         62.0         False           False     27.25  ...   1.999985   \n",
       "2053         48.5          True            True     27.25  ...   1.999985   \n",
       "2054         48.5          True            True     27.25  ...   1.999985   \n",
       "2055         48.5          True            True     27.25  ...   1.999985   \n",
       "2056         35.0         False           False     27.25  ...   1.999985   \n",
       "2057         32.0         False           False     27.25  ...   1.999985   \n",
       "2058         36.0         False           False     27.25  ...   1.999985   \n",
       "2059         46.0         False           False     27.25  ...   1.999985   \n",
       "\n",
       "       Humidity      Sunlight  Temperature  Avg_Precipitation  \\\n",
       "2050  84.939757  1.353459e+07   301.766362      147888.435453   \n",
       "2051  86.348095  1.117862e+07   301.481810      694674.906233   \n",
       "2052  87.366731  9.127843e+06   301.331388      455157.133383   \n",
       "2053  90.381171  8.402299e+06   300.942450      709490.067333   \n",
       "2054  88.406566  7.693792e+06   300.626735      349240.844711   \n",
       "2055  85.559958  9.264190e+06   301.239420      471830.054679   \n",
       "2056  87.833337  7.190536e+06   301.487153      510569.975825   \n",
       "2057  83.959571  1.237486e+07   302.820906      270389.020245   \n",
       "2058  87.788132  1.253387e+07   302.236512      900095.648542   \n",
       "2059  85.167239  9.824776e+06   302.358153      605121.798046   \n",
       "\n",
       "      Last_Precipitation  Year  Month_name Day  Month  \n",
       "2050        7.111579e+04  2013         Aug  13      8  \n",
       "2051        2.749004e+05  2013         Aug  14      8  \n",
       "2052        6.262586e+04  2013         Aug  15      8  \n",
       "2053        8.002818e+05  2013         Aug  16      8  \n",
       "2054        1.793764e+05  2013         Aug  17      8  \n",
       "2055        1.305498e+06  2013         Aug  18      8  \n",
       "2056        7.408448e+05  2013         Aug  19      8  \n",
       "2057        2.016872e+04  2013         Aug  20      8  \n",
       "2058        5.699620e+05  2013         Aug  21      8  \n",
       "2059        3.725290e+00  2013         Aug  22      8  \n",
       "\n",
       "[10 rows x 21 columns]"
      ]
     },
     "execution_count": 68,
     "metadata": {},
     "output_type": "execute_result"
    }
   ],
   "source": [
    "df[2050:2060]"
   ]
  },
  {
   "cell_type": "code",
   "execution_count": 70,
   "id": "7b7b3850",
   "metadata": {},
   "outputs": [
    {
     "name": "stdout",
     "output_type": "stream",
     "text": [
      "pre:  820.0  next:  850.0   Imputes:  868.8706211875133 841.9062320224659 877.0948175256357 813.9437160964762\n",
      "pre:  550.0  next:  725.0   Imputes:  672.7653013297572 647.855137858395 662.4195412498348 658.2844193966116\n",
      "pre:  975.0  next:  965.0   Imputes:  943.534498239319 936.6814562323916 922.9374324581528 940.4265079404252\n",
      "pre:  975.0  next:  1050.0   Imputes:  958.9072503976012 912.3912549726174 915.2069892337922 951.4721661943552\n",
      "pre:  3800.0  next:  3780.0   Imputes:  2865.872022830417 3567.232133013794 3212.789340192861 3931.209146664847\n",
      "pre:  1200.0  next:  1170.0   Imputes:  1157.2707516526689 1099.435647593655 1142.9757269787765 1065.1827888721884\n",
      "pre:  1670.0  next:  1680.0   Imputes:  1626.5293217023643 1461.9362727452617 1588.7359368519856 1523.142733328549\n",
      "pre:  1020.0  next:  1020.0   Imputes:  978.7435892608758 988.628351966338 880.9452814097494 961.4927940472936\n",
      "pre:  980.0  next:  980.0   Imputes:  954.7826908690512 939.4920471600268 958.906077299308 918.7249788921036\n",
      "pre:  970.0  next:  950.0   Imputes:  938.7153139853052 931.7610125682388 878.6788059815383 845.894073279433\n",
      "pre:  840.0  next:  880.0   Imputes:  870.4088618957568 820.0748908434796 728.8347783130567 887.7888147528349\n",
      "pre:  1100.0  next:  1110.0   Imputes:  1225.2632357761745 1224.223007138494 1186.0498747559832 1112.9843690590974\n",
      "pre:  1500.0  next:  1530.0   Imputes:  1530.0193998706836 1536.3908450180636 1505.979139833632 1561.4272560922338\n",
      "pre:  870.0  next:  980.0   Imputes:  943.5092770447238 954.4174167437732 940.2010951031946 997.6368828765123\n",
      "pre:  5000.0  next:  4500.0   Imputes:  4450.0 4450.0 4450.0 4220.149999999994\n",
      "pre:  1840.0  next:  1800.0   Imputes:  1684.4870847954062 1632.9555513630894 1595.4737431624103 1506.618240970205\n",
      "pre:  3000.0  next:  3120.0   Imputes:  2782.158831907976 2784.316122912406 2946.072037041333 2905.7564163364955\n",
      "pre:  850.0  next:  870.0   Imputes:  854.1506548649446 849.3243283270641 803.3256155409798 728.2701546211661\n",
      "pre:  700.0  next:  700.0   Imputes:  740.0112723457734 722.3759809725623 727.3231224417709 744.7684759824126\n",
      "pre:  800.0  next:  990.0   Imputes:  998.522562873196 980.0472521758252 983.7934845440844 1011.3843253130896\n"
     ]
    }
   ],
   "source": [
    "    i=1\n",
    "    count=0\n",
    "    previous_missing=False\n",
    "    next_missing = False\n",
    "    current_missing= False\n",
    "    while(i<df.shape[0]-4):\n",
    "        if count<20:\n",
    "            current_missing=df['PriceNanFlag'][i] and df['PriceNanFlag'][i+1] and df['PriceNanFlag'][i+2] and df['PriceNanFlag'][i+3]\n",
    "            previous_missing = df['PriceNanFlag'][i-1]\n",
    "            next_missing = df['PriceNanFlag'][i+4]\n",
    "\n",
    "    #         print('d')\n",
    "            if current_missing==True and previous_missing==False and next_missing==False:\n",
    "                print('pre: ', df['Imp_Price'][i-1],' next: ',df['Imp_Price'][i+4],'  Imputes: ',df['Imp_Price'][i],df['Imp_Price'][i+1],df['Imp_Price'][i+2],df['Imp_Price'][i+3])\n",
    "                count +=1\n",
    "        i+=1"
   ]
  },
  {
   "cell_type": "code",
   "execution_count": 78,
   "id": "f03dbe48",
   "metadata": {},
   "outputs": [],
   "source": [
    "def fill_misses(n,check=False):\n",
    "    i=1\n",
    "    count=0\n",
    "    previous_missing=False\n",
    "    next_missing = False\n",
    "    current_missing= False\n",
    "    while(i<df.shape[0]-n):\n",
    "        flag=True\n",
    "        for j in range(n):\n",
    "            flag= flag and df['PriceNanFlag'][i+j]\n",
    "        current_missing = flag\n",
    "        previous_missing = df['PriceNanFlag'][i-1]\n",
    "        next_missing = df['PriceNanFlag'][i+n]\n",
    "        \n",
    "#         print('d')\n",
    "        if current_missing==True and previous_missing==False and next_missing==False:\n",
    "            for j in range(n):\n",
    "                if check:\n",
    "                   \n",
    "                    if (df['Imp_Price'][i+j]<df['Imp_Price'][i-1] and df['Imp_Price'][i+j]>df['Imp_Price'][i+n]) or (df['Imp_Price'][i+j]>df['Imp_Price'][i-1] and df['Imp_Price'][i+j]<df['Imp_Price'][i+n]) == False:\n",
    "                        df['Imp_Price'][i+j] = (df['Imp_Price'][i-1]+df['Imp_Price'][i+n])/2\n",
    "                        df['Imp_Arrival'][i+j] = (df['Imp_Arrival'][i-1]+df['Imp_Arrival'][i+n])/2\n",
    "                else:    \n",
    "                    df['Imp_Price'][i+j] = (df['Imp_Price'][i-1]+df['Imp_Price'][i+n])/2\n",
    "                    df['Imp_Arrival'][i+j] = (df['Imp_Arrival'][i-1]+df['Imp_Arrival'][i+n])/2\n",
    "\n",
    "            count+=1\n",
    "        i+=1\n",
    "    return count"
   ]
  },
  {
   "cell_type": "code",
   "execution_count": 76,
   "id": "210f3c8d",
   "metadata": {},
   "outputs": [
    {
     "name": "stderr",
     "output_type": "stream",
     "text": [
      "/tmp/ipykernel_2475335/2252332365.py:18: SettingWithCopyWarning: \n",
      "A value is trying to be set on a copy of a slice from a DataFrame\n",
      "\n",
      "See the caveats in the documentation: https://pandas.pydata.org/pandas-docs/stable/user_guide/indexing.html#returning-a-view-versus-a-copy\n",
      "  df['Imp_Price'][i+j] = (df['Imp_Price'][i-1]+df['Imp_Price'][i+n])/2\n",
      "/tmp/ipykernel_2475335/2252332365.py:19: SettingWithCopyWarning: \n",
      "A value is trying to be set on a copy of a slice from a DataFrame\n",
      "\n",
      "See the caveats in the documentation: https://pandas.pydata.org/pandas-docs/stable/user_guide/indexing.html#returning-a-view-versus-a-copy\n",
      "  df['Imp_Arrival'][i+j] = (df['Imp_Arrival'][i-1]+df['Imp_Arrival'][i+n])/2\n"
     ]
    },
    {
     "data": {
      "text/plain": [
       "1162"
      ]
     },
     "execution_count": 76,
     "metadata": {},
     "output_type": "execute_result"
    }
   ],
   "source": [
    "fill_misses(3)"
   ]
  },
  {
   "cell_type": "code",
   "execution_count": 79,
   "id": "f739e0c6",
   "metadata": {},
   "outputs": [
    {
     "name": "stderr",
     "output_type": "stream",
     "text": [
      "/tmp/ipykernel_2475335/183770110.py:24: SettingWithCopyWarning: \n",
      "A value is trying to be set on a copy of a slice from a DataFrame\n",
      "\n",
      "See the caveats in the documentation: https://pandas.pydata.org/pandas-docs/stable/user_guide/indexing.html#returning-a-view-versus-a-copy\n",
      "  df['Imp_Price'][i+j] = (df['Imp_Price'][i-1]+df['Imp_Price'][i+n])/2\n",
      "/tmp/ipykernel_2475335/183770110.py:25: SettingWithCopyWarning: \n",
      "A value is trying to be set on a copy of a slice from a DataFrame\n",
      "\n",
      "See the caveats in the documentation: https://pandas.pydata.org/pandas-docs/stable/user_guide/indexing.html#returning-a-view-versus-a-copy\n",
      "  df['Imp_Arrival'][i+j] = (df['Imp_Arrival'][i-1]+df['Imp_Arrival'][i+n])/2\n"
     ]
    },
    {
     "data": {
      "text/plain": [
       "507"
      ]
     },
     "execution_count": 79,
     "metadata": {},
     "output_type": "execute_result"
    }
   ],
   "source": [
    "fill_misses(4)"
   ]
  },
  {
   "cell_type": "code",
   "execution_count": 80,
   "id": "6ef47e72",
   "metadata": {},
   "outputs": [
    {
     "name": "stderr",
     "output_type": "stream",
     "text": [
      "/tmp/ipykernel_2475335/183770110.py:21: SettingWithCopyWarning: \n",
      "A value is trying to be set on a copy of a slice from a DataFrame\n",
      "\n",
      "See the caveats in the documentation: https://pandas.pydata.org/pandas-docs/stable/user_guide/indexing.html#returning-a-view-versus-a-copy\n",
      "  df['Imp_Price'][i+j] = (df['Imp_Price'][i-1]+df['Imp_Price'][i+n])/2\n",
      "/tmp/ipykernel_2475335/183770110.py:22: SettingWithCopyWarning: \n",
      "A value is trying to be set on a copy of a slice from a DataFrame\n",
      "\n",
      "See the caveats in the documentation: https://pandas.pydata.org/pandas-docs/stable/user_guide/indexing.html#returning-a-view-versus-a-copy\n",
      "  df['Imp_Arrival'][i+j] = (df['Imp_Arrival'][i-1]+df['Imp_Arrival'][i+n])/2\n"
     ]
    },
    {
     "data": {
      "text/plain": [
       "269"
      ]
     },
     "execution_count": 80,
     "metadata": {},
     "output_type": "execute_result"
    }
   ],
   "source": [
    "fill_misses(5,True)"
   ]
  },
  {
   "cell_type": "code",
   "execution_count": 81,
   "id": "10edb666",
   "metadata": {},
   "outputs": [
    {
     "name": "stderr",
     "output_type": "stream",
     "text": [
      "/tmp/ipykernel_2475335/183770110.py:21: SettingWithCopyWarning: \n",
      "A value is trying to be set on a copy of a slice from a DataFrame\n",
      "\n",
      "See the caveats in the documentation: https://pandas.pydata.org/pandas-docs/stable/user_guide/indexing.html#returning-a-view-versus-a-copy\n",
      "  df['Imp_Price'][i+j] = (df['Imp_Price'][i-1]+df['Imp_Price'][i+n])/2\n",
      "/tmp/ipykernel_2475335/183770110.py:22: SettingWithCopyWarning: \n",
      "A value is trying to be set on a copy of a slice from a DataFrame\n",
      "\n",
      "See the caveats in the documentation: https://pandas.pydata.org/pandas-docs/stable/user_guide/indexing.html#returning-a-view-versus-a-copy\n",
      "  df['Imp_Arrival'][i+j] = (df['Imp_Arrival'][i-1]+df['Imp_Arrival'][i+n])/2\n"
     ]
    },
    {
     "data": {
      "text/plain": [
       "186"
      ]
     },
     "execution_count": 81,
     "metadata": {},
     "output_type": "execute_result"
    }
   ],
   "source": [
    "fill_misses(6,True)"
   ]
  },
  {
   "cell_type": "code",
   "execution_count": 82,
   "id": "68156e70",
   "metadata": {},
   "outputs": [
    {
     "data": {
      "text/html": [
       "<div>\n",
       "<style scoped>\n",
       "    .dataframe tbody tr th:only-of-type {\n",
       "        vertical-align: middle;\n",
       "    }\n",
       "\n",
       "    .dataframe tbody tr th {\n",
       "        vertical-align: top;\n",
       "    }\n",
       "\n",
       "    .dataframe thead th {\n",
       "        text-align: right;\n",
       "    }\n",
       "</style>\n",
       "<table border=\"1\" class=\"dataframe\">\n",
       "  <thead>\n",
       "    <tr style=\"text-align: right;\">\n",
       "      <th></th>\n",
       "      <th>Market</th>\n",
       "      <th>Arrivals</th>\n",
       "      <th>Date</th>\n",
       "      <th>Modal_Price</th>\n",
       "      <th>District</th>\n",
       "      <th>Imp_Price</th>\n",
       "      <th>Imp_Arrival</th>\n",
       "      <th>PriceNanFlag</th>\n",
       "      <th>ArrivalNanFlag</th>\n",
       "      <th>latitude</th>\n",
       "      <th>...</th>\n",
       "      <th>Soil_Type</th>\n",
       "      <th>Humidity</th>\n",
       "      <th>Sunlight</th>\n",
       "      <th>Temperature</th>\n",
       "      <th>Avg_Precipitation</th>\n",
       "      <th>Last_Precipitation</th>\n",
       "      <th>Year</th>\n",
       "      <th>Month_name</th>\n",
       "      <th>Day</th>\n",
       "      <th>Month</th>\n",
       "    </tr>\n",
       "  </thead>\n",
       "  <tbody>\n",
       "    <tr>\n",
       "      <th>0</th>\n",
       "      <td>Agra</td>\n",
       "      <td>NaN</td>\n",
       "      <td>01-Jan-2008</td>\n",
       "      <td>NaN</td>\n",
       "      <td>Agra</td>\n",
       "      <td>533.577743</td>\n",
       "      <td>136.448320</td>\n",
       "      <td>True</td>\n",
       "      <td>True</td>\n",
       "      <td>27.25</td>\n",
       "      <td>...</td>\n",
       "      <td>1.999985</td>\n",
       "      <td>53.146736</td>\n",
       "      <td>1.265486e+07</td>\n",
       "      <td>289.903276</td>\n",
       "      <td>3.72529</td>\n",
       "      <td>3.72529</td>\n",
       "      <td>2008</td>\n",
       "      <td>Jan</td>\n",
       "      <td>1</td>\n",
       "      <td>1</td>\n",
       "    </tr>\n",
       "    <tr>\n",
       "      <th>1</th>\n",
       "      <td>Agra</td>\n",
       "      <td>NaN</td>\n",
       "      <td>02-Jan-2008</td>\n",
       "      <td>NaN</td>\n",
       "      <td>Agra</td>\n",
       "      <td>564.358912</td>\n",
       "      <td>141.135159</td>\n",
       "      <td>True</td>\n",
       "      <td>True</td>\n",
       "      <td>27.25</td>\n",
       "      <td>...</td>\n",
       "      <td>1.999985</td>\n",
       "      <td>55.914157</td>\n",
       "      <td>1.211169e+07</td>\n",
       "      <td>289.533809</td>\n",
       "      <td>3.72529</td>\n",
       "      <td>3.72529</td>\n",
       "      <td>2008</td>\n",
       "      <td>Jan</td>\n",
       "      <td>2</td>\n",
       "      <td>1</td>\n",
       "    </tr>\n",
       "    <tr>\n",
       "      <th>2</th>\n",
       "      <td>Agra</td>\n",
       "      <td>NaN</td>\n",
       "      <td>03-Jan-2008</td>\n",
       "      <td>NaN</td>\n",
       "      <td>Agra</td>\n",
       "      <td>562.825324</td>\n",
       "      <td>145.897888</td>\n",
       "      <td>True</td>\n",
       "      <td>True</td>\n",
       "      <td>27.25</td>\n",
       "      <td>...</td>\n",
       "      <td>1.999985</td>\n",
       "      <td>61.595423</td>\n",
       "      <td>1.274031e+07</td>\n",
       "      <td>288.712016</td>\n",
       "      <td>3.72529</td>\n",
       "      <td>3.72529</td>\n",
       "      <td>2008</td>\n",
       "      <td>Jan</td>\n",
       "      <td>3</td>\n",
       "      <td>1</td>\n",
       "    </tr>\n",
       "    <tr>\n",
       "      <th>3</th>\n",
       "      <td>Agra</td>\n",
       "      <td>NaN</td>\n",
       "      <td>04-Jan-2008</td>\n",
       "      <td>NaN</td>\n",
       "      <td>Agra</td>\n",
       "      <td>560.865227</td>\n",
       "      <td>220.000000</td>\n",
       "      <td>True</td>\n",
       "      <td>True</td>\n",
       "      <td>27.25</td>\n",
       "      <td>...</td>\n",
       "      <td>1.999985</td>\n",
       "      <td>59.810162</td>\n",
       "      <td>1.259190e+07</td>\n",
       "      <td>289.971033</td>\n",
       "      <td>3.72529</td>\n",
       "      <td>3.72529</td>\n",
       "      <td>2008</td>\n",
       "      <td>Jan</td>\n",
       "      <td>4</td>\n",
       "      <td>1</td>\n",
       "    </tr>\n",
       "    <tr>\n",
       "      <th>4</th>\n",
       "      <td>Agra</td>\n",
       "      <td>NaN</td>\n",
       "      <td>05-Jan-2008</td>\n",
       "      <td>NaN</td>\n",
       "      <td>Agra</td>\n",
       "      <td>538.705688</td>\n",
       "      <td>218.330750</td>\n",
       "      <td>True</td>\n",
       "      <td>True</td>\n",
       "      <td>27.25</td>\n",
       "      <td>...</td>\n",
       "      <td>1.999985</td>\n",
       "      <td>55.464904</td>\n",
       "      <td>1.240704e+07</td>\n",
       "      <td>291.377191</td>\n",
       "      <td>3.72529</td>\n",
       "      <td>3.72529</td>\n",
       "      <td>2008</td>\n",
       "      <td>Jan</td>\n",
       "      <td>5</td>\n",
       "      <td>1</td>\n",
       "    </tr>\n",
       "  </tbody>\n",
       "</table>\n",
       "<p>5 rows × 21 columns</p>\n",
       "</div>"
      ],
      "text/plain": [
       "  Market  Arrivals         Date  Modal_Price District   Imp_Price  \\\n",
       "0   Agra       NaN  01-Jan-2008          NaN     Agra  533.577743   \n",
       "1   Agra       NaN  02-Jan-2008          NaN     Agra  564.358912   \n",
       "2   Agra       NaN  03-Jan-2008          NaN     Agra  562.825324   \n",
       "3   Agra       NaN  04-Jan-2008          NaN     Agra  560.865227   \n",
       "4   Agra       NaN  05-Jan-2008          NaN     Agra  538.705688   \n",
       "\n",
       "   Imp_Arrival  PriceNanFlag  ArrivalNanFlag  latitude  ...  Soil_Type  \\\n",
       "0   136.448320          True            True     27.25  ...   1.999985   \n",
       "1   141.135159          True            True     27.25  ...   1.999985   \n",
       "2   145.897888          True            True     27.25  ...   1.999985   \n",
       "3   220.000000          True            True     27.25  ...   1.999985   \n",
       "4   218.330750          True            True     27.25  ...   1.999985   \n",
       "\n",
       "    Humidity      Sunlight  Temperature  Avg_Precipitation  \\\n",
       "0  53.146736  1.265486e+07   289.903276            3.72529   \n",
       "1  55.914157  1.211169e+07   289.533809            3.72529   \n",
       "2  61.595423  1.274031e+07   288.712016            3.72529   \n",
       "3  59.810162  1.259190e+07   289.971033            3.72529   \n",
       "4  55.464904  1.240704e+07   291.377191            3.72529   \n",
       "\n",
       "   Last_Precipitation  Year  Month_name Day  Month  \n",
       "0             3.72529  2008         Jan   1      1  \n",
       "1             3.72529  2008         Jan   2      1  \n",
       "2             3.72529  2008         Jan   3      1  \n",
       "3             3.72529  2008         Jan   4      1  \n",
       "4             3.72529  2008         Jan   5      1  \n",
       "\n",
       "[5 rows x 21 columns]"
      ]
     },
     "execution_count": 82,
     "metadata": {},
     "output_type": "execute_result"
    }
   ],
   "source": [
    "df.head()"
   ]
  },
  {
   "cell_type": "markdown",
   "id": "184dc027",
   "metadata": {},
   "source": [
    "## Adding new features"
   ]
  },
  {
   "cell_type": "code",
   "execution_count": 84,
   "id": "3757786f",
   "metadata": {},
   "outputs": [],
   "source": [
    "def add_last_3_days_price_and_arrival():\n",
    "    last_day_price= np.zeros((df.shape[0]))\n",
    "    second_last_day_price= np.zeros((df.shape[0]))\n",
    "    third_last_day_price = np.zeros((df.shape[0]))\n",
    "    last_week_avg_price = np.zeros((df.shape[0]))\n",
    "\n",
    "    last_day_arrival= np.zeros((df.shape[0]))\n",
    "    second_last_day_arrival= np.zeros((df.shape[0]))\n",
    "    third_last_day_arrival = np.zeros((df.shape[0]))\n",
    "    last_week_avg_arrival = np.zeros((df.shape[0]))\n",
    "\n",
    "    i=4017\n",
    "\n",
    "    for j in range(0,df.shape[0],i):\n",
    "        last_day_price[j] = df['Imp_Price'][j]\n",
    "        last_day_arrival[j]=  df['Imp_Arrival'][j]\n",
    "\n",
    "        second_last_day_price[j] = df['Imp_Price'][j]\n",
    "        second_last_day_arrival[j]=  df['Imp_Arrival'][j]\n",
    "        second_last_day_price[j+1] = df['Imp_Price'][j]\n",
    "        second_last_day_arrival[j+1]=  df['Imp_Arrival'][j]\n",
    "\n",
    "        third_last_day_price[j] = df['Imp_Price'][j]\n",
    "        third_last_day_arrival[j]=  df['Imp_Arrival'][j]\n",
    "        third_last_day_price[j+1] = df['Imp_Price'][j]\n",
    "        third_last_day_arrival[j+1]=  df['Imp_Arrival'][j]\n",
    "        third_last_day_price[j+2] = df['Imp_Price'][j+1]\n",
    "        third_last_day_arrival[j+2]=  df['Imp_Arrival'][j+1]\n",
    "\n",
    "        for k in range(j,j+7):\n",
    "            last_week_avg_price[k] = df['Imp_Price'][j]\n",
    "            last_week_avg_arrival[k]=  df['Imp_Arrival'][j]\n",
    "\n",
    "\n",
    "    cur_price_sum =0\n",
    "    cur_arrival_sum=0\n",
    "\n",
    "\n",
    "    for i in range(df.shape[0]):\n",
    "\n",
    "        cur_price_sum += df['Imp_Price'][i]\n",
    "        cur_arrival_sum += df['Imp_Arrival'][i]\n",
    "\n",
    "    #     print(i,'  : ',cur_price_sum)\n",
    "        if i%4017 != 0:\n",
    "            last_day_price[i] = df['Imp_Price'][i-1]\n",
    "            last_day_arrival[i]=  df['Imp_Arrival'][i-1]\n",
    "\n",
    "            if i%4017 !=1:\n",
    "                second_last_day_price[i] = df['Imp_Price'][i-2]\n",
    "                second_last_day_arrival[i]=  df['Imp_Arrival'][i-2]\n",
    "\n",
    "                if i%4017 !=2:\n",
    "                    third_last_day_price[i] = df['Imp_Price'][i-3]\n",
    "                    third_last_day_arrival[i]=  df['Imp_Arrival'][i-3]\n",
    "\n",
    "                    if i%4017 !=3 and i%4017 !=4 and i%4017 !=5 and i%4017 !=6:\n",
    "    #                     print(i,'  :***** ',cur_price_sum)\n",
    "                        last_week_avg_price[i] = (cur_price_sum/7)\n",
    "                        last_week_avg_arrival[i]=  (cur_arrival_sum/7)\n",
    "                        cur_price_sum -= df['Imp_Price'][i-7]\n",
    "                        cur_arrival_sum -= df['Imp_Arrival'][i-7]\n",
    "                    \n",
    "    df['last_day_price'] = last_day_price\n",
    "    df['second_last_day_price'] = second_last_day_price\n",
    "    df['third_last_day_price'] = third_last_day_price\n",
    "    df['last_week_avg_price'] = last_week_avg_price\n",
    "    df['last_day_arrival'] = last_day_arrival\n",
    "    df['second_last_day_arrival'] = second_last_day_arrival\n",
    "    df['third_last_day_arrival'] = third_last_day_arrival\n",
    "    df['last_week_avg_arrival'] = last_week_avg_arrival"
   ]
  },
  {
   "cell_type": "code",
   "execution_count": 86,
   "id": "facd5433",
   "metadata": {},
   "outputs": [],
   "source": [
    "add_last_3_days_price_and_arrival()"
   ]
  },
  {
   "cell_type": "code",
   "execution_count": 92,
   "id": "139f0073",
   "metadata": {},
   "outputs": [],
   "source": [
    "def add_last_3_days_precipitation():\n",
    "    last_day_Precipitation= np.zeros((df.shape[0]))\n",
    "    second_last_day_Precipitation= np.zeros((df.shape[0]))\n",
    "    third_last_day_Precipitation = np.zeros((df.shape[0]))\n",
    "    last_week_avg_Precipitation = np.zeros((df.shape[0])) \n",
    "\n",
    "    i=4017\n",
    "    for j in range(0,df.shape[0]-7,i):\n",
    "        last_day_Precipitation[j] = df['Avg_Precipitation'][j]\n",
    "\n",
    "        second_last_day_Precipitation[j] = df['Avg_Precipitation'][j]\n",
    "        second_last_day_Precipitation[j+1] = df['Avg_Precipitation'][j]\n",
    "\n",
    "        third_last_day_Precipitation[j] = df['Avg_Precipitation'][j]\n",
    "        third_last_day_Precipitation[j+1] = df['Avg_Precipitation'][j]\n",
    "        third_last_day_Precipitation[j+2] = df['Avg_Precipitation'][j+1]\n",
    "\n",
    "        for k in range(j,j+7):\n",
    "            last_week_avg_Precipitation[k] = df['Avg_Precipitation'][j]\n",
    "\n",
    "    cur_Precipitation_sum =0\n",
    "\n",
    "\n",
    "    for i in range(df.shape[0]):\n",
    "\n",
    "        cur_Precipitation_sum += df['Avg_Precipitation'][i]\n",
    "\n",
    "\n",
    "        if i%4017 != 0:\n",
    "            last_day_Precipitation[i] = df['Avg_Precipitation'][i-1]\n",
    "\n",
    "            if i%4017 !=1:\n",
    "                second_last_day_Precipitation[i] = df['Avg_Precipitation'][i-2]\n",
    "\n",
    "                if i%4017 !=2:\n",
    "                    third_last_day_Precipitation[i] = df['Avg_Precipitation'][i-3]\n",
    "\n",
    "                    if i%4017 !=3 and i%4017 !=4 and i%4017 !=5 and i%4017 !=6:\n",
    "\n",
    "                        last_week_avg_Precipitation[i] = (cur_Precipitation_sum/7)\n",
    "                        cur_Precipitation_sum -= df['Avg_Precipitation'][i-7]\n",
    "\n",
    "\n",
    "\n",
    "    df['last_day_Precipitation'] = last_day_Precipitation\n",
    "    df['second_last_day_Precipitation'] = second_last_day_Precipitation\n",
    "    df['third_last_day_Precipitation'] = third_last_day_Precipitation\n",
    "    df['last_week_avg_Precipitation'] = last_week_avg_Precipitation"
   ]
  },
  {
   "cell_type": "code",
   "execution_count": 93,
   "id": "8a80f9fc",
   "metadata": {},
   "outputs": [],
   "source": [
    "add_last_3_days_precipitation()"
   ]
  },
  {
   "cell_type": "code",
   "execution_count": 94,
   "id": "b19e67e4",
   "metadata": {},
   "outputs": [
    {
     "data": {
      "text/html": [
       "<div>\n",
       "<style scoped>\n",
       "    .dataframe tbody tr th:only-of-type {\n",
       "        vertical-align: middle;\n",
       "    }\n",
       "\n",
       "    .dataframe tbody tr th {\n",
       "        vertical-align: top;\n",
       "    }\n",
       "\n",
       "    .dataframe thead th {\n",
       "        text-align: right;\n",
       "    }\n",
       "</style>\n",
       "<table border=\"1\" class=\"dataframe\">\n",
       "  <thead>\n",
       "    <tr style=\"text-align: right;\">\n",
       "      <th></th>\n",
       "      <th>Market</th>\n",
       "      <th>Arrivals</th>\n",
       "      <th>Date</th>\n",
       "      <th>Modal_Price</th>\n",
       "      <th>District</th>\n",
       "      <th>Imp_Price</th>\n",
       "      <th>Imp_Arrival</th>\n",
       "      <th>PriceNanFlag</th>\n",
       "      <th>ArrivalNanFlag</th>\n",
       "      <th>latitude</th>\n",
       "      <th>...</th>\n",
       "      <th>third_last_day_price</th>\n",
       "      <th>last_week_avg_price</th>\n",
       "      <th>last_day_arrival</th>\n",
       "      <th>second_last_day_arrival</th>\n",
       "      <th>third_last_day_arrival</th>\n",
       "      <th>last_week_avg_arrival</th>\n",
       "      <th>last_day_Precipitation</th>\n",
       "      <th>second_last_day_Precipitation</th>\n",
       "      <th>third_last_day_Precipitation</th>\n",
       "      <th>last_week_avg_Precipitation</th>\n",
       "    </tr>\n",
       "  </thead>\n",
       "  <tbody>\n",
       "    <tr>\n",
       "      <th>0</th>\n",
       "      <td>Agra</td>\n",
       "      <td>NaN</td>\n",
       "      <td>01-Jan-2008</td>\n",
       "      <td>NaN</td>\n",
       "      <td>Agra</td>\n",
       "      <td>533.577743</td>\n",
       "      <td>136.448320</td>\n",
       "      <td>True</td>\n",
       "      <td>True</td>\n",
       "      <td>27.25</td>\n",
       "      <td>...</td>\n",
       "      <td>533.577743</td>\n",
       "      <td>533.577743</td>\n",
       "      <td>136.448320</td>\n",
       "      <td>136.448320</td>\n",
       "      <td>136.448320</td>\n",
       "      <td>136.44832</td>\n",
       "      <td>3.72529</td>\n",
       "      <td>3.72529</td>\n",
       "      <td>3.72529</td>\n",
       "      <td>3.72529</td>\n",
       "    </tr>\n",
       "    <tr>\n",
       "      <th>1</th>\n",
       "      <td>Agra</td>\n",
       "      <td>NaN</td>\n",
       "      <td>02-Jan-2008</td>\n",
       "      <td>NaN</td>\n",
       "      <td>Agra</td>\n",
       "      <td>564.358912</td>\n",
       "      <td>141.135159</td>\n",
       "      <td>True</td>\n",
       "      <td>True</td>\n",
       "      <td>27.25</td>\n",
       "      <td>...</td>\n",
       "      <td>533.577743</td>\n",
       "      <td>533.577743</td>\n",
       "      <td>136.448320</td>\n",
       "      <td>136.448320</td>\n",
       "      <td>136.448320</td>\n",
       "      <td>136.44832</td>\n",
       "      <td>3.72529</td>\n",
       "      <td>3.72529</td>\n",
       "      <td>3.72529</td>\n",
       "      <td>3.72529</td>\n",
       "    </tr>\n",
       "    <tr>\n",
       "      <th>2</th>\n",
       "      <td>Agra</td>\n",
       "      <td>NaN</td>\n",
       "      <td>03-Jan-2008</td>\n",
       "      <td>NaN</td>\n",
       "      <td>Agra</td>\n",
       "      <td>562.825324</td>\n",
       "      <td>145.897888</td>\n",
       "      <td>True</td>\n",
       "      <td>True</td>\n",
       "      <td>27.25</td>\n",
       "      <td>...</td>\n",
       "      <td>564.358912</td>\n",
       "      <td>533.577743</td>\n",
       "      <td>141.135159</td>\n",
       "      <td>136.448320</td>\n",
       "      <td>141.135159</td>\n",
       "      <td>136.44832</td>\n",
       "      <td>3.72529</td>\n",
       "      <td>3.72529</td>\n",
       "      <td>3.72529</td>\n",
       "      <td>3.72529</td>\n",
       "    </tr>\n",
       "    <tr>\n",
       "      <th>3</th>\n",
       "      <td>Agra</td>\n",
       "      <td>NaN</td>\n",
       "      <td>04-Jan-2008</td>\n",
       "      <td>NaN</td>\n",
       "      <td>Agra</td>\n",
       "      <td>560.865227</td>\n",
       "      <td>220.000000</td>\n",
       "      <td>True</td>\n",
       "      <td>True</td>\n",
       "      <td>27.25</td>\n",
       "      <td>...</td>\n",
       "      <td>533.577743</td>\n",
       "      <td>533.577743</td>\n",
       "      <td>145.897888</td>\n",
       "      <td>141.135159</td>\n",
       "      <td>136.448320</td>\n",
       "      <td>136.44832</td>\n",
       "      <td>3.72529</td>\n",
       "      <td>3.72529</td>\n",
       "      <td>3.72529</td>\n",
       "      <td>3.72529</td>\n",
       "    </tr>\n",
       "    <tr>\n",
       "      <th>4</th>\n",
       "      <td>Agra</td>\n",
       "      <td>NaN</td>\n",
       "      <td>05-Jan-2008</td>\n",
       "      <td>NaN</td>\n",
       "      <td>Agra</td>\n",
       "      <td>538.705688</td>\n",
       "      <td>218.330750</td>\n",
       "      <td>True</td>\n",
       "      <td>True</td>\n",
       "      <td>27.25</td>\n",
       "      <td>...</td>\n",
       "      <td>564.358912</td>\n",
       "      <td>533.577743</td>\n",
       "      <td>220.000000</td>\n",
       "      <td>145.897888</td>\n",
       "      <td>141.135159</td>\n",
       "      <td>136.44832</td>\n",
       "      <td>3.72529</td>\n",
       "      <td>3.72529</td>\n",
       "      <td>3.72529</td>\n",
       "      <td>3.72529</td>\n",
       "    </tr>\n",
       "  </tbody>\n",
       "</table>\n",
       "<p>5 rows × 33 columns</p>\n",
       "</div>"
      ],
      "text/plain": [
       "  Market  Arrivals         Date  Modal_Price District   Imp_Price  \\\n",
       "0   Agra       NaN  01-Jan-2008          NaN     Agra  533.577743   \n",
       "1   Agra       NaN  02-Jan-2008          NaN     Agra  564.358912   \n",
       "2   Agra       NaN  03-Jan-2008          NaN     Agra  562.825324   \n",
       "3   Agra       NaN  04-Jan-2008          NaN     Agra  560.865227   \n",
       "4   Agra       NaN  05-Jan-2008          NaN     Agra  538.705688   \n",
       "\n",
       "   Imp_Arrival  PriceNanFlag  ArrivalNanFlag  latitude  ...  \\\n",
       "0   136.448320          True            True     27.25  ...   \n",
       "1   141.135159          True            True     27.25  ...   \n",
       "2   145.897888          True            True     27.25  ...   \n",
       "3   220.000000          True            True     27.25  ...   \n",
       "4   218.330750          True            True     27.25  ...   \n",
       "\n",
       "   third_last_day_price  last_week_avg_price  last_day_arrival  \\\n",
       "0            533.577743           533.577743        136.448320   \n",
       "1            533.577743           533.577743        136.448320   \n",
       "2            564.358912           533.577743        141.135159   \n",
       "3            533.577743           533.577743        145.897888   \n",
       "4            564.358912           533.577743        220.000000   \n",
       "\n",
       "   second_last_day_arrival  third_last_day_arrival  last_week_avg_arrival  \\\n",
       "0               136.448320              136.448320              136.44832   \n",
       "1               136.448320              136.448320              136.44832   \n",
       "2               136.448320              141.135159              136.44832   \n",
       "3               141.135159              136.448320              136.44832   \n",
       "4               145.897888              141.135159              136.44832   \n",
       "\n",
       "   last_day_Precipitation  second_last_day_Precipitation  \\\n",
       "0                 3.72529                        3.72529   \n",
       "1                 3.72529                        3.72529   \n",
       "2                 3.72529                        3.72529   \n",
       "3                 3.72529                        3.72529   \n",
       "4                 3.72529                        3.72529   \n",
       "\n",
       "  third_last_day_Precipitation  last_week_avg_Precipitation  \n",
       "0                      3.72529                      3.72529  \n",
       "1                      3.72529                      3.72529  \n",
       "2                      3.72529                      3.72529  \n",
       "3                      3.72529                      3.72529  \n",
       "4                      3.72529                      3.72529  \n",
       "\n",
       "[5 rows x 33 columns]"
      ]
     },
     "execution_count": 94,
     "metadata": {},
     "output_type": "execute_result"
    }
   ],
   "source": [
    "df.head()"
   ]
  },
  {
   "cell_type": "code",
   "execution_count": 95,
   "id": "157dba4e",
   "metadata": {},
   "outputs": [],
   "source": [
    "df.to_csv('updated_impute_features_added_post_impute_environmental_43_markets_2008_2018.csv')"
   ]
  },
  {
   "cell_type": "markdown",
   "id": "29bacbf9",
   "metadata": {},
   "source": [
    "## Make input"
   ]
  },
  {
   "cell_type": "code",
   "execution_count": 96,
   "id": "bf5c6789",
   "metadata": {},
   "outputs": [],
   "source": [
    "def make_market_array():\n",
    "    market_names = df['Market'].unique()\n",
    "    market_array = np.zeros([df.shape[0],len(market_names)])\n",
    "    market_names  = list(market_names)\n",
    "    for i in range(df.shape[0]):\n",
    "        market = df['Market'][i]\n",
    "        index = market_names.index(market)\n",
    "        market_array[i][index] =1\n",
    "    return market_array"
   ]
  },
  {
   "cell_type": "code",
   "execution_count": 98,
   "id": "368c3902",
   "metadata": {},
   "outputs": [],
   "source": [
    "def make_day_array():\n",
    "    day_array = np.zeros([df.shape[0],31])\n",
    "\n",
    "    for i in range(df.shape[0]):\n",
    "        day = df['Day'][i]\n",
    "        day_array[i][day-1] =1\n",
    "\n",
    "    return day_array"
   ]
  },
  {
   "cell_type": "code",
   "execution_count": 99,
   "id": "f4cb4c43",
   "metadata": {},
   "outputs": [],
   "source": [
    "def make_month_array():\n",
    "    month_array =  np.zeros([df.shape[0],12])\n",
    "\n",
    "    for i in range(df.shape[0]):\n",
    "        month = df['Month'][i]\n",
    "        month = int(month)\n",
    "        month_array[i][month-1] =1\n",
    "\n",
    "    return month_array"
   ]
  },
  {
   "cell_type": "code",
   "execution_count": 100,
   "id": "f5b79cb1",
   "metadata": {},
   "outputs": [],
   "source": [
    "def make_price_nan_arrival_nan_array():\n",
    "    PriceNanFlag_array = np.array(df['PriceNanFlag'])\n",
    "\n",
    "\n",
    "    for i in range(len(PriceNanFlag_array)):\n",
    "        if PriceNanFlag_array[i] ==True:\n",
    "            PriceNanFlag_array[i]=1\n",
    "        else:\n",
    "            PriceNanFlag_array[i]=0\n",
    "\n",
    "    PriceNanFlag_array = list(PriceNanFlag_array)\n",
    "\n",
    "    PriceNanFlag_array = [0]+PriceNanFlag_array[:len(PriceNanFlag_array)-1]\n",
    "    \n",
    "    ArrivalNanFlag_array = np.array(df['ArrivalNanFlag'])\n",
    "\n",
    "\n",
    "    for i in range(len(ArrivalNanFlag_array)):\n",
    "        if ArrivalNanFlag_array[i] ==True:\n",
    "            ArrivalNanFlag_array[i]=1\n",
    "        else:\n",
    "            ArrivalNanFlag_array[i]=0\n",
    "\n",
    "    ArrivalNanFlag_array = list(ArrivalNanFlag_array)\n",
    "\n",
    "    ArrivalNanFlag_array = [0]+ArrivalNanFlag_array[:len(ArrivalNanFlag_array)-1]\n",
    "    \n",
    "    PriceNanFlag_array = np.array(PriceNanFlag_array)\n",
    "    ArrivalNanFlag_array = np.array(ArrivalNanFlag_array)\n",
    "\n",
    "\n",
    "    PriceNanFlag_array = PriceNanFlag_array.reshape([len(PriceNanFlag_array),1])\n",
    "    ArrivalNanFlag_array = ArrivalNanFlag_array.reshape([len(ArrivalNanFlag_array),1])\n",
    "    \n",
    "    return PriceNanFlag_array,ArrivalNanFlag_array"
   ]
  },
  {
   "cell_type": "code",
   "execution_count": 104,
   "id": "de05824e",
   "metadata": {},
   "outputs": [],
   "source": [
    "def make_final_input():\n",
    "    market_array = make_market_array()\n",
    "    day_array = make_day_array()\n",
    "    month_array = make_month_array()\n",
    "    PriceNanFlag_array,ArrivalNanFlag_array = make_price_nan_arrival_nan_array()\n",
    "    \n",
    "    \n",
    "    input_ = df.values[:,[9,10,11,12,13,14,15,16, 21,22,23,24,25,26,27,28,29,30,31,32]]\n",
    "    Final_input = np.concatenate((input_,PriceNanFlag_array,ArrivalNanFlag_array,market_array,month_array,day_array),axis=1)\n",
    "    \n",
    "    \n",
    "    return Final_input"
   ]
  },
  {
   "cell_type": "code",
   "execution_count": 105,
   "id": "073ffdeb",
   "metadata": {},
   "outputs": [],
   "source": [
    "Final_input = make_final_input()"
   ]
  },
  {
   "cell_type": "code",
   "execution_count": 101,
   "id": "ca9a3b25",
   "metadata": {},
   "outputs": [],
   "source": [
    "Y= df.values[:,5]"
   ]
  },
  {
   "cell_type": "code",
   "execution_count": 106,
   "id": "9f87709e",
   "metadata": {},
   "outputs": [
    {
     "data": {
      "text/plain": [
       "(172731, 108)"
      ]
     },
     "execution_count": 106,
     "metadata": {},
     "output_type": "execute_result"
    }
   ],
   "source": [
    "Final_input.shape"
   ]
  },
  {
   "cell_type": "code",
   "execution_count": 279,
   "id": "94e5a3bf",
   "metadata": {},
   "outputs": [],
   "source": [
    "def min_max_scale(Final_input=Final_input):\n",
    "    min_max_scaler = preprocessing.MinMaxScaler()\n",
    "    X = min_max_scaler.fit_transform(Final_input)\n",
    "    \n",
    "    return X,min_max_scaler"
   ]
  },
  {
   "cell_type": "code",
   "execution_count": 109,
   "id": "5adb7061",
   "metadata": {},
   "outputs": [],
   "source": [
    "from sklearn import preprocessing\n",
    "X = min_max_scale()"
   ]
  },
  {
   "cell_type": "code",
   "execution_count": 112,
   "id": "9ff41c9c",
   "metadata": {},
   "outputs": [],
   "source": [
    "def time_based_split():\n",
    "    X_train =[]\n",
    "    X_test=[]\n",
    "    Y_train=[]\n",
    "    Y_test=[]\n",
    "    years_df = list(df['Year'])\n",
    "    \n",
    "    for i in range(len(years_df)):\n",
    "        if years_df[i] ==2018 or years_df[i]==2017:\n",
    "            X_test.append(X[i])\n",
    "            Y_test.append(Y[i])\n",
    "        else:\n",
    "            X_train.append(X[i])\n",
    "            Y_train.append(Y[i])\n",
    "            \n",
    "    return X_train,Y_train,X_test,Y_test"
   ]
  },
  {
   "cell_type": "code",
   "execution_count": 113,
   "id": "f94c40a3",
   "metadata": {},
   "outputs": [],
   "source": [
    "X_train,Y_train,X_test,Y_test = time_based_split()"
   ]
  },
  {
   "cell_type": "code",
   "execution_count": 114,
   "id": "8904b2b7",
   "metadata": {},
   "outputs": [
    {
     "data": {
      "text/plain": [
       "(141341, 31390)"
      ]
     },
     "execution_count": 114,
     "metadata": {},
     "output_type": "execute_result"
    }
   ],
   "source": [
    "len(X_train),len(X_test)"
   ]
  },
  {
   "cell_type": "code",
   "execution_count": 120,
   "id": "b8c8518c",
   "metadata": {},
   "outputs": [],
   "source": [
    "from sklearn import linear_model\n",
    "def fit_lasso(X_train,Y_train,X_test,Y_test):\n",
    " \n",
    "    rgsrL = linear_model.Lasso(alpha=0.1)\n",
    "    rgsrL.fit(X_train,Y_train)\n",
    "\n",
    "    y_pred= rgsrL.predict(X_test)\n",
    "\n",
    "    y_pred_train = rgsrL.predict(X_train)\n",
    "    print('*'*100)\n",
    "    print(\"TRAIN ERROR\")\n",
    "\n",
    "    print('MAE:', metrics.mean_absolute_error(Y_train, y_pred_train))  \n",
    "    print('MSE:', metrics.mean_squared_error(Y_train, y_pred_train))  \n",
    "    print('RMSE:', np.sqrt(metrics.mean_squared_error(Y_train, y_pred_train)))\n",
    "    \n",
    "    print('*'*100)\n",
    "    print(\"TEST ERROR\")\n",
    "    \n",
    "    print('MAE:', metrics.mean_absolute_error(Y_test, y_pred))  \n",
    "    print('MSE:', metrics.mean_squared_error(Y_test, y_pred))  \n",
    "    print('RMSE:', np.sqrt(metrics.mean_squared_error(Y_test, y_pred)))\n",
    "    \n",
    "    print('*'*100)\n",
    "    for i in range(10):\n",
    "        print('Pred: ',y_pred[i],' True: ',Y_test[i])"
   ]
  },
  {
   "cell_type": "code",
   "execution_count": 234,
   "id": "942023ab",
   "metadata": {},
   "outputs": [],
   "source": [
    "def fit_rf(X_train,Y_train,X_test,Y_test, n_estimators=100,max_depth=7,verbose=2):\n",
    " \n",
    "    regressor = RandomForestRegressor(n_estimators = 100,max_depth=7,verbose=2, random_state = 0)\n",
    "\n",
    "    # fit the regressor with x and y data\n",
    "    regressor.fit(X_train, Y_train)\n",
    "\n",
    "    y_pred = regressor.predict(X_test) \n",
    "    y_pred_train = regressor.predict(X_train)\n",
    "    \n",
    "    print('*'*100)\n",
    "    print(\"TRAIN ERROR\")\n",
    "\n",
    "    print('MAE:', metrics.mean_absolute_error(Y_train, y_pred_train))  \n",
    "    print('MSE:', metrics.mean_squared_error(Y_train, y_pred_train))  \n",
    "    print('RMSE:', np.sqrt(metrics.mean_squared_error(Y_train, y_pred_train)))\n",
    "    \n",
    "    print('*'*100)\n",
    "    print(\"TEST ERROR\")\n",
    "    \n",
    "    print('MAE:', metrics.mean_absolute_error(Y_test, y_pred))  \n",
    "    print('MSE:', metrics.mean_squared_error(Y_test, y_pred))  \n",
    "    print('RMSE:', np.sqrt(metrics.mean_squared_error(Y_test, y_pred)))\n",
    "    \n",
    "    print('*'*100)\n",
    "    for i in range(10):\n",
    "        print('Pred: ',y_pred[i],' True: ',Y_test[i])\n",
    "        \n",
    "    return regressor"
   ]
  },
  {
   "cell_type": "code",
   "execution_count": 123,
   "id": "ecbb38cd",
   "metadata": {},
   "outputs": [
    {
     "name": "stdout",
     "output_type": "stream",
     "text": [
      "****************************************************************************************************\n",
      "TRAIN ERROR\n",
      "MAE: 33.75592065385851\n",
      "MSE: 11507.450763415764\n",
      "RMSE: 107.27278668616643\n",
      "****************************************************************************************************\n",
      "TEST ERROR\n",
      "MAE: 39.118088510773426\n",
      "MSE: 17199.744815535425\n",
      "RMSE: 131.14779760078102\n",
      "****************************************************************************************************\n",
      "Pred:  867.2005070616894  True:  855.0\n",
      "Pred:  858.6096278111019  True:  850.0\n",
      "Pred:  852.9046456265659  True:  840.0\n",
      "Pred:  843.7624428044023  True:  830.0\n",
      "Pred:  833.5255853503946  True:  810.0\n",
      "Pred:  814.7646901061053  True:  800.0\n",
      "Pred:  805.2646323086196  True:  810.0\n",
      "Pred:  810.3774993936565  True:  825.0\n",
      "Pred:  821.6650577929884  True:  840.0\n",
      "Pred:  833.650897650823  True:  820.0\n"
     ]
    }
   ],
   "source": [
    "fit_lasso(X_train,Y_train,X_test,Y_test)"
   ]
  },
  {
   "cell_type": "code",
   "execution_count": 124,
   "id": "351f5313",
   "metadata": {},
   "outputs": [
    {
     "name": "stderr",
     "output_type": "stream",
     "text": [
      "[Parallel(n_jobs=1)]: Using backend SequentialBackend with 1 concurrent workers.\n"
     ]
    },
    {
     "name": "stdout",
     "output_type": "stream",
     "text": [
      "building tree 1 of 100\n"
     ]
    },
    {
     "name": "stderr",
     "output_type": "stream",
     "text": [
      "[Parallel(n_jobs=1)]: Done   1 out of   1 | elapsed:    0.9s remaining:    0.0s\n"
     ]
    },
    {
     "name": "stdout",
     "output_type": "stream",
     "text": [
      "building tree 2 of 100\n",
      "building tree 3 of 100\n",
      "building tree 4 of 100\n",
      "building tree 5 of 100\n",
      "building tree 6 of 100\n",
      "building tree 7 of 100\n",
      "building tree 8 of 100\n",
      "building tree 9 of 100\n",
      "building tree 10 of 100\n",
      "building tree 11 of 100\n",
      "building tree 12 of 100\n",
      "building tree 13 of 100\n",
      "building tree 14 of 100\n",
      "building tree 15 of 100\n",
      "building tree 16 of 100\n",
      "building tree 17 of 100\n",
      "building tree 18 of 100\n",
      "building tree 19 of 100\n",
      "building tree 20 of 100\n",
      "building tree 21 of 100\n",
      "building tree 22 of 100\n",
      "building tree 23 of 100\n",
      "building tree 24 of 100\n",
      "building tree 25 of 100\n",
      "building tree 26 of 100\n",
      "building tree 27 of 100\n",
      "building tree 28 of 100\n",
      "building tree 29 of 100\n",
      "building tree 30 of 100\n",
      "building tree 31 of 100\n",
      "building tree 32 of 100\n",
      "building tree 33 of 100\n",
      "building tree 34 of 100\n",
      "building tree 35 of 100\n",
      "building tree 36 of 100\n",
      "building tree 37 of 100\n",
      "building tree 38 of 100\n",
      "building tree 39 of 100\n",
      "building tree 40 of 100\n",
      "building tree 41 of 100\n",
      "building tree 42 of 100\n",
      "building tree 43 of 100\n",
      "building tree 44 of 100\n",
      "building tree 45 of 100\n",
      "building tree 46 of 100\n",
      "building tree 47 of 100\n",
      "building tree 48 of 100\n",
      "building tree 49 of 100\n",
      "building tree 50 of 100\n",
      "building tree 51 of 100\n",
      "building tree 52 of 100\n",
      "building tree 53 of 100\n",
      "building tree 54 of 100\n",
      "building tree 55 of 100\n",
      "building tree 56 of 100\n",
      "building tree 57 of 100\n",
      "building tree 58 of 100\n",
      "building tree 59 of 100\n",
      "building tree 60 of 100\n",
      "building tree 61 of 100\n",
      "building tree 62 of 100\n",
      "building tree 63 of 100\n",
      "building tree 64 of 100\n",
      "building tree 65 of 100\n",
      "building tree 66 of 100\n",
      "building tree 67 of 100\n",
      "building tree 68 of 100\n",
      "building tree 69 of 100\n",
      "building tree 70 of 100\n",
      "building tree 71 of 100\n",
      "building tree 72 of 100\n",
      "building tree 73 of 100\n",
      "building tree 74 of 100\n",
      "building tree 75 of 100\n",
      "building tree 76 of 100\n",
      "building tree 77 of 100\n",
      "building tree 78 of 100\n",
      "building tree 79 of 100\n",
      "building tree 80 of 100\n",
      "building tree 81 of 100\n",
      "building tree 82 of 100\n",
      "building tree 83 of 100\n",
      "building tree 84 of 100\n",
      "building tree 85 of 100\n",
      "building tree 86 of 100\n",
      "building tree 87 of 100\n",
      "building tree 88 of 100\n",
      "building tree 89 of 100\n",
      "building tree 90 of 100\n",
      "building tree 91 of 100\n",
      "building tree 92 of 100\n",
      "building tree 93 of 100\n",
      "building tree 94 of 100\n",
      "building tree 95 of 100\n",
      "building tree 96 of 100\n",
      "building tree 97 of 100\n",
      "building tree 98 of 100\n",
      "building tree 99 of 100\n",
      "building tree 100 of 100\n"
     ]
    },
    {
     "name": "stderr",
     "output_type": "stream",
     "text": [
      "[Parallel(n_jobs=1)]: Done 100 out of 100 | elapsed:  1.5min finished\n",
      "[Parallel(n_jobs=1)]: Using backend SequentialBackend with 1 concurrent workers.\n",
      "[Parallel(n_jobs=1)]: Done   1 out of   1 | elapsed:    0.0s remaining:    0.0s\n",
      "[Parallel(n_jobs=1)]: Done 100 out of 100 | elapsed:    0.1s finished\n",
      "[Parallel(n_jobs=1)]: Using backend SequentialBackend with 1 concurrent workers.\n",
      "[Parallel(n_jobs=1)]: Done   1 out of   1 | elapsed:    0.0s remaining:    0.0s\n"
     ]
    },
    {
     "name": "stdout",
     "output_type": "stream",
     "text": [
      "****************************************************************************************************\n",
      "TRAIN ERROR\n",
      "MAE: 31.12395348166862\n",
      "MSE: 8127.815488357081\n",
      "RMSE: 90.15439805332339\n",
      "****************************************************************************************************\n",
      "TEST ERROR\n",
      "MAE: 40.11714491950967\n",
      "MSE: 14689.348342468074\n",
      "RMSE: 121.19962187427845\n",
      "****************************************************************************************************\n",
      "Pred:  862.875085294231  True:  855.0\n",
      "Pred:  857.6706120372768  True:  850.0\n",
      "Pred:  857.4613789407422  True:  840.0\n",
      "Pred:  852.8728159716958  True:  830.0\n",
      "Pred:  819.7947809430765  True:  810.0\n",
      "Pred:  811.1709044007289  True:  800.0\n",
      "Pred:  807.0929273175633  True:  810.0\n",
      "Pred:  811.1709044007289  True:  825.0\n",
      "Pred:  818.1751629291379  True:  840.0\n",
      "Pred:  892.0966187356426  True:  820.0\n"
     ]
    },
    {
     "name": "stderr",
     "output_type": "stream",
     "text": [
      "[Parallel(n_jobs=1)]: Done 100 out of 100 | elapsed:    0.5s finished\n"
     ]
    }
   ],
   "source": [
    "fit_rf(X_train,Y_train,X_test,Y_test)"
   ]
  },
  {
   "cell_type": "code",
   "execution_count": 125,
   "id": "e42ff217",
   "metadata": {},
   "outputs": [
    {
     "name": "stderr",
     "output_type": "stream",
     "text": [
      "[Parallel(n_jobs=1)]: Using backend SequentialBackend with 1 concurrent workers.\n"
     ]
    },
    {
     "name": "stdout",
     "output_type": "stream",
     "text": [
      "building tree 1 of 100\n"
     ]
    },
    {
     "name": "stderr",
     "output_type": "stream",
     "text": [
      "[Parallel(n_jobs=1)]: Done   1 out of   1 | elapsed:    0.9s remaining:    0.0s\n"
     ]
    },
    {
     "name": "stdout",
     "output_type": "stream",
     "text": [
      "building tree 2 of 100\n",
      "building tree 3 of 100\n",
      "building tree 4 of 100\n",
      "building tree 5 of 100\n",
      "building tree 6 of 100\n",
      "building tree 7 of 100\n",
      "building tree 8 of 100\n",
      "building tree 9 of 100\n",
      "building tree 10 of 100\n",
      "building tree 11 of 100\n",
      "building tree 12 of 100\n",
      "building tree 13 of 100\n",
      "building tree 14 of 100\n",
      "building tree 15 of 100\n",
      "building tree 16 of 100\n",
      "building tree 17 of 100\n",
      "building tree 18 of 100\n",
      "building tree 19 of 100\n",
      "building tree 20 of 100\n",
      "building tree 21 of 100\n",
      "building tree 22 of 100\n",
      "building tree 23 of 100\n",
      "building tree 24 of 100\n",
      "building tree 25 of 100\n",
      "building tree 26 of 100\n",
      "building tree 27 of 100\n",
      "building tree 28 of 100\n",
      "building tree 29 of 100\n",
      "building tree 30 of 100\n",
      "building tree 31 of 100\n",
      "building tree 32 of 100\n",
      "building tree 33 of 100\n",
      "building tree 34 of 100\n",
      "building tree 35 of 100\n",
      "building tree 36 of 100\n",
      "building tree 37 of 100\n",
      "building tree 38 of 100\n",
      "building tree 39 of 100\n",
      "building tree 40 of 100\n",
      "building tree 41 of 100\n",
      "building tree 42 of 100\n",
      "building tree 43 of 100\n",
      "building tree 44 of 100\n",
      "building tree 45 of 100\n",
      "building tree 46 of 100\n",
      "building tree 47 of 100\n",
      "building tree 48 of 100\n",
      "building tree 49 of 100\n",
      "building tree 50 of 100\n",
      "building tree 51 of 100\n",
      "building tree 52 of 100\n",
      "building tree 53 of 100\n",
      "building tree 54 of 100\n",
      "building tree 55 of 100\n",
      "building tree 56 of 100\n",
      "building tree 57 of 100\n",
      "building tree 58 of 100\n",
      "building tree 59 of 100\n",
      "building tree 60 of 100\n",
      "building tree 61 of 100\n",
      "building tree 62 of 100\n",
      "building tree 63 of 100\n",
      "building tree 64 of 100\n",
      "building tree 65 of 100\n",
      "building tree 66 of 100\n",
      "building tree 67 of 100\n",
      "building tree 68 of 100\n",
      "building tree 69 of 100\n",
      "building tree 70 of 100\n",
      "building tree 71 of 100\n",
      "building tree 72 of 100\n",
      "building tree 73 of 100\n",
      "building tree 74 of 100\n",
      "building tree 75 of 100\n",
      "building tree 76 of 100\n",
      "building tree 77 of 100\n",
      "building tree 78 of 100\n",
      "building tree 79 of 100\n",
      "building tree 80 of 100\n",
      "building tree 81 of 100\n",
      "building tree 82 of 100\n",
      "building tree 83 of 100\n",
      "building tree 84 of 100\n",
      "building tree 85 of 100\n",
      "building tree 86 of 100\n",
      "building tree 87 of 100\n",
      "building tree 88 of 100\n",
      "building tree 89 of 100\n",
      "building tree 90 of 100\n",
      "building tree 91 of 100\n",
      "building tree 92 of 100\n",
      "building tree 93 of 100\n",
      "building tree 94 of 100\n",
      "building tree 95 of 100\n",
      "building tree 96 of 100\n",
      "building tree 97 of 100\n",
      "building tree 98 of 100\n",
      "building tree 99 of 100\n",
      "building tree 100 of 100\n"
     ]
    },
    {
     "name": "stderr",
     "output_type": "stream",
     "text": [
      "[Parallel(n_jobs=1)]: Done 100 out of 100 | elapsed:  1.5min finished\n",
      "[Parallel(n_jobs=1)]: Using backend SequentialBackend with 1 concurrent workers.\n",
      "[Parallel(n_jobs=1)]: Done   1 out of   1 | elapsed:    0.0s remaining:    0.0s\n",
      "[Parallel(n_jobs=1)]: Done 100 out of 100 | elapsed:    0.1s finished\n",
      "[Parallel(n_jobs=1)]: Using backend SequentialBackend with 1 concurrent workers.\n",
      "[Parallel(n_jobs=1)]: Done   1 out of   1 | elapsed:    0.0s remaining:    0.0s\n"
     ]
    },
    {
     "name": "stdout",
     "output_type": "stream",
     "text": [
      "****************************************************************************************************\n",
      "TRAIN ERROR\n",
      "MAE: 31.12395348166862\n",
      "MSE: 8127.815488357081\n",
      "RMSE: 90.15439805332339\n",
      "****************************************************************************************************\n",
      "TEST ERROR\n",
      "MAE: 40.11714491950967\n",
      "MSE: 14689.348342468074\n",
      "RMSE: 121.19962187427845\n",
      "****************************************************************************************************\n",
      "Pred:  862.875085294231  True:  855.0\n",
      "Pred:  857.6706120372768  True:  850.0\n",
      "Pred:  857.4613789407422  True:  840.0\n",
      "Pred:  852.8728159716958  True:  830.0\n",
      "Pred:  819.7947809430765  True:  810.0\n",
      "Pred:  811.1709044007289  True:  800.0\n",
      "Pred:  807.0929273175633  True:  810.0\n",
      "Pred:  811.1709044007289  True:  825.0\n",
      "Pred:  818.1751629291379  True:  840.0\n",
      "Pred:  892.0966187356426  True:  820.0\n"
     ]
    },
    {
     "name": "stderr",
     "output_type": "stream",
     "text": [
      "[Parallel(n_jobs=1)]: Done 100 out of 100 | elapsed:    0.5s finished\n"
     ]
    }
   ],
   "source": [
    "fit_rf(X_train,Y_train,X_test,Y_test,150,9,2)"
   ]
  },
  {
   "cell_type": "code",
   "execution_count": 126,
   "id": "dbbf6c5e",
   "metadata": {},
   "outputs": [],
   "source": [
    "prices = list(df['Imp_Price'])"
   ]
  },
  {
   "cell_type": "code",
   "execution_count": 128,
   "id": "0a1179bc",
   "metadata": {},
   "outputs": [
    {
     "name": "stdout",
     "output_type": "stream",
     "text": [
      "MAE: 30.198885384946667\n",
      "MSE: 13350.408650849478\n",
      "RMSE: 115.54396847455725\n"
     ]
    }
   ],
   "source": [
    "print('MAE:', metrics.mean_absolute_error(prices[1:], prices[:len(prices)-1]))  \n",
    "print('MSE:', metrics.mean_squared_error(prices[1:], prices[:len(prices)-1]))  \n",
    "print('RMSE:', np.sqrt(metrics.mean_squared_error(prices[1:], prices[:len(prices)-1])))"
   ]
  },
  {
   "cell_type": "code",
   "execution_count": 129,
   "id": "aa424829",
   "metadata": {},
   "outputs": [],
   "source": [
    "def remove_outliers(X_train,Y_train,X_test,Y_test,up,low):\n",
    "    X_train_95 = X_train.copy()\n",
    "    X_test_95 = X_test.copy()\n",
    "    Y_train_95 = Y_train.copy()\n",
    "    Y_test_95 = Y_test.copy()\n",
    "\n",
    "    high =np.percentile(Y, up)\n",
    "    low = np.percentile(Y,low)\n",
    "\n",
    "    outlier_indexes=[]\n",
    "\n",
    "\n",
    "    for i in range(len(X_train)):\n",
    "        if Y_train[i]<=low or Y_train[i]>=high:\n",
    "            outlier_indexes.append(i)\n",
    "\n",
    "\n",
    "    for index in sorted(outlier_indexes, reverse=True):\n",
    "        del X_train_95[index]\n",
    "        del Y_train_95[index]\n",
    "\n",
    "\n",
    "    outlier_indexes=[]\n",
    "\n",
    "    for i in range(len(X_test)):\n",
    "        if Y_test[i]<=low or Y_test[i]>=high:\n",
    "            outlier_indexes.append(i)\n",
    "\n",
    "\n",
    "    for index in sorted(outlier_indexes, reverse=True):\n",
    "        del X_test_95[index]\n",
    "        del Y_test_95[index]\n",
    "        \n",
    "    return X_train_95,X_test_95,Y_train_95,Y_test_95"
   ]
  },
  {
   "cell_type": "code",
   "execution_count": 130,
   "id": "bebc2575",
   "metadata": {},
   "outputs": [],
   "source": [
    "X_train_95,X_test_95,Y_train_95,Y_test_95 = remove_outliers(X_train,Y_train,X_test,Y_test,95,5)"
   ]
  },
  {
   "cell_type": "code",
   "execution_count": 132,
   "id": "91e58a61",
   "metadata": {},
   "outputs": [
    {
     "name": "stdout",
     "output_type": "stream",
     "text": [
      "****************************************************************************************************\n",
      "TRAIN ERROR\n",
      "MAE: 30.880395148898025\n",
      "MSE: 6131.557512422532\n",
      "RMSE: 78.30426241541728\n",
      "****************************************************************************************************\n",
      "TEST ERROR\n",
      "MAE: 39.09156898554603\n",
      "MSE: 10538.51688499837\n",
      "RMSE: 102.6572787726149\n",
      "****************************************************************************************************\n",
      "Pred:  879.6664116925865  True:  855.0\n",
      "Pred:  868.541509984597  True:  850.0\n",
      "Pred:  862.4113161706259  True:  840.0\n",
      "Pred:  853.5593299471107  True:  830.0\n",
      "Pred:  843.4559609996638  True:  810.0\n",
      "Pred:  824.9842567982379  True:  800.0\n",
      "Pred:  816.9764692348751  True:  810.0\n",
      "Pred:  820.1758824909556  True:  825.0\n",
      "Pred:  828.4733469863011  True:  840.0\n",
      "Pred:  840.9086461648193  True:  820.0\n"
     ]
    }
   ],
   "source": [
    "fit_lasso(X_train_95,Y_train_95,X_test_95,Y_test_95)"
   ]
  },
  {
   "cell_type": "code",
   "execution_count": 133,
   "id": "5f8bfdea",
   "metadata": {},
   "outputs": [
    {
     "name": "stderr",
     "output_type": "stream",
     "text": [
      "[Parallel(n_jobs=1)]: Using backend SequentialBackend with 1 concurrent workers.\n"
     ]
    },
    {
     "name": "stdout",
     "output_type": "stream",
     "text": [
      "building tree 1 of 100\n"
     ]
    },
    {
     "name": "stderr",
     "output_type": "stream",
     "text": [
      "[Parallel(n_jobs=1)]: Done   1 out of   1 | elapsed:    0.8s remaining:    0.0s\n"
     ]
    },
    {
     "name": "stdout",
     "output_type": "stream",
     "text": [
      "building tree 2 of 100\n",
      "building tree 3 of 100\n",
      "building tree 4 of 100\n",
      "building tree 5 of 100\n",
      "building tree 6 of 100\n",
      "building tree 7 of 100\n",
      "building tree 8 of 100\n",
      "building tree 9 of 100\n",
      "building tree 10 of 100\n",
      "building tree 11 of 100\n",
      "building tree 12 of 100\n",
      "building tree 13 of 100\n",
      "building tree 14 of 100\n",
      "building tree 15 of 100\n",
      "building tree 16 of 100\n",
      "building tree 17 of 100\n",
      "building tree 18 of 100\n",
      "building tree 19 of 100\n",
      "building tree 20 of 100\n",
      "building tree 21 of 100\n",
      "building tree 22 of 100\n",
      "building tree 23 of 100\n",
      "building tree 24 of 100\n",
      "building tree 25 of 100\n",
      "building tree 26 of 100\n",
      "building tree 27 of 100\n",
      "building tree 28 of 100\n",
      "building tree 29 of 100\n",
      "building tree 30 of 100\n",
      "building tree 31 of 100\n",
      "building tree 32 of 100\n",
      "building tree 33 of 100\n",
      "building tree 34 of 100\n",
      "building tree 35 of 100\n",
      "building tree 36 of 100\n",
      "building tree 37 of 100\n",
      "building tree 38 of 100\n",
      "building tree 39 of 100\n",
      "building tree 40 of 100\n",
      "building tree 41 of 100\n",
      "building tree 42 of 100\n",
      "building tree 43 of 100\n",
      "building tree 44 of 100\n",
      "building tree 45 of 100\n",
      "building tree 46 of 100\n",
      "building tree 47 of 100\n",
      "building tree 48 of 100\n",
      "building tree 49 of 100\n",
      "building tree 50 of 100\n",
      "building tree 51 of 100\n",
      "building tree 52 of 100\n",
      "building tree 53 of 100\n",
      "building tree 54 of 100\n",
      "building tree 55 of 100\n",
      "building tree 56 of 100\n",
      "building tree 57 of 100\n",
      "building tree 58 of 100\n",
      "building tree 59 of 100\n",
      "building tree 60 of 100\n",
      "building tree 61 of 100\n",
      "building tree 62 of 100\n",
      "building tree 63 of 100\n",
      "building tree 64 of 100\n",
      "building tree 65 of 100\n",
      "building tree 66 of 100\n",
      "building tree 67 of 100\n",
      "building tree 68 of 100\n",
      "building tree 69 of 100\n",
      "building tree 70 of 100\n",
      "building tree 71 of 100\n",
      "building tree 72 of 100\n",
      "building tree 73 of 100\n",
      "building tree 74 of 100\n",
      "building tree 75 of 100\n",
      "building tree 76 of 100\n",
      "building tree 77 of 100\n",
      "building tree 78 of 100\n",
      "building tree 79 of 100\n",
      "building tree 80 of 100\n",
      "building tree 81 of 100\n",
      "building tree 82 of 100\n",
      "building tree 83 of 100\n",
      "building tree 84 of 100\n",
      "building tree 85 of 100\n",
      "building tree 86 of 100\n",
      "building tree 87 of 100\n",
      "building tree 88 of 100\n",
      "building tree 89 of 100\n",
      "building tree 90 of 100\n",
      "building tree 91 of 100\n",
      "building tree 92 of 100\n",
      "building tree 93 of 100\n",
      "building tree 94 of 100\n",
      "building tree 95 of 100\n",
      "building tree 96 of 100\n",
      "building tree 97 of 100\n",
      "building tree 98 of 100\n",
      "building tree 99 of 100\n",
      "building tree 100 of 100\n"
     ]
    },
    {
     "name": "stderr",
     "output_type": "stream",
     "text": [
      "[Parallel(n_jobs=1)]: Done 100 out of 100 | elapsed:  1.3min finished\n",
      "[Parallel(n_jobs=1)]: Using backend SequentialBackend with 1 concurrent workers.\n",
      "[Parallel(n_jobs=1)]: Done   1 out of   1 | elapsed:    0.0s remaining:    0.0s\n",
      "[Parallel(n_jobs=1)]: Done 100 out of 100 | elapsed:    0.1s finished\n",
      "[Parallel(n_jobs=1)]: Using backend SequentialBackend with 1 concurrent workers.\n",
      "[Parallel(n_jobs=1)]: Done   1 out of   1 | elapsed:    0.0s remaining:    0.0s\n"
     ]
    },
    {
     "name": "stdout",
     "output_type": "stream",
     "text": [
      "****************************************************************************************************\n",
      "TRAIN ERROR\n",
      "MAE: 24.16884600962377\n",
      "MSE: 3327.4062099630205\n",
      "RMSE: 57.68367368643419\n",
      "****************************************************************************************************\n",
      "TEST ERROR\n",
      "MAE: 35.26514467017232\n",
      "MSE: 5829.832703250459\n",
      "RMSE: 76.35334114006052\n",
      "****************************************************************************************************\n",
      "Pred:  845.5307576050405  True:  855.0\n",
      "Pred:  842.5238409338193  True:  850.0\n",
      "Pred:  841.9743919223097  True:  840.0\n",
      "Pred:  840.1171270840596  True:  830.0\n",
      "Pred:  837.7978824795083  True:  810.0\n",
      "Pred:  826.6857021487123  True:  800.0\n",
      "Pred:  805.7708543670825  True:  810.0\n",
      "Pred:  809.1416971589498  True:  825.0\n",
      "Pred:  829.7024190519384  True:  840.0\n",
      "Pred:  840.0205286088051  True:  820.0\n"
     ]
    },
    {
     "name": "stderr",
     "output_type": "stream",
     "text": [
      "[Parallel(n_jobs=1)]: Done 100 out of 100 | elapsed:    0.4s finished\n"
     ]
    }
   ],
   "source": [
    "fit_rf(X_train_95,Y_train_95,X_test_95,Y_test_95)"
   ]
  },
  {
   "cell_type": "code",
   "execution_count": 135,
   "id": "448c97f0",
   "metadata": {},
   "outputs": [
    {
     "data": {
      "text/plain": [
       "array([533.577743091078, 564.358912379708, 562.8253237470766, ..., 1150.0,\n",
       "       1125.0, 615.056990106931], dtype=object)"
      ]
     },
     "execution_count": 135,
     "metadata": {},
     "output_type": "execute_result"
    }
   ],
   "source": [
    "Y\n"
   ]
  },
  {
   "cell_type": "code",
   "execution_count": 137,
   "id": "adf7cb7a",
   "metadata": {},
   "outputs": [],
   "source": [
    "with open('Y_price_updated_impute_95.npy', 'wb') as f:\n",
    "    np.save(f, Y)"
   ]
  },
  {
   "cell_type": "code",
   "execution_count": 176,
   "id": "6a54614c",
   "metadata": {},
   "outputs": [
    {
     "data": {
      "text/plain": [
       "141341"
      ]
     },
     "execution_count": 176,
     "metadata": {},
     "output_type": "execute_result"
    }
   ],
   "source": [
    "len(X_train)"
   ]
  },
  {
   "cell_type": "code",
   "execution_count": 177,
   "id": "4ee45f1d",
   "metadata": {},
   "outputs": [],
   "source": [
    "districts_array = df['District']"
   ]
  },
  {
   "cell_type": "code",
   "execution_count": 178,
   "id": "7178c3ad",
   "metadata": {},
   "outputs": [
    {
     "data": {
      "text/plain": [
       "(172731,)"
      ]
     },
     "execution_count": 178,
     "metadata": {},
     "output_type": "execute_result"
    }
   ],
   "source": [
    "districts_array.shape"
   ]
  },
  {
   "cell_type": "code",
   "execution_count": 180,
   "id": "2897b711",
   "metadata": {},
   "outputs": [],
   "source": [
    "districts_array = np.array(districts_array)"
   ]
  },
  {
   "cell_type": "code",
   "execution_count": 182,
   "id": "faab1d8a",
   "metadata": {},
   "outputs": [
    {
     "data": {
      "text/plain": [
       "array(['Agra', 'Agra', 'Agra', ..., 'Unnao', 'Unnao', 'Unnao'],\n",
       "      dtype=object)"
      ]
     },
     "execution_count": 182,
     "metadata": {},
     "output_type": "execute_result"
    }
   ],
   "source": [
    "districts_array"
   ]
  },
  {
   "cell_type": "markdown",
   "id": "f5ea96e6",
   "metadata": {},
   "source": [
    "# Embedded input"
   ]
  },
  {
   "cell_type": "code",
   "execution_count": 183,
   "id": "f6de788d",
   "metadata": {},
   "outputs": [],
   "source": [
    "df_market_embedding = pd.read_csv('market_embedding.csv')\n",
    "df_market_embedding = df_market_embedding.drop(['Unnamed: 0'],axis=1)\n",
    "df_market_embedding = df_market_embedding.reset_index(drop=True)\n",
    "\n",
    "markets = df['Market'].unique()\n",
    "markets = list(markets)\n",
    "\n",
    "market_array= df['Market']\n",
    "\n",
    "market_input=[]\n",
    "for i in range(df.shape[0]):\n",
    "    market = df['Market'][i]\n",
    "    index = markets.index(market)\n",
    "    market_input.append([df_market_embedding['C1'][index],df_market_embedding['C2'][index],df_market_embedding['C3'][index]])\n",
    "    "
   ]
  },
  {
   "cell_type": "code",
   "execution_count": 207,
   "id": "cbbbf838",
   "metadata": {},
   "outputs": [],
   "source": [
    "df_month_embedding = pd.read_csv('month_embedding.csv')\n",
    "df_month_embedding = df_month_embedding.drop(['Unnamed: 0'],axis=1)\n",
    "df_month_embedding = df_month_embedding.reset_index(drop=True)\n",
    "\n",
    "months = df['Month'].unique()\n",
    "months = list(months)\n",
    "\n",
    "month_array= df['Month']\n",
    "\n",
    "\n",
    "month_input=[]\n",
    "for i in range(df.shape[0]):\n",
    "    month = df['Month'][i]\n",
    "    index = months.index(month)\n",
    "    month_input.append([df_month_embedding['C1'][index],df_month_embedding['C2'][index],df_month_embedding['C3'][index]])\n",
    "    "
   ]
  },
  {
   "cell_type": "code",
   "execution_count": 215,
   "id": "85736722",
   "metadata": {},
   "outputs": [],
   "source": [
    "df_day_embedding = pd.read_csv('day_embedding.csv')\n",
    "df_day_embedding = df_day_embedding.drop(['Unnamed: 0'],axis=1)\n",
    "df_day_embedding = df_day_embedding.reset_index(drop=True)\n",
    "\n",
    "days = df['Day'].unique()\n",
    "days = list(days)\n",
    "\n",
    "day_array= df['Day']\n",
    "\n",
    "\n",
    "day_input=[]\n",
    "for i in range(df.shape[0]):\n",
    "    day = df['Day'][i]\n",
    "    index = days.index(day)\n",
    "    day_input.append([df_day_embedding['C1'][index],df_day_embedding['C2'][index],df_day_embedding['C3'][index]])\n",
    "    "
   ]
  },
  {
   "cell_type": "code",
   "execution_count": 220,
   "id": "5e1b94f9",
   "metadata": {},
   "outputs": [],
   "source": [
    "def make_final_embedded_input():\n",
    "    market_array = np.array(market_input)\n",
    "    day_array =np.array(day_input)\n",
    "    month_array = np.array(month_input)\n",
    "    PriceNanFlag_array,ArrivalNanFlag_array = make_price_nan_arrival_nan_array()\n",
    "    \n",
    "    \n",
    "    input_ = df.values[:,[9,10,11,12,13,14,15,16, 21,22,23,24,25,26,27,28,29,30,31,32]]\n",
    "    Final_input = np.concatenate((input_,PriceNanFlag_array,ArrivalNanFlag_array,market_array,month_array,day_array),axis=1)\n",
    "    \n",
    "    \n",
    "    return Final_input"
   ]
  },
  {
   "cell_type": "code",
   "execution_count": 223,
   "id": "dc4e6dce",
   "metadata": {},
   "outputs": [],
   "source": [
    "Final_input = make_final_embedded_input()"
   ]
  },
  {
   "cell_type": "code",
   "execution_count": 224,
   "id": "c71f4a69",
   "metadata": {},
   "outputs": [
    {
     "data": {
      "text/plain": [
       "(172731, 31)"
      ]
     },
     "execution_count": 224,
     "metadata": {},
     "output_type": "execute_result"
    }
   ],
   "source": [
    "Final_input.shape"
   ]
  },
  {
   "cell_type": "code",
   "execution_count": 225,
   "id": "b83d7fd3",
   "metadata": {},
   "outputs": [],
   "source": [
    "Y= df.values[:,5]"
   ]
  },
  {
   "cell_type": "code",
   "execution_count": 226,
   "id": "d9c6cffd",
   "metadata": {},
   "outputs": [],
   "source": [
    "X = min_max_scale()"
   ]
  },
  {
   "cell_type": "code",
   "execution_count": 227,
   "id": "a0ae0ef7",
   "metadata": {},
   "outputs": [
    {
     "data": {
      "text/plain": [
       "(172731, 31)"
      ]
     },
     "execution_count": 227,
     "metadata": {},
     "output_type": "execute_result"
    }
   ],
   "source": [
    "X.shape"
   ]
  },
  {
   "cell_type": "code",
   "execution_count": 228,
   "id": "dac7c4be",
   "metadata": {},
   "outputs": [],
   "source": [
    "X_train,Y_train,X_test,Y_test = time_based_split()"
   ]
  },
  {
   "cell_type": "code",
   "execution_count": 229,
   "id": "4ea1ba3e",
   "metadata": {},
   "outputs": [
    {
     "name": "stdout",
     "output_type": "stream",
     "text": [
      "****************************************************************************************************\n",
      "TRAIN ERROR\n",
      "MAE: 33.443880343992134\n",
      "MSE: 11545.005282022725\n",
      "RMSE: 107.44768625718622\n",
      "****************************************************************************************************\n",
      "TEST ERROR\n",
      "MAE: 39.006224901371425\n",
      "MSE: 17235.59101728453\n",
      "RMSE: 131.28438984618288\n",
      "****************************************************************************************************\n",
      "Pred:  871.664056100824  True:  855.0\n",
      "Pred:  864.1841375148522  True:  850.0\n",
      "Pred:  858.2127269195737  True:  840.0\n",
      "Pred:  848.8738027410468  True:  830.0\n",
      "Pred:  838.6209646847656  True:  810.0\n",
      "Pred:  817.4495810569673  True:  800.0\n",
      "Pred:  810.1228261967483  True:  810.0\n",
      "Pred:  814.7745267935014  True:  825.0\n",
      "Pred:  823.0627240991472  True:  840.0\n",
      "Pred:  833.3006014185547  True:  820.0\n"
     ]
    }
   ],
   "source": [
    "fit_lasso(X_train,Y_train,X_test,Y_test)"
   ]
  },
  {
   "cell_type": "code",
   "execution_count": 230,
   "id": "660f5d8a",
   "metadata": {},
   "outputs": [
    {
     "name": "stderr",
     "output_type": "stream",
     "text": [
      "[Parallel(n_jobs=1)]: Using backend SequentialBackend with 1 concurrent workers.\n"
     ]
    },
    {
     "name": "stdout",
     "output_type": "stream",
     "text": [
      "building tree 1 of 100\n"
     ]
    },
    {
     "name": "stderr",
     "output_type": "stream",
     "text": [
      "[Parallel(n_jobs=1)]: Done   1 out of   1 | elapsed:    0.8s remaining:    0.0s\n"
     ]
    },
    {
     "name": "stdout",
     "output_type": "stream",
     "text": [
      "building tree 2 of 100\n",
      "building tree 3 of 100\n",
      "building tree 4 of 100\n",
      "building tree 5 of 100\n",
      "building tree 6 of 100\n",
      "building tree 7 of 100\n",
      "building tree 8 of 100\n",
      "building tree 9 of 100\n",
      "building tree 10 of 100\n",
      "building tree 11 of 100\n",
      "building tree 12 of 100\n",
      "building tree 13 of 100\n",
      "building tree 14 of 100\n",
      "building tree 15 of 100\n",
      "building tree 16 of 100\n",
      "building tree 17 of 100\n",
      "building tree 18 of 100\n",
      "building tree 19 of 100\n",
      "building tree 20 of 100\n",
      "building tree 21 of 100\n",
      "building tree 22 of 100\n",
      "building tree 23 of 100\n",
      "building tree 24 of 100\n",
      "building tree 25 of 100\n",
      "building tree 26 of 100\n",
      "building tree 27 of 100\n",
      "building tree 28 of 100\n",
      "building tree 29 of 100\n",
      "building tree 30 of 100\n",
      "building tree 31 of 100\n",
      "building tree 32 of 100\n",
      "building tree 33 of 100\n",
      "building tree 34 of 100\n",
      "building tree 35 of 100\n",
      "building tree 36 of 100\n",
      "building tree 37 of 100\n",
      "building tree 38 of 100\n",
      "building tree 39 of 100\n",
      "building tree 40 of 100\n",
      "building tree 41 of 100\n",
      "building tree 42 of 100\n",
      "building tree 43 of 100\n",
      "building tree 44 of 100\n",
      "building tree 45 of 100\n",
      "building tree 46 of 100\n",
      "building tree 47 of 100\n",
      "building tree 48 of 100\n",
      "building tree 49 of 100\n",
      "building tree 50 of 100\n",
      "building tree 51 of 100\n",
      "building tree 52 of 100\n",
      "building tree 53 of 100\n",
      "building tree 54 of 100\n",
      "building tree 55 of 100\n",
      "building tree 56 of 100\n",
      "building tree 57 of 100\n",
      "building tree 58 of 100\n",
      "building tree 59 of 100\n",
      "building tree 60 of 100\n",
      "building tree 61 of 100\n",
      "building tree 62 of 100\n",
      "building tree 63 of 100\n",
      "building tree 64 of 100\n",
      "building tree 65 of 100\n",
      "building tree 66 of 100\n",
      "building tree 67 of 100\n",
      "building tree 68 of 100\n",
      "building tree 69 of 100\n",
      "building tree 70 of 100\n",
      "building tree 71 of 100\n",
      "building tree 72 of 100\n",
      "building tree 73 of 100\n",
      "building tree 74 of 100\n",
      "building tree 75 of 100\n",
      "building tree 76 of 100\n",
      "building tree 77 of 100\n",
      "building tree 78 of 100\n",
      "building tree 79 of 100\n",
      "building tree 80 of 100\n",
      "building tree 81 of 100\n",
      "building tree 82 of 100\n",
      "building tree 83 of 100\n",
      "building tree 84 of 100\n",
      "building tree 85 of 100\n",
      "building tree 86 of 100\n",
      "building tree 87 of 100\n",
      "building tree 88 of 100\n",
      "building tree 89 of 100\n",
      "building tree 90 of 100\n",
      "building tree 91 of 100\n",
      "building tree 92 of 100\n",
      "building tree 93 of 100\n",
      "building tree 94 of 100\n",
      "building tree 95 of 100\n",
      "building tree 96 of 100\n",
      "building tree 97 of 100\n",
      "building tree 98 of 100\n",
      "building tree 99 of 100\n",
      "building tree 100 of 100\n"
     ]
    },
    {
     "name": "stderr",
     "output_type": "stream",
     "text": [
      "[Parallel(n_jobs=1)]: Done 100 out of 100 | elapsed:  1.3min finished\n",
      "[Parallel(n_jobs=1)]: Using backend SequentialBackend with 1 concurrent workers.\n",
      "[Parallel(n_jobs=1)]: Done   1 out of   1 | elapsed:    0.0s remaining:    0.0s\n",
      "[Parallel(n_jobs=1)]: Done 100 out of 100 | elapsed:    0.1s finished\n",
      "[Parallel(n_jobs=1)]: Using backend SequentialBackend with 1 concurrent workers.\n",
      "[Parallel(n_jobs=1)]: Done   1 out of   1 | elapsed:    0.0s remaining:    0.0s\n"
     ]
    },
    {
     "name": "stdout",
     "output_type": "stream",
     "text": [
      "****************************************************************************************************\n",
      "TRAIN ERROR\n",
      "MAE: 31.040030517370866\n",
      "MSE: 8129.444006187384\n",
      "RMSE: 90.16342942783056\n",
      "****************************************************************************************************\n",
      "TEST ERROR\n",
      "MAE: 39.07817429109518\n",
      "MSE: 14312.802780141543\n",
      "RMSE: 119.6361265677786\n",
      "****************************************************************************************************\n",
      "Pred:  870.4017561274162  True:  855.0\n",
      "Pred:  864.3625500960594  True:  850.0\n",
      "Pred:  864.1533169995248  True:  840.0\n",
      "Pred:  859.7520501660745  True:  830.0\n",
      "Pred:  819.9954622032025  True:  810.0\n",
      "Pred:  811.2456471138353  True:  800.0\n",
      "Pred:  807.1676700306696  True:  810.0\n",
      "Pred:  811.2456471138353  True:  825.0\n",
      "Pred:  818.3758441892638  True:  840.0\n",
      "Pred:  902.4958421737666  True:  820.0\n"
     ]
    },
    {
     "name": "stderr",
     "output_type": "stream",
     "text": [
      "[Parallel(n_jobs=1)]: Done 100 out of 100 | elapsed:    0.3s finished\n"
     ]
    }
   ],
   "source": [
    "fit_rf(X_train,Y_train,X_test,Y_test)"
   ]
  },
  {
   "cell_type": "code",
   "execution_count": 231,
   "id": "ae0ba171",
   "metadata": {},
   "outputs": [],
   "source": [
    "X_train_95,X_test_95,Y_train_95,Y_test_95 = remove_outliers(X_train,Y_train,X_test,Y_test,95,5)"
   ]
  },
  {
   "cell_type": "code",
   "execution_count": 235,
   "id": "b5cd9181",
   "metadata": {},
   "outputs": [
    {
     "name": "stderr",
     "output_type": "stream",
     "text": [
      "[Parallel(n_jobs=1)]: Using backend SequentialBackend with 1 concurrent workers.\n"
     ]
    },
    {
     "name": "stdout",
     "output_type": "stream",
     "text": [
      "building tree 1 of 100\n"
     ]
    },
    {
     "name": "stderr",
     "output_type": "stream",
     "text": [
      "[Parallel(n_jobs=1)]: Done   1 out of   1 | elapsed:    0.7s remaining:    0.0s\n"
     ]
    },
    {
     "name": "stdout",
     "output_type": "stream",
     "text": [
      "building tree 2 of 100\n",
      "building tree 3 of 100\n",
      "building tree 4 of 100\n",
      "building tree 5 of 100\n",
      "building tree 6 of 100\n",
      "building tree 7 of 100\n",
      "building tree 8 of 100\n",
      "building tree 9 of 100\n",
      "building tree 10 of 100\n",
      "building tree 11 of 100\n",
      "building tree 12 of 100\n",
      "building tree 13 of 100\n",
      "building tree 14 of 100\n",
      "building tree 15 of 100\n",
      "building tree 16 of 100\n",
      "building tree 17 of 100\n",
      "building tree 18 of 100\n",
      "building tree 19 of 100\n",
      "building tree 20 of 100\n",
      "building tree 21 of 100\n",
      "building tree 22 of 100\n",
      "building tree 23 of 100\n",
      "building tree 24 of 100\n",
      "building tree 25 of 100\n",
      "building tree 26 of 100\n",
      "building tree 27 of 100\n",
      "building tree 28 of 100\n",
      "building tree 29 of 100\n",
      "building tree 30 of 100\n",
      "building tree 31 of 100\n",
      "building tree 32 of 100\n",
      "building tree 33 of 100\n",
      "building tree 34 of 100\n",
      "building tree 35 of 100\n",
      "building tree 36 of 100\n",
      "building tree 37 of 100\n",
      "building tree 38 of 100\n",
      "building tree 39 of 100\n",
      "building tree 40 of 100\n",
      "building tree 41 of 100\n",
      "building tree 42 of 100\n",
      "building tree 43 of 100\n",
      "building tree 44 of 100\n",
      "building tree 45 of 100\n",
      "building tree 46 of 100\n",
      "building tree 47 of 100\n",
      "building tree 48 of 100\n",
      "building tree 49 of 100\n",
      "building tree 50 of 100\n",
      "building tree 51 of 100\n",
      "building tree 52 of 100\n",
      "building tree 53 of 100\n",
      "building tree 54 of 100\n",
      "building tree 55 of 100\n",
      "building tree 56 of 100\n",
      "building tree 57 of 100\n",
      "building tree 58 of 100\n",
      "building tree 59 of 100\n",
      "building tree 60 of 100\n",
      "building tree 61 of 100\n",
      "building tree 62 of 100\n",
      "building tree 63 of 100\n",
      "building tree 64 of 100\n",
      "building tree 65 of 100\n",
      "building tree 66 of 100\n",
      "building tree 67 of 100\n",
      "building tree 68 of 100\n",
      "building tree 69 of 100\n",
      "building tree 70 of 100\n",
      "building tree 71 of 100\n",
      "building tree 72 of 100\n",
      "building tree 73 of 100\n",
      "building tree 74 of 100\n",
      "building tree 75 of 100\n",
      "building tree 76 of 100\n",
      "building tree 77 of 100\n",
      "building tree 78 of 100\n",
      "building tree 79 of 100\n",
      "building tree 80 of 100\n",
      "building tree 81 of 100\n",
      "building tree 82 of 100\n",
      "building tree 83 of 100\n",
      "building tree 84 of 100\n",
      "building tree 85 of 100\n",
      "building tree 86 of 100\n",
      "building tree 87 of 100\n",
      "building tree 88 of 100\n",
      "building tree 89 of 100\n",
      "building tree 90 of 100\n",
      "building tree 91 of 100\n",
      "building tree 92 of 100\n",
      "building tree 93 of 100\n",
      "building tree 94 of 100\n",
      "building tree 95 of 100\n",
      "building tree 96 of 100\n",
      "building tree 97 of 100\n",
      "building tree 98 of 100\n",
      "building tree 99 of 100\n",
      "building tree 100 of 100\n"
     ]
    },
    {
     "name": "stderr",
     "output_type": "stream",
     "text": [
      "[Parallel(n_jobs=1)]: Done 100 out of 100 | elapsed:  1.1min finished\n",
      "[Parallel(n_jobs=1)]: Using backend SequentialBackend with 1 concurrent workers.\n",
      "[Parallel(n_jobs=1)]: Done   1 out of   1 | elapsed:    0.0s remaining:    0.0s\n",
      "[Parallel(n_jobs=1)]: Done 100 out of 100 | elapsed:    0.1s finished\n",
      "[Parallel(n_jobs=1)]: Using backend SequentialBackend with 1 concurrent workers.\n",
      "[Parallel(n_jobs=1)]: Done   1 out of   1 | elapsed:    0.0s remaining:    0.0s\n"
     ]
    },
    {
     "name": "stdout",
     "output_type": "stream",
     "text": [
      "****************************************************************************************************\n",
      "TRAIN ERROR\n",
      "MAE: 24.15015584094444\n",
      "MSE: 3335.49098696107\n",
      "RMSE: 57.75370972466678\n",
      "****************************************************************************************************\n",
      "TEST ERROR\n",
      "MAE: 34.10698429669753\n",
      "MSE: 5438.611603393961\n",
      "RMSE: 73.74694301050017\n",
      "****************************************************************************************************\n",
      "Pred:  845.5307576050407  True:  855.0\n",
      "Pred:  842.5238409338194  True:  850.0\n",
      "Pred:  841.9743919223099  True:  840.0\n",
      "Pred:  840.1171270840599  True:  830.0\n",
      "Pred:  837.7978824795084  True:  810.0\n",
      "Pred:  826.6857021487125  True:  800.0\n",
      "Pred:  806.2092010214236  True:  810.0\n",
      "Pred:  809.5800438132908  True:  825.0\n",
      "Pred:  829.8190834358937  True:  840.0\n",
      "Pred:  840.0205286088053  True:  820.0\n"
     ]
    },
    {
     "name": "stderr",
     "output_type": "stream",
     "text": [
      "[Parallel(n_jobs=1)]: Done 100 out of 100 | elapsed:    0.3s finished\n"
     ]
    }
   ],
   "source": [
    "rgsrr = fit_rf(X_train_95,Y_train_95,X_test_95,Y_test_95)"
   ]
  },
  {
   "cell_type": "code",
   "execution_count": 236,
   "id": "99061dcb",
   "metadata": {},
   "outputs": [],
   "source": []
  },
  {
   "cell_type": "code",
   "execution_count": 238,
   "id": "f4f2e6f7",
   "metadata": {},
   "outputs": [],
   "source": []
  },
  {
   "cell_type": "code",
   "execution_count": 239,
   "id": "1befdad0",
   "metadata": {},
   "outputs": [
    {
     "name": "stdout",
     "output_type": "stream",
     "text": [
      "i:  0  importance:  239.72767307746253\n",
      "i:  1  importance:  297.69352513862316\n",
      "i:  2  importance:  5.0772335501245465\n",
      "i:  3  importance:  798.2687352251495\n",
      "i:  4  importance:  448.5159133991192\n",
      "i:  5  importance:  869.1196052473144\n",
      "i:  6  importance:  289.12016585151537\n",
      "i:  7  importance:  288.9658792711182\n",
      "i:  8  importance:  9783673.302974535\n",
      "i:  9  importance:  185426.731437357\n",
      "i:  10  importance:  20688.652540610852\n",
      "i:  11  importance:  894.7416736189479\n",
      "i:  12  importance:  944.7065591343342\n",
      "i:  13  importance:  495.6101608901116\n",
      "i:  14  importance:  447.05118368948064\n",
      "i:  15  importance:  360.7239654357006\n",
      "i:  16  importance:  359.34039631439714\n",
      "i:  17  importance:  192.71831484368946\n",
      "i:  18  importance:  122.86189932815728\n",
      "i:  19  importance:  663.9528739488256\n",
      "i:  20  importance:  12.592339450055178\n",
      "i:  21  importance:  9.351172348018931\n",
      "i:  22  importance:  224.99184233068664\n",
      "i:  23  importance:  198.561934329706\n",
      "i:  24  importance:  241.67699888976864\n",
      "i:  25  importance:  397.0636074022619\n",
      "i:  26  importance:  204.5621518738276\n",
      "i:  27  importance:  365.6773568751304\n",
      "i:  28  importance:  225.56157462118904\n",
      "i:  29  importance:  419.19689165428\n",
      "i:  30  importance:  193.88141975770324\n"
     ]
    }
   ],
   "source": [
    "importances = rgsrr.feature_importances_\n",
    "importances = np.multiply(importances,10000000)\n",
    "\n",
    "for i in range(len(importances)):\n",
    "    print('i: ',i,' importance: ',importances[i])"
   ]
  },
  {
   "cell_type": "code",
   "execution_count": 241,
   "id": "02bb6808",
   "metadata": {},
   "outputs": [
    {
     "name": "stderr",
     "output_type": "stream",
     "text": [
      "[Parallel(n_jobs=1)]: Using backend SequentialBackend with 1 concurrent workers.\n",
      "[Parallel(n_jobs=1)]: Done   1 out of   1 | elapsed:    0.0s remaining:    0.0s\n",
      "[Parallel(n_jobs=1)]: Done 100 out of 100 | elapsed:    0.0s finished\n"
     ]
    },
    {
     "data": {
      "text/plain": [
       "array([845.53075761])"
      ]
     },
     "execution_count": 241,
     "metadata": {},
     "output_type": "execute_result"
    }
   ],
   "source": [
    "rgsrr.predict(X_test_95[0].reshape(1, -1))"
   ]
  },
  {
   "cell_type": "code",
   "execution_count": 244,
   "id": "c08e053c",
   "metadata": {},
   "outputs": [],
   "source": [
    "indexes=[9,10,11,12,13,14,15,16, 21,22,23,24,25,26,27,28,29,30,31,32]\n",
    "features = list(df.columns)\n",
    "input_features =[]\n",
    "\n",
    "for i in indexes:\n",
    "    input_features.append(features[i])"
   ]
  },
  {
   "cell_type": "code",
   "execution_count": 245,
   "id": "f3b82726",
   "metadata": {},
   "outputs": [
    {
     "data": {
      "text/plain": [
       "['latitude',\n",
       " 'longitude',\n",
       " 'Soil_Type',\n",
       " 'Humidity',\n",
       " 'Sunlight',\n",
       " 'Temperature',\n",
       " 'Avg_Precipitation',\n",
       " 'Last_Precipitation',\n",
       " 'last_day_price',\n",
       " 'second_last_day_price',\n",
       " 'third_last_day_price',\n",
       " 'last_week_avg_price',\n",
       " 'last_day_arrival',\n",
       " 'second_last_day_arrival',\n",
       " 'third_last_day_arrival',\n",
       " 'last_week_avg_arrival',\n",
       " 'last_day_Precipitation',\n",
       " 'second_last_day_Precipitation',\n",
       " 'third_last_day_Precipitation',\n",
       " 'last_week_avg_Precipitation']"
      ]
     },
     "execution_count": 245,
     "metadata": {},
     "output_type": "execute_result"
    }
   ],
   "source": [
    "input_features"
   ]
  },
  {
   "cell_type": "code",
   "execution_count": 249,
   "id": "ec4879f2",
   "metadata": {},
   "outputs": [
    {
     "name": "stdout",
     "output_type": "stream",
     "text": [
      "9  :  latitude  :  239.72767307746253\n",
      "10  :  longitude  :  297.69352513862316\n",
      "11  :  Soil_Type  :  5.0772335501245465\n",
      "12  :  Humidity  :  798.2687352251495\n",
      "13  :  Sunlight  :  448.5159133991192\n",
      "14  :  Temperature  :  869.1196052473144\n",
      "15  :  Avg_Precipitation  :  289.12016585151537\n",
      "16  :  Last_Precipitation  :  288.9658792711182\n",
      "21  :  last_day_price  :  9783673.302974535\n",
      "22  :  second_last_day_price  :  185426.731437357\n",
      "23  :  third_last_day_price  :  20688.652540610852\n",
      "24  :  last_week_avg_price  :  894.7416736189479\n",
      "25  :  last_day_arrival  :  944.7065591343342\n",
      "26  :  second_last_day_arrival  :  495.6101608901116\n",
      "27  :  third_last_day_arrival  :  447.05118368948064\n",
      "28  :  last_week_avg_arrival  :  360.7239654357006\n",
      "29  :  last_day_Precipitation  :  359.34039631439714\n",
      "30  :  second_last_day_Precipitation  :  192.71831484368946\n",
      "31  :  third_last_day_Precipitation  :  122.86189932815728\n",
      "32  :  last_week_avg_Precipitation  :  663.9528739488256\n"
     ]
    }
   ],
   "source": [
    "for i in range(len(input_features)):\n",
    "    print(indexes[i],' : ',input_features[i],' : ', importances[i])"
   ]
  },
  {
   "cell_type": "code",
   "execution_count": 250,
   "id": "c3563c74",
   "metadata": {},
   "outputs": [],
   "source": [
    "def make_LSTMs_input():\n",
    "    market_array = np.array(market_input)\n",
    "    day_array =np.array(day_input)\n",
    "    month_array = np.array(month_input)\n",
    "    PriceNanFlag_array,ArrivalNanFlag_array = make_price_nan_arrival_nan_array()\n",
    "    \n",
    "    \n",
    "    input_lstms = df.values[:,[9,10,12,14,15,21,24,25,28,29,32]]\n",
    "    Final_input_lstms = np.concatenate((input_lstms,PriceNanFlag_array,ArrivalNanFlag_array,market_array,month_array,day_array),axis=1)\n",
    "    \n",
    "    \n",
    "    return Final_input_lstms"
   ]
  },
  {
   "cell_type": "code",
   "execution_count": 251,
   "id": "01d86f99",
   "metadata": {},
   "outputs": [],
   "source": [
    "Final_input_lstms = make_LSTMs_input()"
   ]
  },
  {
   "cell_type": "code",
   "execution_count": 252,
   "id": "c9531d55",
   "metadata": {},
   "outputs": [
    {
     "data": {
      "text/plain": [
       "(172731, 22)"
      ]
     },
     "execution_count": 252,
     "metadata": {},
     "output_type": "execute_result"
    }
   ],
   "source": [
    "Final_input_lstms.shape"
   ]
  },
  {
   "cell_type": "code",
   "execution_count": 253,
   "id": "a34302dd",
   "metadata": {},
   "outputs": [],
   "source": [
    "with open('Final_input_lstms.npy', 'wb') as f:\n",
    "    np.save(f, Final_input_lstms)"
   ]
  },
  {
   "cell_type": "code",
   "execution_count": 254,
   "id": "c09f9361",
   "metadata": {},
   "outputs": [],
   "source": [
    "Y= df.values[:,5]"
   ]
  },
  {
   "cell_type": "code",
   "execution_count": 255,
   "id": "1d58a1f9",
   "metadata": {},
   "outputs": [
    {
     "data": {
      "text/plain": [
       "array([533.577743091078, 564.358912379708, 562.8253237470766, ..., 1150.0,\n",
       "       1125.0, 615.056990106931], dtype=object)"
      ]
     },
     "execution_count": 255,
     "metadata": {},
     "output_type": "execute_result"
    }
   ],
   "source": [
    "Y"
   ]
  },
  {
   "cell_type": "code",
   "execution_count": 256,
   "id": "b0042da1",
   "metadata": {},
   "outputs": [],
   "source": [
    "with open('Y_lstms.npy', 'wb') as f:\n",
    "    np.save(f, Y)"
   ]
  },
  {
   "cell_type": "code",
   "execution_count": 257,
   "id": "67ba51c6",
   "metadata": {},
   "outputs": [],
   "source": [
    "X= Final_input_lstms"
   ]
  },
  {
   "cell_type": "code",
   "execution_count": 258,
   "id": "caf8424d",
   "metadata": {},
   "outputs": [],
   "source": [
    "X_train,Y_train,X_test,Y_test = time_based_split()"
   ]
  },
  {
   "cell_type": "code",
   "execution_count": 259,
   "id": "15247e15",
   "metadata": {},
   "outputs": [
    {
     "data": {
      "text/plain": [
       "array([27.25, 78.0, 53.14673604166666, 289.9032758333332,\n",
       "       3.725290299999999, 533.577743091078, 533.577743091078,\n",
       "       136.4483200418814, 136.4483200418814, 3.725290299999999,\n",
       "       3.725290299999999, 0, 0, 0.75819767, -0.773561, -0.8356619,\n",
       "       -0.014831018, -0.001299955, 0.019895706, 0.0024683475, 0.031677876,\n",
       "       -0.02698052], dtype=object)"
      ]
     },
     "execution_count": 259,
     "metadata": {},
     "output_type": "execute_result"
    }
   ],
   "source": [
    "X_train[0]"
   ]
  },
  {
   "cell_type": "code",
   "execution_count": 261,
   "id": "ff24bf77",
   "metadata": {},
   "outputs": [],
   "source": [
    "def save_npy(name,path):\n",
    "    with open(path, 'wb') as f:\n",
    "        np.save(f, name)"
   ]
  },
  {
   "cell_type": "code",
   "execution_count": 262,
   "id": "d16b425c",
   "metadata": {},
   "outputs": [],
   "source": [
    "save_npy(X_train,'X_train_lstms.npy')\n",
    "save_npy(X_test,'X_test_lstms.npy')\n",
    "save_npy(Y_train,'Y_train_lstms.npy')\n",
    "save_npy(Y_test,'Y_test_lstms.npy')"
   ]
  },
  {
   "cell_type": "code",
   "execution_count": 263,
   "id": "fb441e48",
   "metadata": {},
   "outputs": [],
   "source": [
    "X_train_95,X_test_95,Y_train_95,Y_test_95 = remove_outliers(X_train,Y_train,X_test,Y_test,95,5)"
   ]
  },
  {
   "cell_type": "code",
   "execution_count": 264,
   "id": "b378a0d4",
   "metadata": {},
   "outputs": [],
   "source": [
    "save_npy(X_train_95,'X_train_95_lstms.npy')\n",
    "save_npy(X_test_95,'X_test_95_lstms.npy')\n",
    "save_npy(Y_train_95,'Y_train_95_lstms.npy')\n",
    "save_npy(Y_test_95,'Y_test_95_lstms.npy')"
   ]
  },
  {
   "cell_type": "code",
   "execution_count": 265,
   "id": "5de3c9fd",
   "metadata": {},
   "outputs": [
    {
     "data": {
      "text/html": [
       "<div>\n",
       "<style scoped>\n",
       "    .dataframe tbody tr th:only-of-type {\n",
       "        vertical-align: middle;\n",
       "    }\n",
       "\n",
       "    .dataframe tbody tr th {\n",
       "        vertical-align: top;\n",
       "    }\n",
       "\n",
       "    .dataframe thead th {\n",
       "        text-align: right;\n",
       "    }\n",
       "</style>\n",
       "<table border=\"1\" class=\"dataframe\">\n",
       "  <thead>\n",
       "    <tr style=\"text-align: right;\">\n",
       "      <th></th>\n",
       "      <th>Market</th>\n",
       "      <th>Arrivals</th>\n",
       "      <th>Date</th>\n",
       "      <th>Modal_Price</th>\n",
       "      <th>District</th>\n",
       "      <th>Imp_Price</th>\n",
       "      <th>Imp_Arrival</th>\n",
       "      <th>PriceNanFlag</th>\n",
       "      <th>ArrivalNanFlag</th>\n",
       "      <th>latitude</th>\n",
       "      <th>...</th>\n",
       "      <th>third_last_day_price</th>\n",
       "      <th>last_week_avg_price</th>\n",
       "      <th>last_day_arrival</th>\n",
       "      <th>second_last_day_arrival</th>\n",
       "      <th>third_last_day_arrival</th>\n",
       "      <th>last_week_avg_arrival</th>\n",
       "      <th>last_day_Precipitation</th>\n",
       "      <th>second_last_day_Precipitation</th>\n",
       "      <th>third_last_day_Precipitation</th>\n",
       "      <th>last_week_avg_Precipitation</th>\n",
       "    </tr>\n",
       "  </thead>\n",
       "  <tbody>\n",
       "    <tr>\n",
       "      <th>0</th>\n",
       "      <td>Agra</td>\n",
       "      <td>NaN</td>\n",
       "      <td>01-Jan-2008</td>\n",
       "      <td>NaN</td>\n",
       "      <td>Agra</td>\n",
       "      <td>533.577743</td>\n",
       "      <td>136.448320</td>\n",
       "      <td>True</td>\n",
       "      <td>True</td>\n",
       "      <td>27.25</td>\n",
       "      <td>...</td>\n",
       "      <td>533.577743</td>\n",
       "      <td>533.577743</td>\n",
       "      <td>136.448320</td>\n",
       "      <td>136.448320</td>\n",
       "      <td>136.448320</td>\n",
       "      <td>136.448320</td>\n",
       "      <td>3.72529</td>\n",
       "      <td>3.72529</td>\n",
       "      <td>3.72529</td>\n",
       "      <td>3.725290</td>\n",
       "    </tr>\n",
       "    <tr>\n",
       "      <th>1</th>\n",
       "      <td>Agra</td>\n",
       "      <td>NaN</td>\n",
       "      <td>02-Jan-2008</td>\n",
       "      <td>NaN</td>\n",
       "      <td>Agra</td>\n",
       "      <td>564.358912</td>\n",
       "      <td>141.135159</td>\n",
       "      <td>True</td>\n",
       "      <td>True</td>\n",
       "      <td>27.25</td>\n",
       "      <td>...</td>\n",
       "      <td>533.577743</td>\n",
       "      <td>533.577743</td>\n",
       "      <td>136.448320</td>\n",
       "      <td>136.448320</td>\n",
       "      <td>136.448320</td>\n",
       "      <td>136.448320</td>\n",
       "      <td>3.72529</td>\n",
       "      <td>3.72529</td>\n",
       "      <td>3.72529</td>\n",
       "      <td>3.725290</td>\n",
       "    </tr>\n",
       "    <tr>\n",
       "      <th>2</th>\n",
       "      <td>Agra</td>\n",
       "      <td>NaN</td>\n",
       "      <td>03-Jan-2008</td>\n",
       "      <td>NaN</td>\n",
       "      <td>Agra</td>\n",
       "      <td>562.825324</td>\n",
       "      <td>145.897888</td>\n",
       "      <td>True</td>\n",
       "      <td>True</td>\n",
       "      <td>27.25</td>\n",
       "      <td>...</td>\n",
       "      <td>564.358912</td>\n",
       "      <td>533.577743</td>\n",
       "      <td>141.135159</td>\n",
       "      <td>136.448320</td>\n",
       "      <td>141.135159</td>\n",
       "      <td>136.448320</td>\n",
       "      <td>3.72529</td>\n",
       "      <td>3.72529</td>\n",
       "      <td>3.72529</td>\n",
       "      <td>3.725290</td>\n",
       "    </tr>\n",
       "    <tr>\n",
       "      <th>3</th>\n",
       "      <td>Agra</td>\n",
       "      <td>NaN</td>\n",
       "      <td>04-Jan-2008</td>\n",
       "      <td>NaN</td>\n",
       "      <td>Agra</td>\n",
       "      <td>560.865227</td>\n",
       "      <td>220.000000</td>\n",
       "      <td>True</td>\n",
       "      <td>True</td>\n",
       "      <td>27.25</td>\n",
       "      <td>...</td>\n",
       "      <td>533.577743</td>\n",
       "      <td>533.577743</td>\n",
       "      <td>145.897888</td>\n",
       "      <td>141.135159</td>\n",
       "      <td>136.448320</td>\n",
       "      <td>136.448320</td>\n",
       "      <td>3.72529</td>\n",
       "      <td>3.72529</td>\n",
       "      <td>3.72529</td>\n",
       "      <td>3.725290</td>\n",
       "    </tr>\n",
       "    <tr>\n",
       "      <th>4</th>\n",
       "      <td>Agra</td>\n",
       "      <td>NaN</td>\n",
       "      <td>05-Jan-2008</td>\n",
       "      <td>NaN</td>\n",
       "      <td>Agra</td>\n",
       "      <td>538.705688</td>\n",
       "      <td>218.330750</td>\n",
       "      <td>True</td>\n",
       "      <td>True</td>\n",
       "      <td>27.25</td>\n",
       "      <td>...</td>\n",
       "      <td>564.358912</td>\n",
       "      <td>533.577743</td>\n",
       "      <td>220.000000</td>\n",
       "      <td>145.897888</td>\n",
       "      <td>141.135159</td>\n",
       "      <td>136.448320</td>\n",
       "      <td>3.72529</td>\n",
       "      <td>3.72529</td>\n",
       "      <td>3.72529</td>\n",
       "      <td>3.725290</td>\n",
       "    </tr>\n",
       "    <tr>\n",
       "      <th>...</th>\n",
       "      <td>...</td>\n",
       "      <td>...</td>\n",
       "      <td>...</td>\n",
       "      <td>...</td>\n",
       "      <td>...</td>\n",
       "      <td>...</td>\n",
       "      <td>...</td>\n",
       "      <td>...</td>\n",
       "      <td>...</td>\n",
       "      <td>...</td>\n",
       "      <td>...</td>\n",
       "      <td>...</td>\n",
       "      <td>...</td>\n",
       "      <td>...</td>\n",
       "      <td>...</td>\n",
       "      <td>...</td>\n",
       "      <td>...</td>\n",
       "      <td>...</td>\n",
       "      <td>...</td>\n",
       "      <td>...</td>\n",
       "      <td>...</td>\n",
       "    </tr>\n",
       "    <tr>\n",
       "      <th>172726</th>\n",
       "      <td>Unnao</td>\n",
       "      <td>15.8</td>\n",
       "      <td>27-Dec-2018</td>\n",
       "      <td>1150.0</td>\n",
       "      <td>Unnao</td>\n",
       "      <td>1150.000000</td>\n",
       "      <td>15.800000</td>\n",
       "      <td>False</td>\n",
       "      <td>False</td>\n",
       "      <td>26.50</td>\n",
       "      <td>...</td>\n",
       "      <td>1150.000000</td>\n",
       "      <td>39898.438561</td>\n",
       "      <td>17.400000</td>\n",
       "      <td>16.600000</td>\n",
       "      <td>15.800000</td>\n",
       "      <td>2301.037785</td>\n",
       "      <td>3.72529</td>\n",
       "      <td>3.72529</td>\n",
       "      <td>3.72529</td>\n",
       "      <td>160.719667</td>\n",
       "    </tr>\n",
       "    <tr>\n",
       "      <th>172727</th>\n",
       "      <td>Unnao</td>\n",
       "      <td>16.7</td>\n",
       "      <td>28-Dec-2018</td>\n",
       "      <td>1150.0</td>\n",
       "      <td>Unnao</td>\n",
       "      <td>1150.000000</td>\n",
       "      <td>16.700000</td>\n",
       "      <td>False</td>\n",
       "      <td>False</td>\n",
       "      <td>26.50</td>\n",
       "      <td>...</td>\n",
       "      <td>1150.000000</td>\n",
       "      <td>39891.295704</td>\n",
       "      <td>15.800000</td>\n",
       "      <td>17.400000</td>\n",
       "      <td>16.600000</td>\n",
       "      <td>2301.037785</td>\n",
       "      <td>3.72529</td>\n",
       "      <td>3.72529</td>\n",
       "      <td>3.72529</td>\n",
       "      <td>160.719667</td>\n",
       "    </tr>\n",
       "    <tr>\n",
       "      <th>172728</th>\n",
       "      <td>Unnao</td>\n",
       "      <td>21.8</td>\n",
       "      <td>29-Dec-2018</td>\n",
       "      <td>1150.0</td>\n",
       "      <td>Unnao</td>\n",
       "      <td>1150.000000</td>\n",
       "      <td>21.800000</td>\n",
       "      <td>False</td>\n",
       "      <td>False</td>\n",
       "      <td>26.50</td>\n",
       "      <td>...</td>\n",
       "      <td>1150.000000</td>\n",
       "      <td>39884.152847</td>\n",
       "      <td>16.700000</td>\n",
       "      <td>15.800000</td>\n",
       "      <td>17.400000</td>\n",
       "      <td>2302.094927</td>\n",
       "      <td>3.72529</td>\n",
       "      <td>3.72529</td>\n",
       "      <td>3.72529</td>\n",
       "      <td>160.719667</td>\n",
       "    </tr>\n",
       "    <tr>\n",
       "      <th>172729</th>\n",
       "      <td>Unnao</td>\n",
       "      <td>15.5</td>\n",
       "      <td>30-Dec-2018</td>\n",
       "      <td>1125.0</td>\n",
       "      <td>Unnao</td>\n",
       "      <td>1125.000000</td>\n",
       "      <td>15.500000</td>\n",
       "      <td>False</td>\n",
       "      <td>False</td>\n",
       "      <td>26.50</td>\n",
       "      <td>...</td>\n",
       "      <td>1150.000000</td>\n",
       "      <td>39873.438561</td>\n",
       "      <td>21.800000</td>\n",
       "      <td>16.700000</td>\n",
       "      <td>15.800000</td>\n",
       "      <td>2302.666356</td>\n",
       "      <td>3.72529</td>\n",
       "      <td>3.72529</td>\n",
       "      <td>3.72529</td>\n",
       "      <td>160.719667</td>\n",
       "    </tr>\n",
       "    <tr>\n",
       "      <th>172730</th>\n",
       "      <td>Unnao</td>\n",
       "      <td>NaN</td>\n",
       "      <td>31-Dec-2018</td>\n",
       "      <td>NaN</td>\n",
       "      <td>Unnao</td>\n",
       "      <td>615.056990</td>\n",
       "      <td>1.745123</td>\n",
       "      <td>True</td>\n",
       "      <td>True</td>\n",
       "      <td>26.50</td>\n",
       "      <td>...</td>\n",
       "      <td>1150.000000</td>\n",
       "      <td>39789.875274</td>\n",
       "      <td>15.500000</td>\n",
       "      <td>21.800000</td>\n",
       "      <td>16.700000</td>\n",
       "      <td>2302.858516</td>\n",
       "      <td>3.72529</td>\n",
       "      <td>3.72529</td>\n",
       "      <td>3.72529</td>\n",
       "      <td>160.719667</td>\n",
       "    </tr>\n",
       "  </tbody>\n",
       "</table>\n",
       "<p>172731 rows × 33 columns</p>\n",
       "</div>"
      ],
      "text/plain": [
       "       Market  Arrivals         Date  Modal_Price District    Imp_Price  \\\n",
       "0        Agra       NaN  01-Jan-2008          NaN     Agra   533.577743   \n",
       "1        Agra       NaN  02-Jan-2008          NaN     Agra   564.358912   \n",
       "2        Agra       NaN  03-Jan-2008          NaN     Agra   562.825324   \n",
       "3        Agra       NaN  04-Jan-2008          NaN     Agra   560.865227   \n",
       "4        Agra       NaN  05-Jan-2008          NaN     Agra   538.705688   \n",
       "...       ...       ...          ...          ...      ...          ...   \n",
       "172726  Unnao      15.8  27-Dec-2018       1150.0    Unnao  1150.000000   \n",
       "172727  Unnao      16.7  28-Dec-2018       1150.0    Unnao  1150.000000   \n",
       "172728  Unnao      21.8  29-Dec-2018       1150.0    Unnao  1150.000000   \n",
       "172729  Unnao      15.5  30-Dec-2018       1125.0    Unnao  1125.000000   \n",
       "172730  Unnao       NaN  31-Dec-2018          NaN    Unnao   615.056990   \n",
       "\n",
       "        Imp_Arrival  PriceNanFlag  ArrivalNanFlag  latitude  ...  \\\n",
       "0        136.448320          True            True     27.25  ...   \n",
       "1        141.135159          True            True     27.25  ...   \n",
       "2        145.897888          True            True     27.25  ...   \n",
       "3        220.000000          True            True     27.25  ...   \n",
       "4        218.330750          True            True     27.25  ...   \n",
       "...             ...           ...             ...       ...  ...   \n",
       "172726    15.800000         False           False     26.50  ...   \n",
       "172727    16.700000         False           False     26.50  ...   \n",
       "172728    21.800000         False           False     26.50  ...   \n",
       "172729    15.500000         False           False     26.50  ...   \n",
       "172730     1.745123          True            True     26.50  ...   \n",
       "\n",
       "        third_last_day_price  last_week_avg_price  last_day_arrival  \\\n",
       "0                 533.577743           533.577743        136.448320   \n",
       "1                 533.577743           533.577743        136.448320   \n",
       "2                 564.358912           533.577743        141.135159   \n",
       "3                 533.577743           533.577743        145.897888   \n",
       "4                 564.358912           533.577743        220.000000   \n",
       "...                      ...                  ...               ...   \n",
       "172726           1150.000000         39898.438561         17.400000   \n",
       "172727           1150.000000         39891.295704         15.800000   \n",
       "172728           1150.000000         39884.152847         16.700000   \n",
       "172729           1150.000000         39873.438561         21.800000   \n",
       "172730           1150.000000         39789.875274         15.500000   \n",
       "\n",
       "        second_last_day_arrival  third_last_day_arrival  \\\n",
       "0                    136.448320              136.448320   \n",
       "1                    136.448320              136.448320   \n",
       "2                    136.448320              141.135159   \n",
       "3                    141.135159              136.448320   \n",
       "4                    145.897888              141.135159   \n",
       "...                         ...                     ...   \n",
       "172726                16.600000               15.800000   \n",
       "172727                17.400000               16.600000   \n",
       "172728                15.800000               17.400000   \n",
       "172729                16.700000               15.800000   \n",
       "172730                21.800000               16.700000   \n",
       "\n",
       "        last_week_avg_arrival  last_day_Precipitation  \\\n",
       "0                  136.448320                 3.72529   \n",
       "1                  136.448320                 3.72529   \n",
       "2                  136.448320                 3.72529   \n",
       "3                  136.448320                 3.72529   \n",
       "4                  136.448320                 3.72529   \n",
       "...                       ...                     ...   \n",
       "172726            2301.037785                 3.72529   \n",
       "172727            2301.037785                 3.72529   \n",
       "172728            2302.094927                 3.72529   \n",
       "172729            2302.666356                 3.72529   \n",
       "172730            2302.858516                 3.72529   \n",
       "\n",
       "        second_last_day_Precipitation third_last_day_Precipitation  \\\n",
       "0                             3.72529                      3.72529   \n",
       "1                             3.72529                      3.72529   \n",
       "2                             3.72529                      3.72529   \n",
       "3                             3.72529                      3.72529   \n",
       "4                             3.72529                      3.72529   \n",
       "...                               ...                          ...   \n",
       "172726                        3.72529                      3.72529   \n",
       "172727                        3.72529                      3.72529   \n",
       "172728                        3.72529                      3.72529   \n",
       "172729                        3.72529                      3.72529   \n",
       "172730                        3.72529                      3.72529   \n",
       "\n",
       "        last_week_avg_Precipitation  \n",
       "0                          3.725290  \n",
       "1                          3.725290  \n",
       "2                          3.725290  \n",
       "3                          3.725290  \n",
       "4                          3.725290  \n",
       "...                             ...  \n",
       "172726                   160.719667  \n",
       "172727                   160.719667  \n",
       "172728                   160.719667  \n",
       "172729                   160.719667  \n",
       "172730                   160.719667  \n",
       "\n",
       "[172731 rows x 33 columns]"
      ]
     },
     "execution_count": 265,
     "metadata": {},
     "output_type": "execute_result"
    }
   ],
   "source": [
    "df"
   ]
  },
  {
   "cell_type": "code",
   "execution_count": null,
   "id": "b74a7487",
   "metadata": {},
   "outputs": [],
   "source": []
  },
  {
   "cell_type": "code",
   "execution_count": 266,
   "id": "868bbc97",
   "metadata": {},
   "outputs": [
    {
     "name": "stderr",
     "output_type": "stream",
     "text": [
      "[Parallel(n_jobs=1)]: Using backend SequentialBackend with 1 concurrent workers.\n"
     ]
    },
    {
     "name": "stdout",
     "output_type": "stream",
     "text": [
      "building tree 1 of 100\n"
     ]
    },
    {
     "name": "stderr",
     "output_type": "stream",
     "text": [
      "[Parallel(n_jobs=1)]: Done   1 out of   1 | elapsed:    0.5s remaining:    0.0s\n"
     ]
    },
    {
     "name": "stdout",
     "output_type": "stream",
     "text": [
      "building tree 2 of 100\n",
      "building tree 3 of 100\n",
      "building tree 4 of 100\n",
      "building tree 5 of 100\n",
      "building tree 6 of 100\n",
      "building tree 7 of 100\n",
      "building tree 8 of 100\n",
      "building tree 9 of 100\n",
      "building tree 10 of 100\n",
      "building tree 11 of 100\n",
      "building tree 12 of 100\n",
      "building tree 13 of 100\n",
      "building tree 14 of 100\n",
      "building tree 15 of 100\n",
      "building tree 16 of 100\n",
      "building tree 17 of 100\n",
      "building tree 18 of 100\n",
      "building tree 19 of 100\n",
      "building tree 20 of 100\n",
      "building tree 21 of 100\n",
      "building tree 22 of 100\n",
      "building tree 23 of 100\n",
      "building tree 24 of 100\n",
      "building tree 25 of 100\n",
      "building tree 26 of 100\n",
      "building tree 27 of 100\n",
      "building tree 28 of 100\n",
      "building tree 29 of 100\n",
      "building tree 30 of 100\n",
      "building tree 31 of 100\n",
      "building tree 32 of 100\n",
      "building tree 33 of 100\n",
      "building tree 34 of 100\n",
      "building tree 35 of 100\n",
      "building tree 36 of 100\n",
      "building tree 37 of 100\n",
      "building tree 38 of 100\n",
      "building tree 39 of 100\n",
      "building tree 40 of 100\n",
      "building tree 41 of 100\n",
      "building tree 42 of 100\n",
      "building tree 43 of 100\n",
      "building tree 44 of 100\n",
      "building tree 45 of 100\n",
      "building tree 46 of 100\n",
      "building tree 47 of 100\n",
      "building tree 48 of 100\n",
      "building tree 49 of 100\n",
      "building tree 50 of 100\n",
      "building tree 51 of 100\n",
      "building tree 52 of 100\n",
      "building tree 53 of 100\n",
      "building tree 54 of 100\n",
      "building tree 55 of 100\n",
      "building tree 56 of 100\n",
      "building tree 57 of 100\n",
      "building tree 58 of 100\n",
      "building tree 59 of 100\n",
      "building tree 60 of 100\n",
      "building tree 61 of 100\n",
      "building tree 62 of 100\n",
      "building tree 63 of 100\n",
      "building tree 64 of 100\n",
      "building tree 65 of 100\n",
      "building tree 66 of 100\n",
      "building tree 67 of 100\n",
      "building tree 68 of 100\n",
      "building tree 69 of 100\n",
      "building tree 70 of 100\n",
      "building tree 71 of 100\n",
      "building tree 72 of 100\n",
      "building tree 73 of 100\n",
      "building tree 74 of 100\n",
      "building tree 75 of 100\n",
      "building tree 76 of 100\n",
      "building tree 77 of 100\n",
      "building tree 78 of 100\n",
      "building tree 79 of 100\n",
      "building tree 80 of 100\n",
      "building tree 81 of 100\n",
      "building tree 82 of 100\n",
      "building tree 83 of 100\n",
      "building tree 84 of 100\n",
      "building tree 85 of 100\n",
      "building tree 86 of 100\n",
      "building tree 87 of 100\n",
      "building tree 88 of 100\n",
      "building tree 89 of 100\n",
      "building tree 90 of 100\n",
      "building tree 91 of 100\n",
      "building tree 92 of 100\n",
      "building tree 93 of 100\n",
      "building tree 94 of 100\n",
      "building tree 95 of 100\n",
      "building tree 96 of 100\n",
      "building tree 97 of 100\n",
      "building tree 98 of 100\n",
      "building tree 99 of 100\n",
      "building tree 100 of 100\n"
     ]
    },
    {
     "name": "stderr",
     "output_type": "stream",
     "text": [
      "[Parallel(n_jobs=1)]: Done 100 out of 100 | elapsed:   46.7s finished\n",
      "[Parallel(n_jobs=1)]: Using backend SequentialBackend with 1 concurrent workers.\n",
      "[Parallel(n_jobs=1)]: Done   1 out of   1 | elapsed:    0.0s remaining:    0.0s\n",
      "[Parallel(n_jobs=1)]: Done 100 out of 100 | elapsed:    0.1s finished\n",
      "[Parallel(n_jobs=1)]: Using backend SequentialBackend with 1 concurrent workers.\n",
      "[Parallel(n_jobs=1)]: Done   1 out of   1 | elapsed:    0.0s remaining:    0.0s\n"
     ]
    },
    {
     "name": "stdout",
     "output_type": "stream",
     "text": [
      "****************************************************************************************************\n",
      "TRAIN ERROR\n",
      "MAE: 24.357667464687196\n",
      "MSE: 3873.736243917499\n",
      "RMSE: 62.23934642906767\n",
      "****************************************************************************************************\n",
      "TEST ERROR\n",
      "MAE: 34.66745850381321\n",
      "MSE: 5705.60268225298\n",
      "RMSE: 75.53543990904521\n",
      "****************************************************************************************************\n",
      "Pred:  856.2551114081722  True:  855.0\n",
      "Pred:  853.3753905157962  True:  850.0\n",
      "Pred:  853.1657942865454  True:  840.0\n",
      "Pred:  839.7070155352751  True:  830.0\n",
      "Pred:  831.1304052752796  True:  810.0\n",
      "Pred:  814.2720502976076  True:  800.0\n",
      "Pred:  803.1787943784061  True:  810.0\n",
      "Pred:  814.2720502976076  True:  825.0\n",
      "Pred:  826.7889745140626  True:  840.0\n",
      "Pred:  839.7070155352751  True:  820.0\n"
     ]
    },
    {
     "name": "stderr",
     "output_type": "stream",
     "text": [
      "[Parallel(n_jobs=1)]: Done 100 out of 100 | elapsed:    0.4s finished\n"
     ]
    }
   ],
   "source": [
    "rgsrr = fit_rf(X_train_95,Y_train_95,X_test_95,Y_test_95,150,9,2)"
   ]
  },
  {
   "cell_type": "code",
   "execution_count": 267,
   "id": "e91657ac",
   "metadata": {},
   "outputs": [
    {
     "data": {
      "text/plain": [
       "array([27.25, 78.0, 79.19499237499998, 291.610795, 667.137411941667,\n",
       "       860.0, 1073.5714285714287, 270.0, 268.2857142857143,\n",
       "       3.725290299999999, 99.03063486240862, 0, 0, 0.75819767, -0.773561,\n",
       "       -0.8356619, -0.014831018, -0.001299955, 0.019895706, 0.0024683475,\n",
       "       0.031677876, -0.02698052], dtype=object)"
      ]
     },
     "execution_count": 267,
     "metadata": {},
     "output_type": "execute_result"
    }
   ],
   "source": [
    "X_test_95[0]"
   ]
  },
  {
   "cell_type": "code",
   "execution_count": 268,
   "id": "e616b60f",
   "metadata": {},
   "outputs": [
    {
     "data": {
      "text/plain": [
       "array([27.25, 78.0, 53.14673604166666, 289.9032758333332,\n",
       "       3.725290299999999, 533.577743091078, 533.577743091078,\n",
       "       136.4483200418814, 136.4483200418814, 3.725290299999999,\n",
       "       3.725290299999999, 0, 0, 0.75819767, -0.773561, -0.8356619,\n",
       "       -0.014831018, -0.001299955, 0.019895706, 0.0024683475, 0.031677876,\n",
       "       -0.02698052], dtype=object)"
      ]
     },
     "execution_count": 268,
     "metadata": {},
     "output_type": "execute_result"
    }
   ],
   "source": [
    "X_train_95[0]"
   ]
  },
  {
   "cell_type": "code",
   "execution_count": 280,
   "id": "52eba667",
   "metadata": {},
   "outputs": [],
   "source": [
    "X,min_max_scaler = min_max_scale(Final_input_lstms)"
   ]
  },
  {
   "cell_type": "code",
   "execution_count": 271,
   "id": "171fdad4",
   "metadata": {},
   "outputs": [],
   "source": [
    "X_train,Y_train,X_test,Y_test = time_based_split()"
   ]
  },
  {
   "cell_type": "code",
   "execution_count": 272,
   "id": "582842cd",
   "metadata": {},
   "outputs": [],
   "source": [
    "X_train_95,X_test_95,Y_train_95,Y_test_95 = remove_outliers(X_train,Y_train,X_test,Y_test,95,5)"
   ]
  },
  {
   "cell_type": "code",
   "execution_count": 273,
   "id": "2129e3ca",
   "metadata": {},
   "outputs": [
    {
     "name": "stderr",
     "output_type": "stream",
     "text": [
      "[Parallel(n_jobs=1)]: Using backend SequentialBackend with 1 concurrent workers.\n"
     ]
    },
    {
     "name": "stdout",
     "output_type": "stream",
     "text": [
      "building tree 1 of 100\n"
     ]
    },
    {
     "name": "stderr",
     "output_type": "stream",
     "text": [
      "[Parallel(n_jobs=1)]: Done   1 out of   1 | elapsed:    0.5s remaining:    0.0s\n"
     ]
    },
    {
     "name": "stdout",
     "output_type": "stream",
     "text": [
      "building tree 2 of 100\n",
      "building tree 3 of 100\n",
      "building tree 4 of 100\n",
      "building tree 5 of 100\n",
      "building tree 6 of 100\n",
      "building tree 7 of 100\n",
      "building tree 8 of 100\n",
      "building tree 9 of 100\n",
      "building tree 10 of 100\n",
      "building tree 11 of 100\n",
      "building tree 12 of 100\n",
      "building tree 13 of 100\n",
      "building tree 14 of 100\n",
      "building tree 15 of 100\n",
      "building tree 16 of 100\n",
      "building tree 17 of 100\n",
      "building tree 18 of 100\n",
      "building tree 19 of 100\n",
      "building tree 20 of 100\n",
      "building tree 21 of 100\n",
      "building tree 22 of 100\n",
      "building tree 23 of 100\n",
      "building tree 24 of 100\n",
      "building tree 25 of 100\n",
      "building tree 26 of 100\n",
      "building tree 27 of 100\n",
      "building tree 28 of 100\n",
      "building tree 29 of 100\n",
      "building tree 30 of 100\n",
      "building tree 31 of 100\n",
      "building tree 32 of 100\n",
      "building tree 33 of 100\n",
      "building tree 34 of 100\n",
      "building tree 35 of 100\n",
      "building tree 36 of 100\n",
      "building tree 37 of 100\n",
      "building tree 38 of 100\n",
      "building tree 39 of 100\n",
      "building tree 40 of 100\n",
      "building tree 41 of 100\n",
      "building tree 42 of 100\n",
      "building tree 43 of 100\n",
      "building tree 44 of 100\n",
      "building tree 45 of 100\n",
      "building tree 46 of 100\n",
      "building tree 47 of 100\n",
      "building tree 48 of 100\n",
      "building tree 49 of 100\n",
      "building tree 50 of 100\n",
      "building tree 51 of 100\n",
      "building tree 52 of 100\n",
      "building tree 53 of 100\n",
      "building tree 54 of 100\n",
      "building tree 55 of 100\n",
      "building tree 56 of 100\n",
      "building tree 57 of 100\n",
      "building tree 58 of 100\n",
      "building tree 59 of 100\n",
      "building tree 60 of 100\n",
      "building tree 61 of 100\n",
      "building tree 62 of 100\n",
      "building tree 63 of 100\n",
      "building tree 64 of 100\n",
      "building tree 65 of 100\n",
      "building tree 66 of 100\n",
      "building tree 67 of 100\n",
      "building tree 68 of 100\n",
      "building tree 69 of 100\n",
      "building tree 70 of 100\n",
      "building tree 71 of 100\n",
      "building tree 72 of 100\n",
      "building tree 73 of 100\n",
      "building tree 74 of 100\n",
      "building tree 75 of 100\n",
      "building tree 76 of 100\n",
      "building tree 77 of 100\n",
      "building tree 78 of 100\n",
      "building tree 79 of 100\n",
      "building tree 80 of 100\n",
      "building tree 81 of 100\n",
      "building tree 82 of 100\n",
      "building tree 83 of 100\n",
      "building tree 84 of 100\n",
      "building tree 85 of 100\n",
      "building tree 86 of 100\n",
      "building tree 87 of 100\n",
      "building tree 88 of 100\n",
      "building tree 89 of 100\n",
      "building tree 90 of 100\n",
      "building tree 91 of 100\n",
      "building tree 92 of 100\n",
      "building tree 93 of 100\n",
      "building tree 94 of 100\n",
      "building tree 95 of 100\n",
      "building tree 96 of 100\n",
      "building tree 97 of 100\n",
      "building tree 98 of 100\n",
      "building tree 99 of 100\n",
      "building tree 100 of 100\n"
     ]
    },
    {
     "name": "stderr",
     "output_type": "stream",
     "text": [
      "[Parallel(n_jobs=1)]: Done 100 out of 100 | elapsed:   46.4s finished\n",
      "[Parallel(n_jobs=1)]: Using backend SequentialBackend with 1 concurrent workers.\n",
      "[Parallel(n_jobs=1)]: Done   1 out of   1 | elapsed:    0.0s remaining:    0.0s\n",
      "[Parallel(n_jobs=1)]: Done 100 out of 100 | elapsed:    0.1s finished\n",
      "[Parallel(n_jobs=1)]: Using backend SequentialBackend with 1 concurrent workers.\n",
      "[Parallel(n_jobs=1)]: Done   1 out of   1 | elapsed:    0.0s remaining:    0.0s\n"
     ]
    },
    {
     "name": "stdout",
     "output_type": "stream",
     "text": [
      "****************************************************************************************************\n",
      "TRAIN ERROR\n",
      "MAE: 24.35743111144662\n",
      "MSE: 3873.7486617441364\n",
      "RMSE: 62.239446187640006\n",
      "****************************************************************************************************\n",
      "TEST ERROR\n",
      "MAE: 34.667658505584946\n",
      "MSE: 5705.940304965777\n",
      "RMSE: 75.53767473893922\n",
      "****************************************************************************************************\n",
      "Pred:  856.2438769850468  True:  855.0\n",
      "Pred:  853.4681674274414  True:  850.0\n",
      "Pred:  853.1604608250458  True:  840.0\n",
      "Pred:  839.7072174407829  True:  830.0\n",
      "Pred:  831.1305193706953  True:  810.0\n",
      "Pred:  814.2718585550474  True:  800.0\n",
      "Pred:  803.1795311784674  True:  810.0\n",
      "Pred:  814.2718585550474  True:  825.0\n",
      "Pred:  826.7884177874832  True:  840.0\n",
      "Pred:  839.7072174407829  True:  820.0\n"
     ]
    },
    {
     "name": "stderr",
     "output_type": "stream",
     "text": [
      "[Parallel(n_jobs=1)]: Done 100 out of 100 | elapsed:    0.4s finished\n"
     ]
    }
   ],
   "source": [
    "rgsrr = fit_rf(X_train_95,Y_train_95,X_test_95,Y_test_95,150,9,2)"
   ]
  },
  {
   "cell_type": "code",
   "execution_count": 274,
   "id": "ec7de6fb",
   "metadata": {},
   "outputs": [
    {
     "data": {
      "text/plain": [
       "array([4.50000000e-01, 7.69230769e-02, 7.77307827e-01, 2.77701203e-01,\n",
       "       5.32127461e-05, 8.64321608e-02, 1.62540799e-02, 3.18121871e-03,\n",
       "       5.39451632e-03, 0.00000000e+00, 2.92910795e-05, 0.00000000e+00,\n",
       "       0.00000000e+00, 5.26684882e-01, 4.92561757e-01, 1.65344631e-01,\n",
       "       6.19416003e-01, 5.47306968e-01, 5.25032511e-01, 0.00000000e+00,\n",
       "       1.00000000e+00, 0.00000000e+00])"
      ]
     },
     "execution_count": 274,
     "metadata": {},
     "output_type": "execute_result"
    }
   ],
   "source": [
    "X_test[0]"
   ]
  },
  {
   "cell_type": "code",
   "execution_count": 275,
   "id": "7c1fd81c",
   "metadata": {},
   "outputs": [],
   "source": [
    "X = Final_input_lstms"
   ]
  },
  {
   "cell_type": "code",
   "execution_count": 276,
   "id": "0b575484",
   "metadata": {},
   "outputs": [],
   "source": [
    "X_train,Y_train,X_test,Y_test = time_based_split()"
   ]
  },
  {
   "cell_type": "code",
   "execution_count": 277,
   "id": "8629796c",
   "metadata": {},
   "outputs": [
    {
     "data": {
      "text/plain": [
       "array([27.25, 78.0, 79.19499237499998, 291.610795, 667.137411941667,\n",
       "       860.0, 1073.5714285714287, 270.0, 268.2857142857143,\n",
       "       3.725290299999999, 99.03063486240862, 0, 0, 0.75819767, -0.773561,\n",
       "       -0.8356619, -0.014831018, -0.001299955, 0.019895706, 0.0024683475,\n",
       "       0.031677876, -0.02698052], dtype=object)"
      ]
     },
     "execution_count": 277,
     "metadata": {},
     "output_type": "execute_result"
    }
   ],
   "source": [
    "X_test[0]"
   ]
  },
  {
   "cell_type": "code",
   "execution_count": 281,
   "id": "d1a35619",
   "metadata": {},
   "outputs": [],
   "source": [
    "X = min_max_scaler.fit_transform(X_test[0].reshape(1,-1))"
   ]
  },
  {
   "cell_type": "code",
   "execution_count": 282,
   "id": "07ccef07",
   "metadata": {},
   "outputs": [
    {
     "data": {
      "text/plain": [
       "array([[0., 0., 0., 0., 0., 0., 0., 0., 0., 0., 0., 0., 0., 0., 0., 0.,\n",
       "        0., 0., 0., 0., 0., 0.]])"
      ]
     },
     "execution_count": 282,
     "metadata": {},
     "output_type": "execute_result"
    }
   ],
   "source": [
    "X"
   ]
  },
  {
   "cell_type": "markdown",
   "id": "21bea6cc",
   "metadata": {},
   "source": [
    "# Fitting without minmax"
   ]
  },
  {
   "cell_type": "code",
   "execution_count": 292,
   "id": "ffe91df7",
   "metadata": {},
   "outputs": [],
   "source": [
    "X =Final_input"
   ]
  },
  {
   "cell_type": "code",
   "execution_count": 372,
   "id": "f647b236",
   "metadata": {},
   "outputs": [],
   "source": [
    "X_train,Y_train,X_test,Y_test = time_based_split()"
   ]
  },
  {
   "cell_type": "code",
   "execution_count": 373,
   "id": "46421c24",
   "metadata": {},
   "outputs": [],
   "source": [
    "X_train_95,X_test_95,Y_train_95,Y_test_95 = remove_outliers(X_train,Y_train,X_test,Y_test,95,5)"
   ]
  },
  {
   "cell_type": "code",
   "execution_count": 295,
   "id": "46734e87",
   "metadata": {},
   "outputs": [
    {
     "name": "stderr",
     "output_type": "stream",
     "text": [
      "[Parallel(n_jobs=1)]: Using backend SequentialBackend with 1 concurrent workers.\n"
     ]
    },
    {
     "name": "stdout",
     "output_type": "stream",
     "text": [
      "building tree 1 of 100\n"
     ]
    },
    {
     "name": "stderr",
     "output_type": "stream",
     "text": [
      "[Parallel(n_jobs=1)]: Done   1 out of   1 | elapsed:    0.7s remaining:    0.0s\n"
     ]
    },
    {
     "name": "stdout",
     "output_type": "stream",
     "text": [
      "building tree 2 of 100\n",
      "building tree 3 of 100\n",
      "building tree 4 of 100\n",
      "building tree 5 of 100\n",
      "building tree 6 of 100\n",
      "building tree 7 of 100\n",
      "building tree 8 of 100\n",
      "building tree 9 of 100\n",
      "building tree 10 of 100\n",
      "building tree 11 of 100\n",
      "building tree 12 of 100\n",
      "building tree 13 of 100\n",
      "building tree 14 of 100\n",
      "building tree 15 of 100\n",
      "building tree 16 of 100\n",
      "building tree 17 of 100\n",
      "building tree 18 of 100\n",
      "building tree 19 of 100\n",
      "building tree 20 of 100\n",
      "building tree 21 of 100\n",
      "building tree 22 of 100\n",
      "building tree 23 of 100\n",
      "building tree 24 of 100\n",
      "building tree 25 of 100\n",
      "building tree 26 of 100\n",
      "building tree 27 of 100\n",
      "building tree 28 of 100\n",
      "building tree 29 of 100\n",
      "building tree 30 of 100\n",
      "building tree 31 of 100\n",
      "building tree 32 of 100\n",
      "building tree 33 of 100\n",
      "building tree 34 of 100\n",
      "building tree 35 of 100\n",
      "building tree 36 of 100\n",
      "building tree 37 of 100\n",
      "building tree 38 of 100\n",
      "building tree 39 of 100\n",
      "building tree 40 of 100\n",
      "building tree 41 of 100\n",
      "building tree 42 of 100\n",
      "building tree 43 of 100\n",
      "building tree 44 of 100\n",
      "building tree 45 of 100\n",
      "building tree 46 of 100\n",
      "building tree 47 of 100\n",
      "building tree 48 of 100\n",
      "building tree 49 of 100\n",
      "building tree 50 of 100\n",
      "building tree 51 of 100\n",
      "building tree 52 of 100\n",
      "building tree 53 of 100\n",
      "building tree 54 of 100\n",
      "building tree 55 of 100\n",
      "building tree 56 of 100\n",
      "building tree 57 of 100\n",
      "building tree 58 of 100\n",
      "building tree 59 of 100\n",
      "building tree 60 of 100\n",
      "building tree 61 of 100\n",
      "building tree 62 of 100\n",
      "building tree 63 of 100\n",
      "building tree 64 of 100\n",
      "building tree 65 of 100\n",
      "building tree 66 of 100\n",
      "building tree 67 of 100\n",
      "building tree 68 of 100\n",
      "building tree 69 of 100\n",
      "building tree 70 of 100\n",
      "building tree 71 of 100\n",
      "building tree 72 of 100\n",
      "building tree 73 of 100\n",
      "building tree 74 of 100\n",
      "building tree 75 of 100\n",
      "building tree 76 of 100\n",
      "building tree 77 of 100\n",
      "building tree 78 of 100\n",
      "building tree 79 of 100\n",
      "building tree 80 of 100\n",
      "building tree 81 of 100\n",
      "building tree 82 of 100\n",
      "building tree 83 of 100\n",
      "building tree 84 of 100\n",
      "building tree 85 of 100\n",
      "building tree 86 of 100\n",
      "building tree 87 of 100\n",
      "building tree 88 of 100\n",
      "building tree 89 of 100\n",
      "building tree 90 of 100\n",
      "building tree 91 of 100\n",
      "building tree 92 of 100\n",
      "building tree 93 of 100\n",
      "building tree 94 of 100\n",
      "building tree 95 of 100\n",
      "building tree 96 of 100\n",
      "building tree 97 of 100\n",
      "building tree 98 of 100\n",
      "building tree 99 of 100\n",
      "building tree 100 of 100\n"
     ]
    },
    {
     "name": "stderr",
     "output_type": "stream",
     "text": [
      "[Parallel(n_jobs=1)]: Done 100 out of 100 | elapsed:  1.1min finished\n",
      "[Parallel(n_jobs=1)]: Using backend SequentialBackend with 1 concurrent workers.\n",
      "[Parallel(n_jobs=1)]: Done   1 out of   1 | elapsed:    0.0s remaining:    0.0s\n",
      "[Parallel(n_jobs=1)]: Done 100 out of 100 | elapsed:    0.1s finished\n",
      "[Parallel(n_jobs=1)]: Using backend SequentialBackend with 1 concurrent workers.\n",
      "[Parallel(n_jobs=1)]: Done   1 out of   1 | elapsed:    0.0s remaining:    0.0s\n"
     ]
    },
    {
     "name": "stdout",
     "output_type": "stream",
     "text": [
      "****************************************************************************************************\n",
      "TRAIN ERROR\n",
      "MAE: 24.14900249655127\n",
      "MSE: 3335.4342492220317\n",
      "RMSE: 57.75321851829586\n",
      "****************************************************************************************************\n",
      "TEST ERROR\n",
      "MAE: 34.11016560850274\n",
      "MSE: 5442.951493070552\n",
      "RMSE: 73.77636134339069\n",
      "****************************************************************************************************\n",
      "Pred:  845.8990991779648  True:  855.0\n",
      "Pred:  842.4878145148359  True:  850.0\n",
      "Pred:  841.9383655033265  True:  840.0\n",
      "Pred:  840.0811006650764  True:  830.0\n",
      "Pred:  837.761856060525  True:  810.0\n",
      "Pred:  826.6501695510673  True:  800.0\n",
      "Pred:  806.2092078940286  True:  810.0\n",
      "Pred:  809.5803575971315  True:  825.0\n",
      "Pred:  829.8193972197344  True:  840.0\n",
      "Pred:  839.9848159736625  True:  820.0\n"
     ]
    },
    {
     "name": "stderr",
     "output_type": "stream",
     "text": [
      "[Parallel(n_jobs=1)]: Done 100 out of 100 | elapsed:    0.3s finished\n"
     ]
    }
   ],
   "source": [
    "rgsrr = fit_rf(X_train_95,Y_train_95,X_test_95,Y_test_95,150,10,2)"
   ]
  },
  {
   "cell_type": "code",
   "execution_count": 296,
   "id": "0b8b6b31",
   "metadata": {},
   "outputs": [
    {
     "name": "stderr",
     "output_type": "stream",
     "text": [
      "[Parallel(n_jobs=1)]: Using backend SequentialBackend with 1 concurrent workers.\n",
      "[Parallel(n_jobs=1)]: Done   1 out of   1 | elapsed:    0.0s remaining:    0.0s\n",
      "[Parallel(n_jobs=1)]: Done 100 out of 100 | elapsed:    0.0s finished\n"
     ]
    },
    {
     "data": {
      "text/plain": [
       "array([845.89909918])"
      ]
     },
     "execution_count": 296,
     "metadata": {},
     "output_type": "execute_result"
    }
   ],
   "source": [
    "rgsrr.predict(X_test[0].reshape(1,-1))"
   ]
  },
  {
   "cell_type": "code",
   "execution_count": 297,
   "id": "48edebe5",
   "metadata": {},
   "outputs": [],
   "source": [
    "X_30 = X_test[:30].copy()"
   ]
  },
  {
   "cell_type": "code",
   "execution_count": 298,
   "id": "44e3917b",
   "metadata": {},
   "outputs": [
    {
     "data": {
      "text/plain": [
       "array([27.25, 78.0, 1.9999847, 79.19499237499998, 11376946.955,\n",
       "       291.610795, 667.137411941667, 3.7252903, 860.0, 880.0, 940.0,\n",
       "       1073.5714285714287, 270.0, 263.0, 250.0, 268.2857142857143,\n",
       "       3.725290299999999, 3.725290299999999, 3.725290299999999,\n",
       "       99.03063486240862, 0, 0, 0.75819767, -0.773561, -0.8356619,\n",
       "       -0.014831018, -0.001299955, 0.019895706, 0.0024683475, 0.031677876,\n",
       "       -0.02698052], dtype=object)"
      ]
     },
     "execution_count": 298,
     "metadata": {},
     "output_type": "execute_result"
    }
   ],
   "source": [
    "X_30[0]"
   ]
  },
  {
   "cell_type": "code",
   "execution_count": 348,
   "id": "9ff0e5f9",
   "metadata": {},
   "outputs": [],
   "source": [
    "market = 'Agra'\n",
    "day = 10\n",
    "month =8\n",
    "\n",
    "\n",
    "\n",
    "a=[]\n",
    "index = markets.index(market)\n",
    "a.append([df_market_embedding['C1'][index],df_market_embedding['C2'][index],df_market_embedding['C3'][index]])\n",
    "    \n",
    "\n",
    "b=[]\n",
    "index = months.index(month)\n",
    "b.append([df_month_embedding['C1'][index],df_month_embedding['C2'][index],df_month_embedding['C3'][index]])\n",
    "    \n",
    "c=[]\n",
    "index = days.index(day)\n",
    "c.append([df_day_embedding['C1'][index],df_day_embedding['C2'][index],df_day_embedding['C3'][index]])\n"
   ]
  },
  {
   "cell_type": "code",
   "execution_count": 349,
   "id": "c8de9b51",
   "metadata": {},
   "outputs": [],
   "source": [
    "check = a[0]+b[0]+c[0]"
   ]
  },
  {
   "cell_type": "code",
   "execution_count": 350,
   "id": "c70ab681",
   "metadata": {},
   "outputs": [
    {
     "data": {
      "text/plain": [
       "[0.75819767,\n",
       " -0.773561,\n",
       " -0.8356619,\n",
       " -0.35649973,\n",
       " 0.44832852,\n",
       " -0.36272973,\n",
       " 0.2409199,\n",
       " -0.35323268,\n",
       " 0.1673852]"
      ]
     },
     "execution_count": 350,
     "metadata": {},
     "output_type": "execute_result"
    }
   ],
   "source": [
    "check"
   ]
  },
  {
   "cell_type": "code",
   "execution_count": 351,
   "id": "9a0754a4",
   "metadata": {},
   "outputs": [
    {
     "data": {
      "text/plain": [
       "array([0.75819767, -0.773561, -0.8356619, -0.014831018, -0.001299955,\n",
       "       0.019895706, 0.0024683475, 0.031677876, -0.02698052], dtype=object)"
      ]
     },
     "execution_count": 351,
     "metadata": {},
     "output_type": "execute_result"
    }
   ],
   "source": [
    "X_test[0][-9:]"
   ]
  },
  {
   "cell_type": "code",
   "execution_count": 352,
   "id": "45280c58",
   "metadata": {},
   "outputs": [
    {
     "data": {
      "text/plain": [
       "[0.75819767,\n",
       " -0.773561,\n",
       " -0.8356619,\n",
       " -0.014831018,\n",
       " -0.001299955,\n",
       " 0.019895706,\n",
       " 0.0024683475,\n",
       " 0.031677876,\n",
       " -0.02698052]"
      ]
     },
     "execution_count": 352,
     "metadata": {},
     "output_type": "execute_result"
    }
   ],
   "source": [
    "ar = list(X_test[0][-9:])\n",
    "    \n",
    "ar"
   ]
  },
  {
   "cell_type": "code",
   "execution_count": null,
   "id": "22c5fa30",
   "metadata": {},
   "outputs": [],
   "source": []
  },
  {
   "cell_type": "code",
   "execution_count": 354,
   "id": "5a346981",
   "metadata": {},
   "outputs": [
    {
     "name": "stdout",
     "output_type": "stream",
     "text": [
      "Yes\n"
     ]
    }
   ],
   "source": [
    "for i in range(len(X_test)):\n",
    "    ar = list(X_test[i][-9:])\n",
    "    \n",
    "    if ar == check:\n",
    "        print('Yes')\n",
    "        break"
   ]
  },
  {
   "cell_type": "code",
   "execution_count": 357,
   "id": "70fc8494",
   "metadata": {},
   "outputs": [
    {
     "data": {
      "text/plain": [
       "array([27.25, 78.0, 1.9999847, 88.48336395833333, 4378087.36,\n",
       "       301.4926183333333, 406908.96039045433, 47765.672, 1850.0, 1800.0,\n",
       "       1610.0, 1771.4285714285713, 178.0, 215.0, 222.5,\n",
       "       248.85714285714286, 599239.3336458334, 413763.64594959584,\n",
       "       904429.776, 392915.7809449626, 0, 0, 0.75819767, -0.773561,\n",
       "       -0.8356619, -0.35649973, 0.44832852, -0.36272973, 0.2409199,\n",
       "       -0.35323268, 0.1673852], dtype=object)"
      ]
     },
     "execution_count": 357,
     "metadata": {},
     "output_type": "execute_result"
    }
   ],
   "source": [
    "X_test[221]"
   ]
  },
  {
   "cell_type": "code",
   "execution_count": 358,
   "id": "ca6cbdf9",
   "metadata": {},
   "outputs": [
    {
     "name": "stderr",
     "output_type": "stream",
     "text": [
      "[Parallel(n_jobs=1)]: Using backend SequentialBackend with 1 concurrent workers.\n",
      "[Parallel(n_jobs=1)]: Done   1 out of   1 | elapsed:    0.0s remaining:    0.0s\n",
      "[Parallel(n_jobs=1)]: Done 100 out of 100 | elapsed:    0.0s finished\n"
     ]
    },
    {
     "data": {
      "text/plain": [
       "array([1854.37761241])"
      ]
     },
     "execution_count": 358,
     "metadata": {},
     "output_type": "execute_result"
    }
   ],
   "source": [
    "rgsrr.predict(X_test[221].reshape(1,-1))"
   ]
  },
  {
   "cell_type": "code",
   "execution_count": 377,
   "id": "f9618ebb",
   "metadata": {},
   "outputs": [
    {
     "name": "stderr",
     "output_type": "stream",
     "text": [
      "[Parallel(n_jobs=1)]: Using backend SequentialBackend with 1 concurrent workers.\n",
      "[Parallel(n_jobs=1)]: Done   1 out of   1 | elapsed:    0.0s remaining:    0.0s\n",
      "[Parallel(n_jobs=1)]: Done 100 out of 100 | elapsed:    0.0s finished\n"
     ]
    },
    {
     "data": {
      "text/plain": [
       "array([2171.5964812])"
      ]
     },
     "execution_count": 377,
     "metadata": {},
     "output_type": "execute_result"
    }
   ],
   "source": [
    "rgsrr.predict(X_test[224].reshape(1,-1))"
   ]
  },
  {
   "cell_type": "code",
   "execution_count": 364,
   "id": "61b7c71d",
   "metadata": {},
   "outputs": [
    {
     "data": {
      "text/plain": [
       "860.0"
      ]
     },
     "execution_count": 364,
     "metadata": {},
     "output_type": "execute_result"
    }
   ],
   "source": [
    "X_test[1][9]"
   ]
  },
  {
   "cell_type": "code",
   "execution_count": 359,
   "id": "bbc7e448",
   "metadata": {},
   "outputs": [
    {
     "data": {
      "text/plain": [
       "1880.0"
      ]
     },
     "execution_count": 359,
     "metadata": {},
     "output_type": "execute_result"
    }
   ],
   "source": [
    "Y_test[221]"
   ]
  },
  {
   "cell_type": "code",
   "execution_count": 378,
   "id": "0e2a839c",
   "metadata": {},
   "outputs": [
    {
     "name": "stderr",
     "output_type": "stream",
     "text": [
      "[Parallel(n_jobs=1)]: Using backend SequentialBackend with 1 concurrent workers.\n",
      "[Parallel(n_jobs=1)]: Done   1 out of   1 | elapsed:    0.0s remaining:    0.0s\n",
      "[Parallel(n_jobs=1)]: Done 100 out of 100 | elapsed:    0.0s finished\n",
      "[Parallel(n_jobs=1)]: Using backend SequentialBackend with 1 concurrent workers.\n",
      "[Parallel(n_jobs=1)]: Done   1 out of   1 | elapsed:    0.0s remaining:    0.0s\n",
      "[Parallel(n_jobs=1)]: Done 100 out of 100 | elapsed:    0.0s finished\n",
      "[Parallel(n_jobs=1)]: Using backend SequentialBackend with 1 concurrent workers.\n",
      "[Parallel(n_jobs=1)]: Done   1 out of   1 | elapsed:    0.0s remaining:    0.0s\n",
      "[Parallel(n_jobs=1)]: Done 100 out of 100 | elapsed:    0.0s finished\n",
      "[Parallel(n_jobs=1)]: Using backend SequentialBackend with 1 concurrent workers.\n",
      "[Parallel(n_jobs=1)]: Done   1 out of   1 | elapsed:    0.0s remaining:    0.0s\n",
      "[Parallel(n_jobs=1)]: Done 100 out of 100 | elapsed:    0.0s finished\n"
     ]
    }
   ],
   "source": [
    "index = 221\n",
    "X_test_30 = X_test[index:index+30].copy()\n",
    "p1 = rgsrr.predict(X_test_30[0].reshape(1,-1))\n",
    "X_test_30[1][8] = p1\n",
    "p2 = rgsrr.predict(X_test_30[1].reshape(1,-1))\n",
    "\n",
    "X_test_30[2][8] = p2\n",
    "X_test_30[2][9] = p1\n",
    "p3 = rgsrr.predict(X_test_30[2].reshape(1,-1))\n",
    "\n",
    "X_test_30[3][8] = p3\n",
    "X_test_30[3][9] = p2\n",
    "X_test_30[3][10] =p1\n",
    "p4 = rgsrr.predict(X_test_30[3].reshape(1,-1))\n"
   ]
  },
  {
   "cell_type": "code",
   "execution_count": 375,
   "id": "56858638",
   "metadata": {},
   "outputs": [
    {
     "data": {
      "text/plain": [
       "(array([1854.37761241]), array([1855.94306969]), array([1855.62290008]))"
      ]
     },
     "execution_count": 375,
     "metadata": {},
     "output_type": "execute_result"
    }
   ],
   "source": [
    "p1,p2,p3"
   ]
  },
  {
   "cell_type": "code",
   "execution_count": 379,
   "id": "ab294cb4",
   "metadata": {},
   "outputs": [
    {
     "data": {
      "text/plain": [
       "array([1855.62290008])"
      ]
     },
     "execution_count": 379,
     "metadata": {},
     "output_type": "execute_result"
    }
   ],
   "source": [
    "p4"
   ]
  },
  {
   "cell_type": "code",
   "execution_count": 382,
   "id": "c2468d0e",
   "metadata": {},
   "outputs": [
    {
     "name": "stderr",
     "output_type": "stream",
     "text": [
      "[Parallel(n_jobs=1)]: Using backend SequentialBackend with 1 concurrent workers.\n",
      "[Parallel(n_jobs=1)]: Done   1 out of   1 | elapsed:    0.0s remaining:    0.0s\n",
      "[Parallel(n_jobs=1)]: Done 100 out of 100 | elapsed:    0.0s finished\n"
     ]
    }
   ],
   "source": [
    "y_pred__ = rgsrr.predict(X_test[index:index+30])"
   ]
  },
  {
   "cell_type": "code",
   "execution_count": 384,
   "id": "be380374",
   "metadata": {},
   "outputs": [
    {
     "data": {
      "text/plain": [
       "array([1854.37761241, 1855.94306969, 1855.62290008, 1855.62290008,\n",
       "       2174.1011729 , 2175.92745422, 2291.0981746 , 2421.92200301,\n",
       "       2423.81218994, 2452.14734264, 2407.76925412, 2322.29777538,\n",
       "       2277.51231716, 2271.81914895, 2013.48907746, 2177.21615685,\n",
       "       2023.55861591, 2025.35043591, 2023.55861591, 2021.61873358,\n",
       "       2015.84002703, 2015.84002703, 1952.44073865, 1912.09201806,\n",
       "       1889.49714726, 1906.07182586, 1908.26833757, 1869.17661333,\n",
       "       1906.07182586, 1881.24433143])"
      ]
     },
     "execution_count": 384,
     "metadata": {},
     "output_type": "execute_result"
    }
   ],
   "source": [
    "y_pred__"
   ]
  },
  {
   "cell_type": "code",
   "execution_count": 387,
   "id": "24300705",
   "metadata": {},
   "outputs": [
    {
     "name": "stdout",
     "output_type": "stream",
     "text": [
      "i:  0  importance:  239.72731713530308\n",
      "i:  1  importance:  297.69353083990757\n",
      "i:  2  importance:  5.077233550124545\n",
      "i:  3  importance:  790.8058989065858\n",
      "i:  4  importance:  454.61244803176237\n",
      "i:  5  importance:  869.119592226703\n",
      "i:  6  importance:  288.1862462195006\n",
      "i:  7  importance:  289.9099431070168\n",
      "i:  8  importance:  9783672.619702505\n",
      "i:  9  importance:  185435.66867430267\n",
      "i:  10  importance:  20682.04333925503\n",
      "i:  11  importance:  894.2512982929705\n",
      "i:  12  importance:  944.7072092321634\n",
      "i:  13  importance:  495.6097462929155\n",
      "i:  14  importance:  447.0505127823471\n",
      "i:  15  importance:  360.72397885463573\n",
      "i:  16  importance:  359.4160873876715\n",
      "i:  17  importance:  192.71896572182868\n",
      "i:  18  importance:  122.8670957756747\n",
      "i:  19  importance:  663.952856813671\n",
      "i:  20  importance:  12.59233635954512\n",
      "i:  21  importance:  9.351172127554424\n",
      "i:  22  importance:  224.9918196686175\n",
      "i:  23  importance:  198.56193183977524\n",
      "i:  24  importance:  241.67684767599505\n",
      "i:  25  importance:  397.98288652545517\n",
      "i:  26  importance:  209.58702769954627\n",
      "i:  27  importance:  359.8545097255646\n",
      "i:  28  importance:  225.5615736769302\n",
      "i:  29  importance:  419.1968386253348\n",
      "i:  30  importance:  193.88137884261528\n"
     ]
    }
   ],
   "source": [
    "importances = rgsrr.feature_importances_\n",
    "importances = np.multiply(importances,10000000)\n",
    "\n",
    "for i in range(len(importances)):\n",
    "    print('i: ',i,' importance: ',importances[i])"
   ]
  },
  {
   "cell_type": "code",
   "execution_count": null,
   "id": "2b0b4872",
   "metadata": {},
   "outputs": [],
   "source": []
  }
 ],
 "metadata": {
  "kernelspec": {
   "display_name": "Python 3 (ipykernel)",
   "language": "python",
   "name": "python3"
  },
  "language_info": {
   "codemirror_mode": {
    "name": "ipython",
    "version": 3
   },
   "file_extension": ".py",
   "mimetype": "text/x-python",
   "name": "python",
   "nbconvert_exporter": "python",
   "pygments_lexer": "ipython3",
   "version": "3.8.8"
  }
 },
 "nbformat": 4,
 "nbformat_minor": 5
}
