{
  "nbformat": 4,
  "nbformat_minor": 0,
  "metadata": {
    "colab": {
      "name": "Price_prediction.ipynb",
      "provenance": []
    },
    "kernelspec": {
      "name": "python3",
      "display_name": "Python 3"
    },
    "language_info": {
      "name": "python"
    }
  },
  "cells": [
    {
      "cell_type": "markdown",
      "metadata": {
        "id": "vMvn3bP_ahWD"
      },
      "source": [
        "# Data Loading"
      ]
    },
    {
      "cell_type": "code",
      "metadata": {
        "colab": {
          "base_uri": "https://localhost:8080/"
        },
        "id": "zkALP7XEVRfK",
        "outputId": "c51d225e-5d53-4fbd-c55a-4fdf3d2f73a6"
      },
      "source": [
        "from google.colab import drive\n",
        "drive.mount('/content/drive')\n"
      ],
      "execution_count": 2,
      "outputs": [
        {
          "output_type": "stream",
          "name": "stdout",
          "text": [
            "Mounted at /content/drive\n"
          ]
        }
      ]
    },
    {
      "cell_type": "code",
      "metadata": {
        "id": "RSp9K7cGVgNd"
      },
      "source": [
        "import numpy as np\n",
        "import pandas as pd"
      ],
      "execution_count": 3,
      "outputs": []
    },
    {
      "cell_type": "code",
      "metadata": {
        "id": "OFEVN1-fXIA8"
      },
      "source": [
        "df = pd.read_csv(\"/content/drive/MyDrive/price_Onion.csv\")"
      ],
      "execution_count": 26,
      "outputs": []
    },
    {
      "cell_type": "markdown",
      "metadata": {
        "id": "wv7Ro3yQamVF"
      },
      "source": [
        "# Data Preprocessing"
      ]
    },
    {
      "cell_type": "code",
      "metadata": {
        "colab": {
          "base_uri": "https://localhost:8080/",
          "height": 394
        },
        "id": "Hhz6pA2HXOLN",
        "outputId": "295087b8-caa2-47e7-9a4e-a4710378014f"
      },
      "source": [
        "df.head()\n"
      ],
      "execution_count": 27,
      "outputs": [
        {
          "output_type": "execute_result",
          "data": {
            "text/html": [
              "<div>\n",
              "<style scoped>\n",
              "    .dataframe tbody tr th:only-of-type {\n",
              "        vertical-align: middle;\n",
              "    }\n",
              "\n",
              "    .dataframe tbody tr th {\n",
              "        vertical-align: top;\n",
              "    }\n",
              "\n",
              "    .dataframe thead th {\n",
              "        text-align: right;\n",
              "    }\n",
              "</style>\n",
              "<table border=\"1\" class=\"dataframe\">\n",
              "  <thead>\n",
              "    <tr style=\"text-align: right;\">\n",
              "      <th></th>\n",
              "      <th>State</th>\n",
              "      <th>State_Code</th>\n",
              "      <th>District</th>\n",
              "      <th>District_Code</th>\n",
              "      <th>Market</th>\n",
              "      <th>Market_Code</th>\n",
              "      <th>Commodity</th>\n",
              "      <th>Commodity_Code</th>\n",
              "      <th>Variety</th>\n",
              "      <th>Grade</th>\n",
              "      <th>Min_Price</th>\n",
              "      <th>Max_Price</th>\n",
              "      <th>Modal_Price</th>\n",
              "      <th>Date</th>\n",
              "    </tr>\n",
              "  </thead>\n",
              "  <tbody>\n",
              "    <tr>\n",
              "      <th>0</th>\n",
              "      <td>Karnataka</td>\n",
              "      <td>KK</td>\n",
              "      <td>Bagalkot</td>\n",
              "      <td>25</td>\n",
              "      <td>Bagalakot</td>\n",
              "      <td>713</td>\n",
              "      <td>Onion</td>\n",
              "      <td>23</td>\n",
              "      <td>Onion</td>\n",
              "      <td>FAQ</td>\n",
              "      <td>200</td>\n",
              "      <td>2200</td>\n",
              "      <td>1700.0</td>\n",
              "      <td>30 Oct 2021</td>\n",
              "    </tr>\n",
              "    <tr>\n",
              "      <th>1</th>\n",
              "      <td>Karnataka</td>\n",
              "      <td>KK</td>\n",
              "      <td>Bagalkot</td>\n",
              "      <td>25</td>\n",
              "      <td>Bagalakot</td>\n",
              "      <td>713</td>\n",
              "      <td>Onion</td>\n",
              "      <td>23</td>\n",
              "      <td>Onion</td>\n",
              "      <td>FAQ</td>\n",
              "      <td>200</td>\n",
              "      <td>2000</td>\n",
              "      <td>1500.0</td>\n",
              "      <td>16 Oct 2021</td>\n",
              "    </tr>\n",
              "    <tr>\n",
              "      <th>2</th>\n",
              "      <td>Karnataka</td>\n",
              "      <td>KK</td>\n",
              "      <td>Bagalkot</td>\n",
              "      <td>25</td>\n",
              "      <td>Bagalakot</td>\n",
              "      <td>713</td>\n",
              "      <td>Onion</td>\n",
              "      <td>23</td>\n",
              "      <td>Onion</td>\n",
              "      <td>FAQ</td>\n",
              "      <td>300</td>\n",
              "      <td>2000</td>\n",
              "      <td>1600.0</td>\n",
              "      <td>09 Oct 2021</td>\n",
              "    </tr>\n",
              "    <tr>\n",
              "      <th>3</th>\n",
              "      <td>Karnataka</td>\n",
              "      <td>KK</td>\n",
              "      <td>Bagalkot</td>\n",
              "      <td>25</td>\n",
              "      <td>Bagalakot</td>\n",
              "      <td>713</td>\n",
              "      <td>Onion</td>\n",
              "      <td>23</td>\n",
              "      <td>Onion</td>\n",
              "      <td>FAQ</td>\n",
              "      <td>300</td>\n",
              "      <td>2350</td>\n",
              "      <td>1800.0</td>\n",
              "      <td>28 Sep 2021</td>\n",
              "    </tr>\n",
              "    <tr>\n",
              "      <th>4</th>\n",
              "      <td>Karnataka</td>\n",
              "      <td>KK</td>\n",
              "      <td>Bagalkot</td>\n",
              "      <td>25</td>\n",
              "      <td>Bagalakot</td>\n",
              "      <td>713</td>\n",
              "      <td>Onion</td>\n",
              "      <td>23</td>\n",
              "      <td>Onion</td>\n",
              "      <td>FAQ</td>\n",
              "      <td>300</td>\n",
              "      <td>2000</td>\n",
              "      <td>1700.0</td>\n",
              "      <td>21 Sep 2021</td>\n",
              "    </tr>\n",
              "  </tbody>\n",
              "</table>\n",
              "</div>"
            ],
            "text/plain": [
              "       State State_Code  District  ...  Max_Price Modal_Price         Date\n",
              "0  Karnataka         KK  Bagalkot  ...       2200      1700.0  30 Oct 2021\n",
              "1  Karnataka         KK  Bagalkot  ...       2000      1500.0  16 Oct 2021\n",
              "2  Karnataka         KK  Bagalkot  ...       2000      1600.0  09 Oct 2021\n",
              "3  Karnataka         KK  Bagalkot  ...       2350      1800.0  28 Sep 2021\n",
              "4  Karnataka         KK  Bagalkot  ...       2000      1700.0  21 Sep 2021\n",
              "\n",
              "[5 rows x 14 columns]"
            ]
          },
          "metadata": {},
          "execution_count": 27
        }
      ]
    },
    {
      "cell_type": "code",
      "metadata": {
        "colab": {
          "base_uri": "https://localhost:8080/"
        },
        "id": "PyDLHL1GXPwL",
        "outputId": "49eff2ca-1c6f-412c-b6e0-80348f153c1a"
      },
      "source": [
        "df.shape"
      ],
      "execution_count": 28,
      "outputs": [
        {
          "output_type": "execute_result",
          "data": {
            "text/plain": [
              "(61083, 14)"
            ]
          },
          "metadata": {},
          "execution_count": 28
        }
      ]
    },
    {
      "cell_type": "markdown",
      "metadata": {
        "id": "laCCaLu_vxKI"
      },
      "source": [
        "**Removing Duplicate entries**"
      ]
    },
    {
      "cell_type": "code",
      "metadata": {
        "id": "IprJ3rbBvdnP"
      },
      "source": [
        "df = df.drop_duplicates()"
      ],
      "execution_count": 29,
      "outputs": []
    },
    {
      "cell_type": "code",
      "metadata": {
        "colab": {
          "base_uri": "https://localhost:8080/"
        },
        "id": "NpAwIXc8vj7U",
        "outputId": "c93f259b-0883-425e-e498-d823f261c9bc"
      },
      "source": [
        "df.shape"
      ],
      "execution_count": 30,
      "outputs": [
        {
          "output_type": "execute_result",
          "data": {
            "text/plain": [
              "(59281, 14)"
            ]
          },
          "metadata": {},
          "execution_count": 30
        }
      ]
    },
    {
      "cell_type": "markdown",
      "metadata": {
        "id": "zgBmhMVzvwZk"
      },
      "source": [
        "Initially there was 61083 entries, now after removing duplicated entries there are 59281 entries."
      ]
    },
    {
      "cell_type": "code",
      "metadata": {
        "colab": {
          "base_uri": "https://localhost:8080/"
        },
        "id": "e_HWkugiZDyi",
        "outputId": "a5df2bc6-136f-45cf-d53b-170470ecb0a9"
      },
      "source": [
        "df.columns"
      ],
      "execution_count": 54,
      "outputs": [
        {
          "output_type": "execute_result",
          "data": {
            "text/plain": [
              "Index(['State', 'State_Code', 'District', 'District_Code', 'Market',\n",
              "       'Market_Code', 'Commodity', 'Commodity_Code', 'Variety', 'Grade',\n",
              "       'Min_Price', 'Max_Price', 'Modal_Price', 'Date'],\n",
              "      dtype='object')"
            ]
          },
          "metadata": {},
          "execution_count": 54
        }
      ]
    },
    {
      "cell_type": "markdown",
      "metadata": {
        "id": "__A8aCtvwYVP"
      },
      "source": [
        "**Droping some columns which are not useful going ahead**"
      ]
    },
    {
      "cell_type": "code",
      "metadata": {
        "id": "MkrviYCgY34i"
      },
      "source": [
        "df = df.drop(['State', 'State_Code',\n",
        "        'Commodity', 'Commodity_Code', 'Variety', 'Grade'], axis=1)"
      ],
      "execution_count": 55,
      "outputs": []
    },
    {
      "cell_type": "code",
      "metadata": {
        "colab": {
          "base_uri": "https://localhost:8080/",
          "height": 204
        },
        "id": "eSXRgoxIZKj1",
        "outputId": "889d486c-6321-4590-e03b-8a7ab3553952"
      },
      "source": [
        "df.head()"
      ],
      "execution_count": 56,
      "outputs": [
        {
          "output_type": "execute_result",
          "data": {
            "text/html": [
              "<div>\n",
              "<style scoped>\n",
              "    .dataframe tbody tr th:only-of-type {\n",
              "        vertical-align: middle;\n",
              "    }\n",
              "\n",
              "    .dataframe tbody tr th {\n",
              "        vertical-align: top;\n",
              "    }\n",
              "\n",
              "    .dataframe thead th {\n",
              "        text-align: right;\n",
              "    }\n",
              "</style>\n",
              "<table border=\"1\" class=\"dataframe\">\n",
              "  <thead>\n",
              "    <tr style=\"text-align: right;\">\n",
              "      <th></th>\n",
              "      <th>District</th>\n",
              "      <th>District_Code</th>\n",
              "      <th>Market</th>\n",
              "      <th>Market_Code</th>\n",
              "      <th>Min_Price</th>\n",
              "      <th>Max_Price</th>\n",
              "      <th>Modal_Price</th>\n",
              "      <th>Date</th>\n",
              "    </tr>\n",
              "  </thead>\n",
              "  <tbody>\n",
              "    <tr>\n",
              "      <th>0</th>\n",
              "      <td>Bagalkot</td>\n",
              "      <td>25</td>\n",
              "      <td>Bagalakot</td>\n",
              "      <td>713</td>\n",
              "      <td>200</td>\n",
              "      <td>2200</td>\n",
              "      <td>1700.0</td>\n",
              "      <td>30 Oct 2021</td>\n",
              "    </tr>\n",
              "    <tr>\n",
              "      <th>1</th>\n",
              "      <td>Bagalkot</td>\n",
              "      <td>25</td>\n",
              "      <td>Bagalakot</td>\n",
              "      <td>713</td>\n",
              "      <td>200</td>\n",
              "      <td>2000</td>\n",
              "      <td>1500.0</td>\n",
              "      <td>16 Oct 2021</td>\n",
              "    </tr>\n",
              "    <tr>\n",
              "      <th>2</th>\n",
              "      <td>Bagalkot</td>\n",
              "      <td>25</td>\n",
              "      <td>Bagalakot</td>\n",
              "      <td>713</td>\n",
              "      <td>300</td>\n",
              "      <td>2000</td>\n",
              "      <td>1600.0</td>\n",
              "      <td>09 Oct 2021</td>\n",
              "    </tr>\n",
              "    <tr>\n",
              "      <th>3</th>\n",
              "      <td>Bagalkot</td>\n",
              "      <td>25</td>\n",
              "      <td>Bagalakot</td>\n",
              "      <td>713</td>\n",
              "      <td>300</td>\n",
              "      <td>2350</td>\n",
              "      <td>1800.0</td>\n",
              "      <td>28 Sep 2021</td>\n",
              "    </tr>\n",
              "    <tr>\n",
              "      <th>4</th>\n",
              "      <td>Bagalkot</td>\n",
              "      <td>25</td>\n",
              "      <td>Bagalakot</td>\n",
              "      <td>713</td>\n",
              "      <td>300</td>\n",
              "      <td>2000</td>\n",
              "      <td>1700.0</td>\n",
              "      <td>21 Sep 2021</td>\n",
              "    </tr>\n",
              "  </tbody>\n",
              "</table>\n",
              "</div>"
            ],
            "text/plain": [
              "   District  District_Code     Market  ...  Max_Price  Modal_Price         Date\n",
              "0  Bagalkot             25  Bagalakot  ...       2200       1700.0  30 Oct 2021\n",
              "1  Bagalkot             25  Bagalakot  ...       2000       1500.0  16 Oct 2021\n",
              "2  Bagalkot             25  Bagalakot  ...       2000       1600.0  09 Oct 2021\n",
              "3  Bagalkot             25  Bagalakot  ...       2350       1800.0  28 Sep 2021\n",
              "4  Bagalkot             25  Bagalakot  ...       2000       1700.0  21 Sep 2021\n",
              "\n",
              "[5 rows x 8 columns]"
            ]
          },
          "metadata": {},
          "execution_count": 56
        }
      ]
    },
    {
      "cell_type": "code",
      "metadata": {
        "colab": {
          "base_uri": "https://localhost:8080/",
          "height": 297
        },
        "id": "uqG6m01hZRvk",
        "outputId": "4a3e36f5-9d75-49bd-b070-6693a1f10b9f"
      },
      "source": [
        "df.describe()"
      ],
      "execution_count": 57,
      "outputs": [
        {
          "output_type": "execute_result",
          "data": {
            "text/html": [
              "<div>\n",
              "<style scoped>\n",
              "    .dataframe tbody tr th:only-of-type {\n",
              "        vertical-align: middle;\n",
              "    }\n",
              "\n",
              "    .dataframe tbody tr th {\n",
              "        vertical-align: top;\n",
              "    }\n",
              "\n",
              "    .dataframe thead th {\n",
              "        text-align: right;\n",
              "    }\n",
              "</style>\n",
              "<table border=\"1\" class=\"dataframe\">\n",
              "  <thead>\n",
              "    <tr style=\"text-align: right;\">\n",
              "      <th></th>\n",
              "      <th>District_Code</th>\n",
              "      <th>Market_Code</th>\n",
              "      <th>Min_Price</th>\n",
              "      <th>Max_Price</th>\n",
              "      <th>Modal_Price</th>\n",
              "    </tr>\n",
              "  </thead>\n",
              "  <tbody>\n",
              "    <tr>\n",
              "      <th>count</th>\n",
              "      <td>59281.000000</td>\n",
              "      <td>59281.000000</td>\n",
              "      <td>59281.000000</td>\n",
              "      <td>59281.000000</td>\n",
              "      <td>59281.000000</td>\n",
              "    </tr>\n",
              "    <tr>\n",
              "      <th>mean</th>\n",
              "      <td>9.761880</td>\n",
              "      <td>388.339350</td>\n",
              "      <td>888.795095</td>\n",
              "      <td>1600.596026</td>\n",
              "      <td>1258.869967</td>\n",
              "    </tr>\n",
              "    <tr>\n",
              "      <th>std</th>\n",
              "      <td>8.205651</td>\n",
              "      <td>493.426972</td>\n",
              "      <td>802.753883</td>\n",
              "      <td>1237.757555</td>\n",
              "      <td>948.130330</td>\n",
              "    </tr>\n",
              "    <tr>\n",
              "      <th>min</th>\n",
              "      <td>1.000000</td>\n",
              "      <td>107.000000</td>\n",
              "      <td>0.000000</td>\n",
              "      <td>0.000000</td>\n",
              "      <td>0.000000</td>\n",
              "    </tr>\n",
              "    <tr>\n",
              "      <th>25%</th>\n",
              "      <td>2.000000</td>\n",
              "      <td>109.000000</td>\n",
              "      <td>400.000000</td>\n",
              "      <td>900.000000</td>\n",
              "      <td>700.000000</td>\n",
              "    </tr>\n",
              "    <tr>\n",
              "      <th>50%</th>\n",
              "      <td>7.000000</td>\n",
              "      <td>120.000000</td>\n",
              "      <td>665.000000</td>\n",
              "      <td>1200.000000</td>\n",
              "      <td>1000.000000</td>\n",
              "    </tr>\n",
              "    <tr>\n",
              "      <th>75%</th>\n",
              "      <td>15.000000</td>\n",
              "      <td>735.000000</td>\n",
              "      <td>1000.000000</td>\n",
              "      <td>1983.000000</td>\n",
              "      <td>1500.000000</td>\n",
              "    </tr>\n",
              "    <tr>\n",
              "      <th>max</th>\n",
              "      <td>28.000000</td>\n",
              "      <td>4400.000000</td>\n",
              "      <td>14000.000000</td>\n",
              "      <td>42000.000000</td>\n",
              "      <td>17000.000000</td>\n",
              "    </tr>\n",
              "  </tbody>\n",
              "</table>\n",
              "</div>"
            ],
            "text/plain": [
              "       District_Code   Market_Code     Min_Price     Max_Price   Modal_Price\n",
              "count   59281.000000  59281.000000  59281.000000  59281.000000  59281.000000\n",
              "mean        9.761880    388.339350    888.795095   1600.596026   1258.869967\n",
              "std         8.205651    493.426972    802.753883   1237.757555    948.130330\n",
              "min         1.000000    107.000000      0.000000      0.000000      0.000000\n",
              "25%         2.000000    109.000000    400.000000    900.000000    700.000000\n",
              "50%         7.000000    120.000000    665.000000   1200.000000   1000.000000\n",
              "75%        15.000000    735.000000   1000.000000   1983.000000   1500.000000\n",
              "max        28.000000   4400.000000  14000.000000  42000.000000  17000.000000"
            ]
          },
          "metadata": {},
          "execution_count": 57
        }
      ]
    },
    {
      "cell_type": "code",
      "metadata": {
        "colab": {
          "base_uri": "https://localhost:8080/"
        },
        "id": "TpDmu4yXZwJ-",
        "outputId": "5e9e1cb6-cb64-48a0-9e44-108dd4b9c95e"
      },
      "source": [
        "df['Modal_Price'].describe()"
      ],
      "execution_count": 58,
      "outputs": [
        {
          "output_type": "execute_result",
          "data": {
            "text/plain": [
              "count    59281.000000\n",
              "mean      1258.869967\n",
              "std        948.130330\n",
              "min          0.000000\n",
              "25%        700.000000\n",
              "50%       1000.000000\n",
              "75%       1500.000000\n",
              "max      17000.000000\n",
              "Name: Modal_Price, dtype: float64"
            ]
          },
          "metadata": {},
          "execution_count": 58
        }
      ]
    },
    {
      "cell_type": "markdown",
      "metadata": {
        "id": "OED0uWbYuHWA"
      },
      "source": [
        " **Districts**"
      ]
    },
    {
      "cell_type": "code",
      "metadata": {
        "colab": {
          "base_uri": "https://localhost:8080/"
        },
        "id": "V2_1RGAAmdPp",
        "outputId": "0b3c99c5-8561-4eed-cc1c-fe2b8190d843"
      },
      "source": [
        "df['District'].describe()"
      ],
      "execution_count": 59,
      "outputs": [
        {
          "output_type": "execute_result",
          "data": {
            "text/plain": [
              "count         59281\n",
              "unique           25\n",
              "top       Bangalore\n",
              "freq          11645\n",
              "Name: District, dtype: object"
            ]
          },
          "metadata": {},
          "execution_count": 59
        }
      ]
    },
    {
      "cell_type": "markdown",
      "metadata": {
        "id": "wP7ptf7tuOJw"
      },
      "source": [
        "There are 25 unique districts.\n",
        "While the Bangalore district has the maximum number of entries."
      ]
    },
    {
      "cell_type": "code",
      "metadata": {
        "id": "4l60mYYFuArI"
      },
      "source": [
        "district_names =df.District.unique()"
      ],
      "execution_count": 60,
      "outputs": []
    },
    {
      "cell_type": "code",
      "metadata": {
        "colab": {
          "base_uri": "https://localhost:8080/"
        },
        "id": "BI4WLWlUvBu-",
        "outputId": "28addcbe-e58b-4ca3-fd6e-ba089c8c3c2b"
      },
      "source": [
        "district_names"
      ],
      "execution_count": 61,
      "outputs": [
        {
          "output_type": "execute_result",
          "data": {
            "text/plain": [
              "array(['Bagalkot', 'Bangalore', 'Belgaum', 'Bellary', 'Bidar', 'Bijapur',\n",
              "       'Chamrajnagar', 'Chikmagalur', 'Chitradurga', 'Davangere',\n",
              "       'Dharwad', 'Gadag', 'Gulbarga', 'Hassan', 'Haveri',\n",
              "       'Karwar(Uttar Kannad)', 'Kolar', 'Madikeri(Kodagu)', 'Mandya',\n",
              "       'Mangalore(Dakshin Kannad)', 'Mysore', 'Raichur', 'Shimoga',\n",
              "       'Tumkur', 'Udupi'], dtype=object)"
            ]
          },
          "metadata": {},
          "execution_count": 61
        }
      ]
    },
    {
      "cell_type": "code",
      "metadata": {
        "colab": {
          "base_uri": "https://localhost:8080/"
        },
        "id": "3ZGfTv56wJ2J",
        "outputId": "ed29bc22-c7cf-4a8a-dc0a-fb8bed8d31e6"
      },
      "source": [
        "df['Market'].describe()"
      ],
      "execution_count": 62,
      "outputs": [
        {
          "output_type": "execute_result",
          "data": {
            "text/plain": [
              "count         59281\n",
              "unique           94\n",
              "top       Bangalore\n",
              "freq           9576\n",
              "Name: Market, dtype: object"
            ]
          },
          "metadata": {},
          "execution_count": 62
        }
      ]
    },
    {
      "cell_type": "code",
      "metadata": {
        "id": "ces5wRqXwpRa"
      },
      "source": [
        "market_names = df.Market.unique()"
      ],
      "execution_count": 63,
      "outputs": []
    },
    {
      "cell_type": "code",
      "metadata": {
        "colab": {
          "base_uri": "https://localhost:8080/"
        },
        "id": "e9fkeBCIwxuQ",
        "outputId": "0b8175ef-4e8e-4255-e620-d5232ff7e72b"
      },
      "source": [
        "market_names"
      ],
      "execution_count": 64,
      "outputs": [
        {
          "output_type": "execute_result",
          "data": {
            "text/plain": [
              "array(['Bagalakot', 'Jamakhandi', 'Mhalingapur', 'Bangalore',\n",
              "       'Channapatana', 'Doddaballa Pur', 'Hoskote', 'Kanakapura',\n",
              "       'Ramanagara', 'Bailahongal', 'Belgaum', 'Nippani', 'Ramdurga',\n",
              "       'Sankeshwar', 'Bellary', 'H.B. Halli', 'Hospet', 'Bhalki', 'Bidar',\n",
              "       'Humanabad', 'Bijapur', 'Sindagi', 'Chamaraj Nagar', 'Gundlupet',\n",
              "       'Kollegal', 'Bagepalli', 'Chikkamagalore', 'Kadur', 'Koppa',\n",
              "       'Moodigere', 'Sringeri', 'Tarikere', 'Challakere', 'Holalkere',\n",
              "       'Davangere', 'Harappana Halli', 'Harihara', 'Honnali', 'Jagalur',\n",
              "       'Annigeri', 'Dharwar', 'Hubli (Amaragol)', 'Gadag', 'Gulbarga',\n",
              "       'Arakalgud', 'Arasikere', 'Belur', 'Channarayapatna', 'Hassan',\n",
              "       'Holenarsipura', 'Sakaleshpura', 'Haveri', 'Ranebennur', 'Karwar',\n",
              "       'Siddapur', 'Sirsi', 'Bangarpet', 'Chickkaballapura', 'Chintamani',\n",
              "       'Gowribidanoor', 'Kolar', 'Malur', 'Mulabagilu', 'Srinivasapur',\n",
              "       'Gonikappal', 'Madikeri', 'Somvarpet', 'K.R. Pet', 'Maddur',\n",
              "       'Mandya', 'Nagamangala', 'Pandavapura', 'Srirangapattana',\n",
              "       'Mangalore', 'Sulya', 'Hunsur', 'Mysore (Bandipalya)', 'Nanjangud',\n",
              "       'Piriya Pattana', 'T. Narasipura', 'Raichur', 'Sindhanur',\n",
              "       'Bhadravathi', 'Sagar', 'Shikaripura', 'Shimoga', 'Thirthahalli',\n",
              "       'Gubbi', 'Madhugiri', 'Pavagada', 'Tiptur', 'Tumkur', 'Kundapura',\n",
              "       'Udupi'], dtype=object)"
            ]
          },
          "metadata": {},
          "execution_count": 64
        }
      ]
    },
    {
      "cell_type": "code",
      "metadata": {
        "id": "YJTO8xXXwzJY"
      },
      "source": [
        ""
      ],
      "execution_count": 64,
      "outputs": []
    },
    {
      "cell_type": "markdown",
      "metadata": {
        "id": "s7rQpvgmxGxn"
      },
      "source": [
        "**Number of entries for every district**"
      ]
    },
    {
      "cell_type": "code",
      "metadata": {
        "id": "Z0wjfwixyLub"
      },
      "source": [
        "number_of_entries ={}\n",
        "for district in district_names:\n",
        "  number_of_entries[district] =0"
      ],
      "execution_count": 65,
      "outputs": []
    },
    {
      "cell_type": "code",
      "metadata": {
        "id": "5MsluluM0D30"
      },
      "source": [
        "df = df.reset_index(drop=True)"
      ],
      "execution_count": 76,
      "outputs": []
    },
    {
      "cell_type": "code",
      "metadata": {
        "colab": {
          "base_uri": "https://localhost:8080/"
        },
        "id": "6lbOCW2AyzQy",
        "outputId": "beffdc5b-83de-44d4-c248-ced51ffedf56"
      },
      "source": [
        "df.shape"
      ],
      "execution_count": 77,
      "outputs": [
        {
          "output_type": "execute_result",
          "data": {
            "text/plain": [
              "(59281, 8)"
            ]
          },
          "metadata": {},
          "execution_count": 77
        }
      ]
    },
    {
      "cell_type": "code",
      "metadata": {
        "id": "8Ax4TbrRxL39"
      },
      "source": [
        "\n",
        "for i in range(df.shape[0]):\n",
        "  for district in district_names:\n",
        "    if df['District'][i] == district:\n",
        "      number_of_entries[district] +=1\n"
      ],
      "execution_count": 82,
      "outputs": []
    },
    {
      "cell_type": "code",
      "metadata": {
        "colab": {
          "base_uri": "https://localhost:8080/"
        },
        "id": "lAIOMF8_xzhA",
        "outputId": "774d9256-f6ab-42e8-ba00-be7c748b6931"
      },
      "source": [
        "number_of_entries"
      ],
      "execution_count": 83,
      "outputs": [
        {
          "output_type": "execute_result",
          "data": {
            "text/plain": [
              "{'Bagalkot': 60393,\n",
              " 'Bangalore': 70926,\n",
              " 'Belgaum': 65028,\n",
              " 'Bellary': 61202,\n",
              " 'Bidar': 59448,\n",
              " 'Bijapur': 60280,\n",
              " 'Chamrajnagar': 61071,\n",
              " 'Chikmagalur': 62743,\n",
              " 'Chitradurga': 59613,\n",
              " 'Davangere': 62931,\n",
              " 'Dharwad': 67075,\n",
              " 'Gadag': 60151,\n",
              " 'Gulbarga': 59291,\n",
              " 'Hassan': 61695,\n",
              " 'Haveri': 60043,\n",
              " 'Karwar(Uttar Kannad)': 59555,\n",
              " 'Kolar': 64157,\n",
              " 'Madikeri(Kodagu)': 59309,\n",
              " 'Mandya': 59600,\n",
              " 'Mangalore(Dakshin Kannad)': 59604,\n",
              " 'Mysore': 62490,\n",
              " 'Raichur': 62284,\n",
              " 'Shimoga': 61011,\n",
              " 'Tumkur': 60938,\n",
              " 'Udupi': 60468}"
            ]
          },
          "metadata": {},
          "execution_count": 83
        }
      ]
    },
    {
      "cell_type": "markdown",
      "metadata": {
        "id": "Byu11IWG1XKc"
      },
      "source": [
        ""
      ]
    },
    {
      "cell_type": "code",
      "metadata": {
        "id": "sZkoCrIF02OJ"
      },
      "source": [
        "number_of_entries_market_wise ={}\n",
        "for market in market_names:\n",
        "  number_of_entries_market_wise[market] =0"
      ],
      "execution_count": 84,
      "outputs": []
    },
    {
      "cell_type": "code",
      "metadata": {
        "id": "dqlbgC-427v4"
      },
      "source": [
        "for i in range(df.shape[0]):\n",
        "  for market in market_names:\n",
        "    if df['Market'][i] == market:\n",
        "      number_of_entries_market_wise[market] +=1"
      ],
      "execution_count": 85,
      "outputs": []
    },
    {
      "cell_type": "code",
      "metadata": {
        "colab": {
          "base_uri": "https://localhost:8080/"
        },
        "id": "UJ2SMhG43JOi",
        "outputId": "6ea1ebde-9f69-4871-fb4c-bf181a021713"
      },
      "source": [
        "number_of_entries_market_wise"
      ],
      "execution_count": 86,
      "outputs": [
        {
          "output_type": "execute_result",
          "data": {
            "text/plain": [
              "{'Annigeri': 3,\n",
              " 'Arakalgud': 8,\n",
              " 'Arasikere': 727,\n",
              " 'Bagalakot': 645,\n",
              " 'Bagepalli': 408,\n",
              " 'Bailahongal': 13,\n",
              " 'Bangalore': 9576,\n",
              " 'Bangarpet': 168,\n",
              " 'Belgaum': 5674,\n",
              " 'Bellary': 62,\n",
              " 'Belur': 31,\n",
              " 'Bhadravathi': 187,\n",
              " 'Bhalki': 3,\n",
              " 'Bidar': 71,\n",
              " 'Bijapur': 996,\n",
              " 'Challakere': 100,\n",
              " 'Chamaraj Nagar': 601,\n",
              " 'Channapatana': 53,\n",
              " 'Channarayapatna': 175,\n",
              " 'Chickkaballapura': 1313,\n",
              " 'Chikkamagalore': 1944,\n",
              " 'Chintamani': 389,\n",
              " 'Davangere': 3263,\n",
              " 'Dharwar': 109,\n",
              " 'Doddaballa Pur': 920,\n",
              " 'Gadag': 870,\n",
              " 'Gonikappal': 8,\n",
              " 'Gowribidanoor': 538,\n",
              " 'Gubbi': 2,\n",
              " 'Gulbarga': 10,\n",
              " 'Gundlupet': 1139,\n",
              " 'H.B. Halli': 3,\n",
              " 'Harappana Halli': 2,\n",
              " 'Harihara': 6,\n",
              " 'Hassan': 1451,\n",
              " 'Haveri': 71,\n",
              " 'Holalkere': 232,\n",
              " 'Holenarsipura': 15,\n",
              " 'Honnali': 370,\n",
              " 'Hoskote': 41,\n",
              " 'Hospet': 1856,\n",
              " 'Hubli (Amaragol)': 7682,\n",
              " 'Humanabad': 93,\n",
              " 'Hunsur': 27,\n",
              " 'Jagalur': 9,\n",
              " 'Jamakhandi': 450,\n",
              " 'K.R. Pet': 220,\n",
              " 'Kadur': 557,\n",
              " 'Kanakapura': 317,\n",
              " 'Karwar': 2,\n",
              " 'Kolar': 2028,\n",
              " 'Kollegal': 50,\n",
              " 'Koppa': 17,\n",
              " 'Kundapura': 334,\n",
              " 'Maddur': 12,\n",
              " 'Madhugiri': 77,\n",
              " 'Madikeri': 19,\n",
              " 'Malur': 188,\n",
              " 'Mandya': 45,\n",
              " 'Mangalore': 308,\n",
              " 'Mhalingapur': 17,\n",
              " 'Moodigere': 8,\n",
              " 'Mulabagilu': 29,\n",
              " 'Mysore (Bandipalya)': 2671,\n",
              " 'Nagamangala': 39,\n",
              " 'Nanjangud': 223,\n",
              " 'Nippani': 47,\n",
              " 'Pandavapura': 1,\n",
              " 'Pavagada': 11,\n",
              " 'Piriya Pattana': 1,\n",
              " 'Raichur': 2982,\n",
              " 'Ramanagara': 738,\n",
              " 'Ramdurga': 2,\n",
              " 'Ranebennur': 691,\n",
              " 'Sagar': 30,\n",
              " 'Sakaleshpura': 7,\n",
              " 'Sankeshwar': 11,\n",
              " 'Shikaripura': 3,\n",
              " 'Shimoga': 1498,\n",
              " 'Siddapur': 263,\n",
              " 'Sindagi': 3,\n",
              " 'Sindhanur': 21,\n",
              " 'Sirsi': 9,\n",
              " 'Somvarpet': 1,\n",
              " 'Sringeri': 1,\n",
              " 'Srinivasapur': 223,\n",
              " 'Srirangapattana': 2,\n",
              " 'Sulya': 15,\n",
              " 'T. Narasipura': 287,\n",
              " 'Tarikere': 527,\n",
              " 'Thirthahalli': 12,\n",
              " 'Tiptur': 60,\n",
              " 'Tumkur': 1507,\n",
              " 'Udupi': 853}"
            ]
          },
          "metadata": {},
          "execution_count": 86
        }
      ]
    },
    {
      "cell_type": "code",
      "metadata": {
        "id": "UXLPzVve3KKC"
      },
      "source": [
        ""
      ],
      "execution_count": null,
      "outputs": []
    },
    {
      "cell_type": "markdown",
      "metadata": {
        "id": "p5SCzUs_3pqQ"
      },
      "source": [
        "**Exploring bangalore district**"
      ]
    },
    {
      "cell_type": "code",
      "metadata": {
        "id": "AAcNyBAQ3s-_"
      },
      "source": [
        "df_bangalore = df.loc[df['District'] == \"Bangalore\"]"
      ],
      "execution_count": 87,
      "outputs": []
    },
    {
      "cell_type": "code",
      "metadata": {
        "colab": {
          "base_uri": "https://localhost:8080/"
        },
        "id": "bCWVW8vf4DeL",
        "outputId": "9a298256-6aab-4c7a-fe6b-c9262a3b7577"
      },
      "source": [
        "df_bangalore.shape"
      ],
      "execution_count": 94,
      "outputs": [
        {
          "output_type": "execute_result",
          "data": {
            "text/plain": [
              "(11645, 8)"
            ]
          },
          "metadata": {},
          "execution_count": 94
        }
      ]
    },
    {
      "cell_type": "code",
      "metadata": {
        "id": "aBGJBHPh4a4j"
      },
      "source": [
        "df_bangalore = df_bangalore.reset_index(drop=True)"
      ],
      "execution_count": 104,
      "outputs": []
    },
    {
      "cell_type": "code",
      "metadata": {
        "colab": {
          "base_uri": "https://localhost:8080/",
          "height": 204
        },
        "id": "hbV_COB24E55",
        "outputId": "2a583542-f16f-4477-d2ea-4616600de0f5"
      },
      "source": [
        "df_bangalore.head()"
      ],
      "execution_count": 93,
      "outputs": [
        {
          "output_type": "execute_result",
          "data": {
            "text/html": [
              "<div>\n",
              "<style scoped>\n",
              "    .dataframe tbody tr th:only-of-type {\n",
              "        vertical-align: middle;\n",
              "    }\n",
              "\n",
              "    .dataframe tbody tr th {\n",
              "        vertical-align: top;\n",
              "    }\n",
              "\n",
              "    .dataframe thead th {\n",
              "        text-align: right;\n",
              "    }\n",
              "</style>\n",
              "<table border=\"1\" class=\"dataframe\">\n",
              "  <thead>\n",
              "    <tr style=\"text-align: right;\">\n",
              "      <th></th>\n",
              "      <th>District</th>\n",
              "      <th>District_Code</th>\n",
              "      <th>Market</th>\n",
              "      <th>Market_Code</th>\n",
              "      <th>Min_Price</th>\n",
              "      <th>Max_Price</th>\n",
              "      <th>Modal_Price</th>\n",
              "      <th>Date</th>\n",
              "    </tr>\n",
              "  </thead>\n",
              "  <tbody>\n",
              "    <tr>\n",
              "      <th>0</th>\n",
              "      <td>Bangalore</td>\n",
              "      <td>1</td>\n",
              "      <td>Bangalore</td>\n",
              "      <td>107</td>\n",
              "      <td>1500</td>\n",
              "      <td>2500</td>\n",
              "      <td>2000.0</td>\n",
              "      <td>30 Oct 2021</td>\n",
              "    </tr>\n",
              "    <tr>\n",
              "      <th>1</th>\n",
              "      <td>Bangalore</td>\n",
              "      <td>1</td>\n",
              "      <td>Bangalore</td>\n",
              "      <td>107</td>\n",
              "      <td>2000</td>\n",
              "      <td>2200</td>\n",
              "      <td>2100.0</td>\n",
              "      <td>30 Oct 2021</td>\n",
              "    </tr>\n",
              "    <tr>\n",
              "      <th>2</th>\n",
              "      <td>Bangalore</td>\n",
              "      <td>1</td>\n",
              "      <td>Bangalore</td>\n",
              "      <td>107</td>\n",
              "      <td>1500</td>\n",
              "      <td>2500</td>\n",
              "      <td>2000.0</td>\n",
              "      <td>29 Oct 2021</td>\n",
              "    </tr>\n",
              "    <tr>\n",
              "      <th>3</th>\n",
              "      <td>Bangalore</td>\n",
              "      <td>1</td>\n",
              "      <td>Bangalore</td>\n",
              "      <td>107</td>\n",
              "      <td>2000</td>\n",
              "      <td>2200</td>\n",
              "      <td>2100.0</td>\n",
              "      <td>29 Oct 2021</td>\n",
              "    </tr>\n",
              "    <tr>\n",
              "      <th>4</th>\n",
              "      <td>Bangalore</td>\n",
              "      <td>1</td>\n",
              "      <td>Bangalore</td>\n",
              "      <td>107</td>\n",
              "      <td>1500</td>\n",
              "      <td>2500</td>\n",
              "      <td>2000.0</td>\n",
              "      <td>28 Oct 2021</td>\n",
              "    </tr>\n",
              "  </tbody>\n",
              "</table>\n",
              "</div>"
            ],
            "text/plain": [
              "    District  District_Code     Market  ...  Max_Price  Modal_Price         Date\n",
              "0  Bangalore              1  Bangalore  ...       2500       2000.0  30 Oct 2021\n",
              "1  Bangalore              1  Bangalore  ...       2200       2100.0  30 Oct 2021\n",
              "2  Bangalore              1  Bangalore  ...       2500       2000.0  29 Oct 2021\n",
              "3  Bangalore              1  Bangalore  ...       2200       2100.0  29 Oct 2021\n",
              "4  Bangalore              1  Bangalore  ...       2500       2000.0  28 Oct 2021\n",
              "\n",
              "[5 rows x 8 columns]"
            ]
          },
          "metadata": {},
          "execution_count": 93
        }
      ]
    },
    {
      "cell_type": "code",
      "metadata": {
        "colab": {
          "base_uri": "https://localhost:8080/"
        },
        "id": "2Rj3_8Tz4R-B",
        "outputId": "fbf80020-6dfe-432c-c472-b6639f167c6e"
      },
      "source": [
        "df_bangalore['Date'].describe()"
      ],
      "execution_count": 96,
      "outputs": [
        {
          "output_type": "execute_result",
          "data": {
            "text/plain": [
              "count           11645\n",
              "unique           3681\n",
              "top       28 Jan 2015\n",
              "freq               11\n",
              "Name: Date, dtype: object"
            ]
          },
          "metadata": {},
          "execution_count": 96
        }
      ]
    },
    {
      "cell_type": "code",
      "metadata": {
        "colab": {
          "base_uri": "https://localhost:8080/",
          "height": 204
        },
        "id": "b5zwpq-R4yPp",
        "outputId": "0559c1d3-60b8-482f-ae16-792632561762"
      },
      "source": [
        "df_bangalore.head()"
      ],
      "execution_count": 111,
      "outputs": [
        {
          "output_type": "execute_result",
          "data": {
            "text/html": [
              "<div>\n",
              "<style scoped>\n",
              "    .dataframe tbody tr th:only-of-type {\n",
              "        vertical-align: middle;\n",
              "    }\n",
              "\n",
              "    .dataframe tbody tr th {\n",
              "        vertical-align: top;\n",
              "    }\n",
              "\n",
              "    .dataframe thead th {\n",
              "        text-align: right;\n",
              "    }\n",
              "</style>\n",
              "<table border=\"1\" class=\"dataframe\">\n",
              "  <thead>\n",
              "    <tr style=\"text-align: right;\">\n",
              "      <th></th>\n",
              "      <th>District</th>\n",
              "      <th>District_Code</th>\n",
              "      <th>Market</th>\n",
              "      <th>Market_Code</th>\n",
              "      <th>Min_Price</th>\n",
              "      <th>Max_Price</th>\n",
              "      <th>Modal_Price</th>\n",
              "      <th>Date</th>\n",
              "    </tr>\n",
              "  </thead>\n",
              "  <tbody>\n",
              "    <tr>\n",
              "      <th>0</th>\n",
              "      <td>Bangalore</td>\n",
              "      <td>1</td>\n",
              "      <td>Bangalore</td>\n",
              "      <td>107</td>\n",
              "      <td>1500</td>\n",
              "      <td>2500</td>\n",
              "      <td>2000.0</td>\n",
              "      <td>30 Oct 2021</td>\n",
              "    </tr>\n",
              "    <tr>\n",
              "      <th>1</th>\n",
              "      <td>Bangalore</td>\n",
              "      <td>1</td>\n",
              "      <td>Bangalore</td>\n",
              "      <td>107</td>\n",
              "      <td>2000</td>\n",
              "      <td>2200</td>\n",
              "      <td>2100.0</td>\n",
              "      <td>30 Oct 2021</td>\n",
              "    </tr>\n",
              "    <tr>\n",
              "      <th>2</th>\n",
              "      <td>Bangalore</td>\n",
              "      <td>1</td>\n",
              "      <td>Bangalore</td>\n",
              "      <td>107</td>\n",
              "      <td>1500</td>\n",
              "      <td>2500</td>\n",
              "      <td>2000.0</td>\n",
              "      <td>29 Oct 2021</td>\n",
              "    </tr>\n",
              "    <tr>\n",
              "      <th>3</th>\n",
              "      <td>Bangalore</td>\n",
              "      <td>1</td>\n",
              "      <td>Bangalore</td>\n",
              "      <td>107</td>\n",
              "      <td>2000</td>\n",
              "      <td>2200</td>\n",
              "      <td>2100.0</td>\n",
              "      <td>29 Oct 2021</td>\n",
              "    </tr>\n",
              "    <tr>\n",
              "      <th>4</th>\n",
              "      <td>Bangalore</td>\n",
              "      <td>1</td>\n",
              "      <td>Bangalore</td>\n",
              "      <td>107</td>\n",
              "      <td>1500</td>\n",
              "      <td>2500</td>\n",
              "      <td>2000.0</td>\n",
              "      <td>28 Oct 2021</td>\n",
              "    </tr>\n",
              "  </tbody>\n",
              "</table>\n",
              "</div>"
            ],
            "text/plain": [
              "    District  District_Code     Market  ...  Max_Price  Modal_Price         Date\n",
              "0  Bangalore              1  Bangalore  ...       2500       2000.0  30 Oct 2021\n",
              "1  Bangalore              1  Bangalore  ...       2200       2100.0  30 Oct 2021\n",
              "2  Bangalore              1  Bangalore  ...       2500       2000.0  29 Oct 2021\n",
              "3  Bangalore              1  Bangalore  ...       2200       2100.0  29 Oct 2021\n",
              "4  Bangalore              1  Bangalore  ...       2500       2000.0  28 Oct 2021\n",
              "\n",
              "[5 rows x 8 columns]"
            ]
          },
          "metadata": {},
          "execution_count": 111
        }
      ]
    },
    {
      "cell_type": "code",
      "metadata": {
        "colab": {
          "base_uri": "https://localhost:8080/",
          "height": 35
        },
        "id": "8YYKHA4sIQp0",
        "outputId": "23c73c46-3cc8-4e50-9e1a-45aa2f4c5c02"
      },
      "source": [
        "df_bangalore['Date'][0][3:6]"
      ],
      "execution_count": 108,
      "outputs": [
        {
          "output_type": "execute_result",
          "data": {
            "application/vnd.google.colaboratory.intrinsic+json": {
              "type": "string"
            },
            "text/plain": [
              "'Oct'"
            ]
          },
          "metadata": {},
          "execution_count": 108
        }
      ]
    },
    {
      "cell_type": "code",
      "metadata": {
        "id": "yfLFGNZ3JCcM"
      },
      "source": [
        "dates=[]\n",
        "months=[]\n",
        "\n",
        "for i in range(df_bangalore.shape[0]):\n",
        "  dates.append(int(df_bangalore['Date'][i][:2]))\n",
        "  months.append(df_bangalore['Date'][i][3:6])"
      ],
      "execution_count": 107,
      "outputs": []
    },
    {
      "cell_type": "code",
      "metadata": {
        "colab": {
          "base_uri": "https://localhost:8080/"
        },
        "id": "Jd0m3-8tJi9r",
        "outputId": "b2e2801c-cb99-4f0b-acef-2c59c058c906"
      },
      "source": [
        "months[:6]"
      ],
      "execution_count": 112,
      "outputs": [
        {
          "output_type": "execute_result",
          "data": {
            "text/plain": [
              "['Oct', 'Oct', 'Oct', 'Oct', 'Oct', 'Oct']"
            ]
          },
          "metadata": {},
          "execution_count": 112
        }
      ]
    },
    {
      "cell_type": "code",
      "metadata": {
        "colab": {
          "base_uri": "https://localhost:8080/"
        },
        "id": "sZIzza6OJkFM",
        "outputId": "b314da45-e463-429c-8456-c4dc5a6c60ab"
      },
      "source": [
        "dates[:6]"
      ],
      "execution_count": 113,
      "outputs": [
        {
          "output_type": "execute_result",
          "data": {
            "text/plain": [
              "[30, 30, 29, 29, 28, 28]"
            ]
          },
          "metadata": {},
          "execution_count": 113
        }
      ]
    },
    {
      "cell_type": "code",
      "metadata": {
        "id": "Q6_kOrxnKOcP"
      },
      "source": [
        "for i in range(len(months)):\n",
        "  if months[i] == \"Jan\":\n",
        "    months[i] = 1\n",
        "  elif months[i] == \"Feb\":\n",
        "    months[i] = 2\n",
        "  elif months[i] == \"Mar\":\n",
        "    months[i] = 3\n",
        "  elif months[i] == \"Apr\":\n",
        "    months[i] = 4\n",
        "  elif months[i] == \"May\":\n",
        "    months[i] = 5\n",
        "  elif months[i] == \"Jun\":\n",
        "    months[i] = 6\n",
        "  elif months[i] == \"Jul\":\n",
        "    months[i] = 7\n",
        "  elif months[i] == \"Aug\":\n",
        "    months[i] = 8\n",
        "  elif months[i] == \"Sep\":\n",
        "    months[i] = 9\n",
        "  elif months[i] == \"Oct\":\n",
        "    months[i] = 10\n",
        "  elif months[i] == \"Nov\":\n",
        "    months[i] = 11\n",
        "  elif months[i] == \"Dec\":\n",
        "    months[i] = 12\n",
        "\n",
        "    \n",
        "\n"
      ],
      "execution_count": 114,
      "outputs": []
    },
    {
      "cell_type": "code",
      "metadata": {
        "id": "3aeCcQppLSR7"
      },
      "source": [
        "df_bangalore['Day'] = dates\n",
        "df_bangalore[\"Month\"] = months"
      ],
      "execution_count": 117,
      "outputs": []
    },
    {
      "cell_type": "code",
      "metadata": {
        "colab": {
          "base_uri": "https://localhost:8080/",
          "height": 204
        },
        "id": "PzHIWXpxLdxj",
        "outputId": "1111b3a8-46fb-419d-a408-5ade431352b2"
      },
      "source": [
        "df_bangalore.head()"
      ],
      "execution_count": 119,
      "outputs": [
        {
          "output_type": "execute_result",
          "data": {
            "text/html": [
              "<div>\n",
              "<style scoped>\n",
              "    .dataframe tbody tr th:only-of-type {\n",
              "        vertical-align: middle;\n",
              "    }\n",
              "\n",
              "    .dataframe tbody tr th {\n",
              "        vertical-align: top;\n",
              "    }\n",
              "\n",
              "    .dataframe thead th {\n",
              "        text-align: right;\n",
              "    }\n",
              "</style>\n",
              "<table border=\"1\" class=\"dataframe\">\n",
              "  <thead>\n",
              "    <tr style=\"text-align: right;\">\n",
              "      <th></th>\n",
              "      <th>District</th>\n",
              "      <th>District_Code</th>\n",
              "      <th>Market</th>\n",
              "      <th>Market_Code</th>\n",
              "      <th>Min_Price</th>\n",
              "      <th>Max_Price</th>\n",
              "      <th>Modal_Price</th>\n",
              "      <th>Date</th>\n",
              "      <th>Day</th>\n",
              "      <th>Month</th>\n",
              "    </tr>\n",
              "  </thead>\n",
              "  <tbody>\n",
              "    <tr>\n",
              "      <th>0</th>\n",
              "      <td>Bangalore</td>\n",
              "      <td>1</td>\n",
              "      <td>Bangalore</td>\n",
              "      <td>107</td>\n",
              "      <td>1500</td>\n",
              "      <td>2500</td>\n",
              "      <td>2000.0</td>\n",
              "      <td>30 Oct 2021</td>\n",
              "      <td>30</td>\n",
              "      <td>10</td>\n",
              "    </tr>\n",
              "    <tr>\n",
              "      <th>1</th>\n",
              "      <td>Bangalore</td>\n",
              "      <td>1</td>\n",
              "      <td>Bangalore</td>\n",
              "      <td>107</td>\n",
              "      <td>2000</td>\n",
              "      <td>2200</td>\n",
              "      <td>2100.0</td>\n",
              "      <td>30 Oct 2021</td>\n",
              "      <td>30</td>\n",
              "      <td>10</td>\n",
              "    </tr>\n",
              "    <tr>\n",
              "      <th>2</th>\n",
              "      <td>Bangalore</td>\n",
              "      <td>1</td>\n",
              "      <td>Bangalore</td>\n",
              "      <td>107</td>\n",
              "      <td>1500</td>\n",
              "      <td>2500</td>\n",
              "      <td>2000.0</td>\n",
              "      <td>29 Oct 2021</td>\n",
              "      <td>29</td>\n",
              "      <td>10</td>\n",
              "    </tr>\n",
              "    <tr>\n",
              "      <th>3</th>\n",
              "      <td>Bangalore</td>\n",
              "      <td>1</td>\n",
              "      <td>Bangalore</td>\n",
              "      <td>107</td>\n",
              "      <td>2000</td>\n",
              "      <td>2200</td>\n",
              "      <td>2100.0</td>\n",
              "      <td>29 Oct 2021</td>\n",
              "      <td>29</td>\n",
              "      <td>10</td>\n",
              "    </tr>\n",
              "    <tr>\n",
              "      <th>4</th>\n",
              "      <td>Bangalore</td>\n",
              "      <td>1</td>\n",
              "      <td>Bangalore</td>\n",
              "      <td>107</td>\n",
              "      <td>1500</td>\n",
              "      <td>2500</td>\n",
              "      <td>2000.0</td>\n",
              "      <td>28 Oct 2021</td>\n",
              "      <td>28</td>\n",
              "      <td>10</td>\n",
              "    </tr>\n",
              "  </tbody>\n",
              "</table>\n",
              "</div>"
            ],
            "text/plain": [
              "    District  District_Code     Market  ...         Date  Day  Month\n",
              "0  Bangalore              1  Bangalore  ...  30 Oct 2021   30     10\n",
              "1  Bangalore              1  Bangalore  ...  30 Oct 2021   30     10\n",
              "2  Bangalore              1  Bangalore  ...  29 Oct 2021   29     10\n",
              "3  Bangalore              1  Bangalore  ...  29 Oct 2021   29     10\n",
              "4  Bangalore              1  Bangalore  ...  28 Oct 2021   28     10\n",
              "\n",
              "[5 rows x 10 columns]"
            ]
          },
          "metadata": {},
          "execution_count": 119
        }
      ]
    },
    {
      "cell_type": "code",
      "metadata": {
        "id": "Z8MvOEX5Lmk8"
      },
      "source": [
        "price=[]\n",
        "for i in range(df_bangalore.shape[0]):\n",
        "  price.append(df_bangalore['Modal_Price'][i]//100)"
      ],
      "execution_count": 121,
      "outputs": []
    },
    {
      "cell_type": "code",
      "metadata": {
        "id": "ArYRW9hgMCek"
      },
      "source": [
        "df_bangalore['Price'] = price "
      ],
      "execution_count": 123,
      "outputs": []
    },
    {
      "cell_type": "code",
      "metadata": {
        "colab": {
          "base_uri": "https://localhost:8080/",
          "height": 204
        },
        "id": "X5PT_YMwMJLu",
        "outputId": "13466ad7-4491-4447-e43c-42610d34ab50"
      },
      "source": [
        "df_bangalore.head()"
      ],
      "execution_count": 125,
      "outputs": [
        {
          "output_type": "execute_result",
          "data": {
            "text/html": [
              "<div>\n",
              "<style scoped>\n",
              "    .dataframe tbody tr th:only-of-type {\n",
              "        vertical-align: middle;\n",
              "    }\n",
              "\n",
              "    .dataframe tbody tr th {\n",
              "        vertical-align: top;\n",
              "    }\n",
              "\n",
              "    .dataframe thead th {\n",
              "        text-align: right;\n",
              "    }\n",
              "</style>\n",
              "<table border=\"1\" class=\"dataframe\">\n",
              "  <thead>\n",
              "    <tr style=\"text-align: right;\">\n",
              "      <th></th>\n",
              "      <th>District</th>\n",
              "      <th>District_Code</th>\n",
              "      <th>Market</th>\n",
              "      <th>Market_Code</th>\n",
              "      <th>Min_Price</th>\n",
              "      <th>Max_Price</th>\n",
              "      <th>Modal_Price</th>\n",
              "      <th>Date</th>\n",
              "      <th>Day</th>\n",
              "      <th>Month</th>\n",
              "      <th>Price</th>\n",
              "    </tr>\n",
              "  </thead>\n",
              "  <tbody>\n",
              "    <tr>\n",
              "      <th>0</th>\n",
              "      <td>Bangalore</td>\n",
              "      <td>1</td>\n",
              "      <td>Bangalore</td>\n",
              "      <td>107</td>\n",
              "      <td>1500</td>\n",
              "      <td>2500</td>\n",
              "      <td>2000.0</td>\n",
              "      <td>30 Oct 2021</td>\n",
              "      <td>30</td>\n",
              "      <td>10</td>\n",
              "      <td>20.0</td>\n",
              "    </tr>\n",
              "    <tr>\n",
              "      <th>1</th>\n",
              "      <td>Bangalore</td>\n",
              "      <td>1</td>\n",
              "      <td>Bangalore</td>\n",
              "      <td>107</td>\n",
              "      <td>2000</td>\n",
              "      <td>2200</td>\n",
              "      <td>2100.0</td>\n",
              "      <td>30 Oct 2021</td>\n",
              "      <td>30</td>\n",
              "      <td>10</td>\n",
              "      <td>21.0</td>\n",
              "    </tr>\n",
              "    <tr>\n",
              "      <th>2</th>\n",
              "      <td>Bangalore</td>\n",
              "      <td>1</td>\n",
              "      <td>Bangalore</td>\n",
              "      <td>107</td>\n",
              "      <td>1500</td>\n",
              "      <td>2500</td>\n",
              "      <td>2000.0</td>\n",
              "      <td>29 Oct 2021</td>\n",
              "      <td>29</td>\n",
              "      <td>10</td>\n",
              "      <td>20.0</td>\n",
              "    </tr>\n",
              "    <tr>\n",
              "      <th>3</th>\n",
              "      <td>Bangalore</td>\n",
              "      <td>1</td>\n",
              "      <td>Bangalore</td>\n",
              "      <td>107</td>\n",
              "      <td>2000</td>\n",
              "      <td>2200</td>\n",
              "      <td>2100.0</td>\n",
              "      <td>29 Oct 2021</td>\n",
              "      <td>29</td>\n",
              "      <td>10</td>\n",
              "      <td>21.0</td>\n",
              "    </tr>\n",
              "    <tr>\n",
              "      <th>4</th>\n",
              "      <td>Bangalore</td>\n",
              "      <td>1</td>\n",
              "      <td>Bangalore</td>\n",
              "      <td>107</td>\n",
              "      <td>1500</td>\n",
              "      <td>2500</td>\n",
              "      <td>2000.0</td>\n",
              "      <td>28 Oct 2021</td>\n",
              "      <td>28</td>\n",
              "      <td>10</td>\n",
              "      <td>20.0</td>\n",
              "    </tr>\n",
              "  </tbody>\n",
              "</table>\n",
              "</div>"
            ],
            "text/plain": [
              "    District  District_Code     Market  ...  Day  Month  Price\n",
              "0  Bangalore              1  Bangalore  ...   30     10   20.0\n",
              "1  Bangalore              1  Bangalore  ...   30     10   21.0\n",
              "2  Bangalore              1  Bangalore  ...   29     10   20.0\n",
              "3  Bangalore              1  Bangalore  ...   29     10   21.0\n",
              "4  Bangalore              1  Bangalore  ...   28     10   20.0\n",
              "\n",
              "[5 rows x 11 columns]"
            ]
          },
          "metadata": {},
          "execution_count": 125
        }
      ]
    },
    {
      "cell_type": "code",
      "metadata": {
        "id": "GV_EFK9eMX5M"
      },
      "source": [
        "X = df_bangalore.values[:,[3,8,9]]\n",
        "Y = df_bangalore.values[:,10]"
      ],
      "execution_count": 129,
      "outputs": []
    },
    {
      "cell_type": "code",
      "metadata": {
        "colab": {
          "base_uri": "https://localhost:8080/"
        },
        "id": "uvxfeSRYWUrX",
        "outputId": "cbdd71f4-7ca3-4079-b477-a6701cab489c"
      },
      "source": [
        "X"
      ],
      "execution_count": 130,
      "outputs": [
        {
          "output_type": "execute_result",
          "data": {
            "text/plain": [
              "array([[107, 30, 10],\n",
              "       [107, 30, 10],\n",
              "       [107, 29, 10],\n",
              "       ...,\n",
              "       [773, 7, 1],\n",
              "       [773, 5, 1],\n",
              "       [773, 4, 1]], dtype=object)"
            ]
          },
          "metadata": {},
          "execution_count": 130
        }
      ]
    },
    {
      "cell_type": "code",
      "metadata": {
        "colab": {
          "base_uri": "https://localhost:8080/"
        },
        "id": "b9TFSZCrWhaF",
        "outputId": "0ac4b68e-067d-4d92-a3e3-18f25b535482"
      },
      "source": [
        " Y"
      ],
      "execution_count": 131,
      "outputs": [
        {
          "output_type": "execute_result",
          "data": {
            "text/plain": [
              "array([20.0, 21.0, 20.0, ..., 10.0, 11.0, 11.0], dtype=object)"
            ]
          },
          "metadata": {},
          "execution_count": 131
        }
      ]
    },
    {
      "cell_type": "markdown",
      "metadata": {
        "id": "8hOJKD0XY9FU"
      },
      "source": [
        "**Train Test Split**"
      ]
    },
    {
      "cell_type": "code",
      "metadata": {
        "id": "lkKvZ5N7WraM"
      },
      "source": [
        "from sklearn.model_selection import train_test_split\n",
        "X_train, X_test, Y_train, Y_test = train_test_split( X, Y, test_size=0.2, random_state=0)"
      ],
      "execution_count": 132,
      "outputs": []
    },
    {
      "cell_type": "markdown",
      "metadata": {
        "id": "se7eBWeHZCDd"
      },
      "source": [
        "# Model Fitting"
      ]
    },
    {
      "cell_type": "markdown",
      "metadata": {
        "id": "lxW9AWfNZK14"
      },
      "source": [
        "**Linear Regression**"
      ]
    },
    {
      "cell_type": "code",
      "metadata": {
        "colab": {
          "base_uri": "https://localhost:8080/"
        },
        "id": "U1BXQJUbXOEu",
        "outputId": "75f542b4-29d7-45d4-950c-390eb32b670d"
      },
      "source": [
        "from sklearn.linear_model import LinearRegression\n",
        "rgsr = LinearRegression()\n",
        "rgsr.fit(X_train,Y_train)"
      ],
      "execution_count": 154,
      "outputs": [
        {
          "output_type": "execute_result",
          "data": {
            "text/plain": [
              "LinearRegression(copy_X=True, fit_intercept=True, n_jobs=None, normalize=False)"
            ]
          },
          "metadata": {},
          "execution_count": 154
        }
      ]
    },
    {
      "cell_type": "code",
      "metadata": {
        "id": "BGHC18RIXUo4"
      },
      "source": [
        "y_pred= rgsr.predict(X_test)"
      ],
      "execution_count": 155,
      "outputs": []
    },
    {
      "cell_type": "code",
      "metadata": {
        "colab": {
          "base_uri": "https://localhost:8080/"
        },
        "id": "WL68NGP9XXpO",
        "outputId": "5e546b03-ee4d-4197-ab83-b2e115eaa099"
      },
      "source": [
        "y_pred[:10]"
      ],
      "execution_count": 156,
      "outputs": [
        {
          "output_type": "execute_result",
          "data": {
            "text/plain": [
              "array([13.28966646, 14.08207048, 15.7045969 , 16.55986486, 17.79943521,\n",
              "       13.28966646, 10.72386256, 16.8813033 , 15.62287378, 12.37782095])"
            ]
          },
          "metadata": {},
          "execution_count": 156
        }
      ]
    },
    {
      "cell_type": "code",
      "metadata": {
        "colab": {
          "base_uri": "https://localhost:8080/"
        },
        "id": "SKFwxuoHXZiO",
        "outputId": "2a10ade5-77b6-47a1-92ea-fb2c88779dd9"
      },
      "source": [
        "Y_test[:10]"
      ],
      "execution_count": 157,
      "outputs": [
        {
          "output_type": "execute_result",
          "data": {
            "text/plain": [
              "array([25.0, 10.0, 9.0, 10.0, 22.0, 18.0, 3.0, 20.0, 28.0, 18.0],\n",
              "      dtype=object)"
            ]
          },
          "metadata": {},
          "execution_count": 157
        }
      ]
    },
    {
      "cell_type": "code",
      "metadata": {
        "colab": {
          "base_uri": "https://localhost:8080/"
        },
        "id": "S7--YBMrZciL",
        "outputId": "b816f327-3425-4448-b054-e4033cd6d972"
      },
      "source": [
        "from sklearn import metrics\n",
        "print('MAE:', metrics.mean_absolute_error(Y_test, y_pred))  \n",
        "print('MSE:', metrics.mean_squared_error(Y_test, y_pred))  \n",
        "print('RMSE:', np.sqrt(metrics.mean_squared_error(Y_test, y_pred)))"
      ],
      "execution_count": 158,
      "outputs": [
        {
          "output_type": "stream",
          "name": "stdout",
          "text": [
            "MAE: 6.826446674471035\n",
            "MSE: 101.58740405464822\n",
            "RMSE: 10.079057696761549\n"
          ]
        }
      ]
    },
    {
      "cell_type": "markdown",
      "metadata": {
        "id": "0pVqYT15Zenb"
      },
      "source": [
        "**Lasso Regression**"
      ]
    },
    {
      "cell_type": "code",
      "metadata": {
        "colab": {
          "base_uri": "https://localhost:8080/"
        },
        "id": "OTCIqJgCXdl2",
        "outputId": "afd9fd15-f99e-4b2b-f362-60aee092dd79"
      },
      "source": [
        "\n",
        "from sklearn import linear_model\n",
        "rgsrL = linear_model.Lasso(alpha=0.1)\n",
        "rgsrL.fit(X_train,Y_train)"
      ],
      "execution_count": 159,
      "outputs": [
        {
          "output_type": "execute_result",
          "data": {
            "text/plain": [
              "Lasso(alpha=0.1, copy_X=True, fit_intercept=True, max_iter=1000,\n",
              "      normalize=False, positive=False, precompute=False, random_state=None,\n",
              "      selection='cyclic', tol=0.0001, warm_start=False)"
            ]
          },
          "metadata": {},
          "execution_count": 159
        }
      ]
    },
    {
      "cell_type": "code",
      "metadata": {
        "id": "EiXjV9DeXpTG"
      },
      "source": [
        "y_pred= rgsrL.predict(X_test)\n"
      ],
      "execution_count": 160,
      "outputs": []
    },
    {
      "cell_type": "code",
      "metadata": {
        "colab": {
          "base_uri": "https://localhost:8080/"
        },
        "id": "29-ODYblXsyE",
        "outputId": "bfbb669d-472a-4c3a-d1d0-f08e2b412a68"
      },
      "source": [
        "y_pred[:10]"
      ],
      "execution_count": 162,
      "outputs": [
        {
          "output_type": "execute_result",
          "data": {
            "text/plain": [
              "array([13.21317147, 14.00129766, 15.57755004, 16.36567623, 17.52656239,\n",
              "       13.21317147, 10.8487929 , 16.7384362 , 15.57755004, 12.42504528])"
            ]
          },
          "metadata": {},
          "execution_count": 162
        }
      ]
    },
    {
      "cell_type": "code",
      "metadata": {
        "colab": {
          "base_uri": "https://localhost:8080/"
        },
        "id": "ziw-oDyrZrCC",
        "outputId": "542f30da-f298-47b0-bd50-f4497edbca35"
      },
      "source": [
        "print('MAE:', metrics.mean_absolute_error(Y_test, y_pred))  \n",
        "print('MSE:', metrics.mean_squared_error(Y_test, y_pred))  \n",
        "print('RMSE:', np.sqrt(metrics.mean_squared_error(Y_test, y_pred)))"
      ],
      "execution_count": 161,
      "outputs": [
        {
          "output_type": "stream",
          "name": "stdout",
          "text": [
            "MAE: 6.827195410048399\n",
            "MSE: 101.65512658727093\n",
            "RMSE: 10.082416703711017\n"
          ]
        }
      ]
    },
    {
      "cell_type": "markdown",
      "metadata": {
        "id": "QDENIM5NZ0aO"
      },
      "source": [
        "**SVM**"
      ]
    },
    {
      "cell_type": "code",
      "metadata": {
        "id": "ZnvdKZTsXutF"
      },
      "source": [
        "from sklearn import svm\n",
        "rgsrSVM = svm.SVR()\n",
        "rgsrSVM.fit(X_train,Y_train)\n",
        "y_pred= rgsrSVM.predict(X_test)"
      ],
      "execution_count": 170,
      "outputs": []
    },
    {
      "cell_type": "code",
      "metadata": {
        "colab": {
          "base_uri": "https://localhost:8080/"
        },
        "id": "4s1bxUVPX54W",
        "outputId": "44668cb6-a5dc-4677-c311-c9fdbe871106"
      },
      "source": [
        "y_pred[:10]"
      ],
      "execution_count": 171,
      "outputs": [
        {
          "output_type": "execute_result",
          "data": {
            "text/plain": [
              "array([ 8.87982076, 10.20448626, 12.22871631, 12.10005382, 11.74915701,\n",
              "        8.87982076,  6.57819393, 10.3934437 , 12.59261938,  7.94916579])"
            ]
          },
          "metadata": {},
          "execution_count": 171
        }
      ]
    },
    {
      "cell_type": "code",
      "metadata": {
        "colab": {
          "base_uri": "https://localhost:8080/"
        },
        "id": "JfPHHS53Z501",
        "outputId": "d05979d2-4597-4e18-b68b-7b08e9cf92c5"
      },
      "source": [
        "print('MAE:', metrics.mean_absolute_error(Y_test, y_pred))  \n",
        "print('MSE:', metrics.mean_squared_error(Y_test, y_pred))  \n",
        "print('RMSE:', np.sqrt(metrics.mean_squared_error(Y_test, y_pred)))"
      ],
      "execution_count": 172,
      "outputs": [
        {
          "output_type": "stream",
          "name": "stdout",
          "text": [
            "MAE: 5.9411955392380325\n",
            "MSE: 100.91827244298825\n",
            "RMSE: 10.045808700298261\n"
          ]
        }
      ]
    },
    {
      "cell_type": "markdown",
      "metadata": {
        "id": "c3r0J9YiZ84b"
      },
      "source": [
        "**NN- MLPRegressor**"
      ]
    },
    {
      "cell_type": "code",
      "metadata": {
        "id": "8vrB2jTsaDBp"
      },
      "source": [
        "from sklearn.neural_network import MLPRegressor\n",
        "from sklearn.preprocessing import StandardScaler"
      ],
      "execution_count": 165,
      "outputs": []
    },
    {
      "cell_type": "code",
      "metadata": {
        "id": "rGVOWEPFX9gk"
      },
      "source": [
        "scaler = StandardScaler()\n",
        "scaler.fit(X_train)\n",
        "X_train = scaler.transform(X_train) \n",
        "X_test = scaler.transform(X_test)\n",
        "regr = MLPRegressor(random_state=1, max_iter=500).fit(X_train, Y_train)\n",
        "y_pred= regr.predict(X_test)"
      ],
      "execution_count": 166,
      "outputs": []
    },
    {
      "cell_type": "code",
      "metadata": {
        "colab": {
          "base_uri": "https://localhost:8080/"
        },
        "id": "c_oGYJ7caLKB",
        "outputId": "68cb0809-c115-49be-91b5-6127ec5635b7"
      },
      "source": [
        "X_train"
      ],
      "execution_count": 167,
      "outputs": [
        {
          "output_type": "execute_result",
          "data": {
            "text/plain": [
              "array([[-0.35077952, -1.23591223, -0.05982693],\n",
              "       [-0.35077952, -1.00994846, -0.95444605],\n",
              "       [-0.35077952, -1.12293034,  0.53658581],\n",
              "       ...,\n",
              "       [ 0.97746805,  0.23285233,  1.7294113 ],\n",
              "       [ 1.65140648,  1.13670744,  1.13299856],\n",
              "       [-0.35077952,  0.34583422,  1.7294113 ]])"
            ]
          },
          "metadata": {},
          "execution_count": 167
        }
      ]
    },
    {
      "cell_type": "code",
      "metadata": {
        "colab": {
          "base_uri": "https://localhost:8080/"
        },
        "id": "DHFX0WajYe6f",
        "outputId": "39766d84-8977-4701-8665-b8f4badd993d"
      },
      "source": [
        "y_pred[:10]"
      ],
      "execution_count": 168,
      "outputs": [
        {
          "output_type": "execute_result",
          "data": {
            "text/plain": [
              "array([10.40513178, 12.28250889, 16.13291522, 16.77560351, 14.81514119,\n",
              "       10.40513178,  6.82536185, 13.53531827, 17.25515726,  9.3695401 ])"
            ]
          },
          "metadata": {},
          "execution_count": 168
        }
      ]
    },
    {
      "cell_type": "code",
      "metadata": {
        "colab": {
          "base_uri": "https://localhost:8080/"
        },
        "id": "xzhzIokuYjee",
        "outputId": "45e4021e-96dd-4599-fb1e-b5298c1220b1"
      },
      "source": [
        "from sklearn import metrics\n",
        "print('MAE:', metrics.mean_absolute_error(Y_test, y_pred))  \n",
        "print('MSE:', metrics.mean_squared_error(Y_test, y_pred))  \n",
        "print('RMSE:', np.sqrt(metrics.mean_squared_error(Y_test, y_pred)))"
      ],
      "execution_count": 169,
      "outputs": [
        {
          "output_type": "stream",
          "name": "stdout",
          "text": [
            "MAE: 6.338889404249081\n",
            "MSE: 87.86862069660079\n",
            "RMSE: 9.373826363689526\n"
          ]
        }
      ]
    },
    {
      "cell_type": "code",
      "metadata": {
        "id": "8xaTIEbsYvLG"
      },
      "source": [
        ""
      ],
      "execution_count": null,
      "outputs": []
    }
  ]
}